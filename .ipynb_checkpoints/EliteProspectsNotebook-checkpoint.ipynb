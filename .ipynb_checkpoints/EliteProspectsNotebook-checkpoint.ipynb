{
 "cells": [
  {
   "cell_type": "markdown",
   "metadata": {
    "collapsed": true
   },
   "source": [
    "import pandas as pd\n",
    "stats = pd.read_csv('player_stats_data_test.csv')\n",
    "print(stats.info())"
   ]
  },
  {
   "cell_type": "code",
   "execution_count": 20,
   "metadata": {},
   "outputs": [],
   "source": [
    "import pandas as pd\n",
    "from requests import get\n",
    "from bs4 import BeautifulSoup\n",
    "from datetime import datetime\n",
    "from time import time\n",
    "from time import sleep\n",
    "import pandas as pd\n",
    "import matplotlib.pyplot as plt\n",
    "from pandas.plotting import register_matplotlib_converters\n",
    "register_matplotlib_converters()\n",
    "import re\n",
    "import pickle\n",
    "from itertools import islice, chain, repeat"
   ]
  },
  {
   "cell_type": "markdown",
   "metadata": {},
   "source": [
    "## Eliteprospects scraping data"
   ]
  },
  {
   "cell_type": "markdown",
   "metadata": {},
   "source": [
    "#### meta_stats_0"
   ]
  },
  {
   "cell_type": "code",
   "execution_count": 9,
   "metadata": {},
   "outputs": [],
   "source": [
    "meta = pd.read_csv('Cohorts/elite_prospects_meta_stats_0.csv')\n",
    "meta['date_of_birth'] = pd.to_datetime(meta['date_of_birth'])"
   ]
  },
  {
   "cell_type": "code",
   "execution_count": 10,
   "metadata": {},
   "outputs": [
    {
     "data": {
      "text/html": [
       "<div>\n",
       "<style scoped>\n",
       "    .dataframe tbody tr th:only-of-type {\n",
       "        vertical-align: middle;\n",
       "    }\n",
       "\n",
       "    .dataframe tbody tr th {\n",
       "        vertical-align: top;\n",
       "    }\n",
       "\n",
       "    .dataframe thead th {\n",
       "        text-align: right;\n",
       "    }\n",
       "</style>\n",
       "<table border=\"1\" class=\"dataframe\">\n",
       "  <thead>\n",
       "    <tr style=\"text-align: right;\">\n",
       "      <th></th>\n",
       "      <th>ep_id</th>\n",
       "      <th>full_name</th>\n",
       "      <th>date_of_birth</th>\n",
       "      <th>hometown</th>\n",
       "      <th>country</th>\n",
       "      <th>youth_team</th>\n",
       "      <th>position</th>\n",
       "      <th>height</th>\n",
       "      <th>weight</th>\n",
       "      <th>shoots</th>\n",
       "    </tr>\n",
       "  </thead>\n",
       "  <tbody>\n",
       "    <tr>\n",
       "      <th>0</th>\n",
       "      <td>11101</td>\n",
       "      <td>Radek Meidl</td>\n",
       "      <td>1988-11-25</td>\n",
       "      <td>Prostejov</td>\n",
       "      <td>Czech</td>\n",
       "      <td>HC Olomouc</td>\n",
       "      <td>LW</td>\n",
       "      <td>191</td>\n",
       "      <td>3</td>\n",
       "      <td>L</td>\n",
       "    </tr>\n",
       "    <tr>\n",
       "      <th>1</th>\n",
       "      <td>40288</td>\n",
       "      <td>Nathan Snowie</td>\n",
       "      <td>1988-01-07</td>\n",
       "      <td>Charlottetown</td>\n",
       "      <td>Canada</td>\n",
       "      <td>-</td>\n",
       "      <td>C</td>\n",
       "      <td>183</td>\n",
       "      <td>86</td>\n",
       "      <td>L</td>\n",
       "    </tr>\n",
       "    <tr>\n",
       "      <th>2</th>\n",
       "      <td>106101</td>\n",
       "      <td>Shawn Boudreau</td>\n",
       "      <td>1994-03-17</td>\n",
       "      <td>Kentville</td>\n",
       "      <td>Canada</td>\n",
       "      <td>-</td>\n",
       "      <td>LW</td>\n",
       "      <td>188</td>\n",
       "      <td>76</td>\n",
       "      <td>L</td>\n",
       "    </tr>\n",
       "    <tr>\n",
       "      <th>3</th>\n",
       "      <td>155239</td>\n",
       "      <td>Mitch Jones</td>\n",
       "      <td>1995-02-08</td>\n",
       "      <td>Rochester</td>\n",
       "      <td>USA</td>\n",
       "      <td>-</td>\n",
       "      <td>D</td>\n",
       "      <td>180</td>\n",
       "      <td>90</td>\n",
       "      <td>L</td>\n",
       "    </tr>\n",
       "    <tr>\n",
       "      <th>4</th>\n",
       "      <td>268659</td>\n",
       "      <td>Matt Brassard</td>\n",
       "      <td>1998-08-08</td>\n",
       "      <td>Barrie</td>\n",
       "      <td>Canada</td>\n",
       "      <td>-</td>\n",
       "      <td>D</td>\n",
       "      <td>188</td>\n",
       "      <td>89</td>\n",
       "      <td>R</td>\n",
       "    </tr>\n",
       "  </tbody>\n",
       "</table>\n",
       "</div>"
      ],
      "text/plain": [
       "    ep_id       full_name date_of_birth       hometown country  youth_team  \\\n",
       "0   11101     Radek Meidl    1988-11-25      Prostejov   Czech  HC Olomouc   \n",
       "1   40288   Nathan Snowie    1988-01-07  Charlottetown  Canada           -   \n",
       "2  106101  Shawn Boudreau    1994-03-17      Kentville  Canada           -   \n",
       "3  155239     Mitch Jones    1995-02-08      Rochester     USA           -   \n",
       "4  268659   Matt Brassard    1998-08-08         Barrie  Canada           -   \n",
       "\n",
       "  position  height  weight shoots  \n",
       "0       LW     191       3      L  \n",
       "1        C     183      86      L  \n",
       "2       LW     188      76      L  \n",
       "3        D     180      90      L  \n",
       "4        D     188      89      R  "
      ]
     },
     "execution_count": 10,
     "metadata": {},
     "output_type": "execute_result"
    }
   ],
   "source": [
    "meta.head()"
   ]
  },
  {
   "cell_type": "code",
   "execution_count": 11,
   "metadata": {},
   "outputs": [
    {
     "data": {
      "text/html": [
       "<div>\n",
       "<style scoped>\n",
       "    .dataframe tbody tr th:only-of-type {\n",
       "        vertical-align: middle;\n",
       "    }\n",
       "\n",
       "    .dataframe tbody tr th {\n",
       "        vertical-align: top;\n",
       "    }\n",
       "\n",
       "    .dataframe thead th {\n",
       "        text-align: right;\n",
       "    }\n",
       "</style>\n",
       "<table border=\"1\" class=\"dataframe\">\n",
       "  <thead>\n",
       "    <tr style=\"text-align: right;\">\n",
       "      <th></th>\n",
       "      <th>ep_id</th>\n",
       "      <th>height</th>\n",
       "      <th>weight</th>\n",
       "    </tr>\n",
       "  </thead>\n",
       "  <tbody>\n",
       "    <tr>\n",
       "      <th>count</th>\n",
       "      <td>120.000000</td>\n",
       "      <td>120.000000</td>\n",
       "      <td>120.000000</td>\n",
       "    </tr>\n",
       "    <tr>\n",
       "      <th>mean</th>\n",
       "      <td>127609.541667</td>\n",
       "      <td>185.250000</td>\n",
       "      <td>80.841667</td>\n",
       "    </tr>\n",
       "    <tr>\n",
       "      <th>std</th>\n",
       "      <td>119200.046765</td>\n",
       "      <td>6.438135</td>\n",
       "      <td>22.369320</td>\n",
       "    </tr>\n",
       "    <tr>\n",
       "      <th>min</th>\n",
       "      <td>3693.000000</td>\n",
       "      <td>169.000000</td>\n",
       "      <td>2.000000</td>\n",
       "    </tr>\n",
       "    <tr>\n",
       "      <th>25%</th>\n",
       "      <td>33627.000000</td>\n",
       "      <td>180.000000</td>\n",
       "      <td>80.750000</td>\n",
       "    </tr>\n",
       "    <tr>\n",
       "      <th>50%</th>\n",
       "      <td>82346.000000</td>\n",
       "      <td>185.000000</td>\n",
       "      <td>86.000000</td>\n",
       "    </tr>\n",
       "    <tr>\n",
       "      <th>75%</th>\n",
       "      <td>204299.000000</td>\n",
       "      <td>190.000000</td>\n",
       "      <td>92.000000</td>\n",
       "    </tr>\n",
       "    <tr>\n",
       "      <th>max</th>\n",
       "      <td>472663.000000</td>\n",
       "      <td>201.000000</td>\n",
       "      <td>98.000000</td>\n",
       "    </tr>\n",
       "  </tbody>\n",
       "</table>\n",
       "</div>"
      ],
      "text/plain": [
       "               ep_id      height      weight\n",
       "count     120.000000  120.000000  120.000000\n",
       "mean   127609.541667  185.250000   80.841667\n",
       "std    119200.046765    6.438135   22.369320\n",
       "min      3693.000000  169.000000    2.000000\n",
       "25%     33627.000000  180.000000   80.750000\n",
       "50%     82346.000000  185.000000   86.000000\n",
       "75%    204299.000000  190.000000   92.000000\n",
       "max    472663.000000  201.000000   98.000000"
      ]
     },
     "execution_count": 11,
     "metadata": {},
     "output_type": "execute_result"
    }
   ],
   "source": [
    "meta.describe()"
   ]
  },
  {
   "cell_type": "code",
   "execution_count": 12,
   "metadata": {},
   "outputs": [
    {
     "name": "stdout",
     "output_type": "stream",
     "text": [
      "<class 'pandas.core.frame.DataFrame'>\n",
      "RangeIndex: 120 entries, 0 to 119\n",
      "Data columns (total 10 columns):\n",
      "ep_id            120 non-null int64\n",
      "full_name        120 non-null object\n",
      "date_of_birth    120 non-null datetime64[ns]\n",
      "hometown         118 non-null object\n",
      "country          120 non-null object\n",
      "youth_team       120 non-null object\n",
      "position         120 non-null object\n",
      "height           120 non-null int64\n",
      "weight           120 non-null int64\n",
      "shoots           120 non-null object\n",
      "dtypes: datetime64[ns](1), int64(3), object(6)\n",
      "memory usage: 9.5+ KB\n"
     ]
    }
   ],
   "source": [
    "meta.info()"
   ]
  },
  {
   "cell_type": "code",
   "execution_count": null,
   "metadata": {},
   "outputs": [],
   "source": []
  },
  {
   "cell_type": "code",
   "execution_count": 23,
   "metadata": {},
   "outputs": [
    {
     "data": {
      "image/png": "[encoded data removed]",
      "text/plain": [
       "<Figure size 900x504 with 1 Axes>"
      ]
     },
     "metadata": {
      "needs_background": "light"
     },
     "output_type": "display_data"
    }
   ],
   "source": [
    "\n",
    "fig, ax = plt.subplots(1, figsize = [12.5, 7])\n",
    "\n",
    "ax.scatter(meta['height'], meta['weight'])\n",
    "\n",
    "plt.show()"
   ]
  },
  {
   "cell_type": "code",
   "execution_count": null,
   "metadata": {},
   "outputs": [],
   "source": []
  },
  {
   "cell_type": "markdown",
   "metadata": {},
   "source": [
    "#### player_stats_0"
   ]
  },
  {
   "cell_type": "code",
   "execution_count": null,
   "metadata": {},
   "outputs": [],
   "source": [
    "player = pd.read_csv('Cohorts/elite_prospects_player_stats_0.csv')"
   ]
  },
  {
   "cell_type": "code",
   "execution_count": 4,
   "metadata": {},
   "outputs": [
    {
     "data": {
      "text/html": [
       "<div>\n",
       "<style scoped>\n",
       "    .dataframe tbody tr th:only-of-type {\n",
       "        vertical-align: middle;\n",
       "    }\n",
       "\n",
       "    .dataframe tbody tr th {\n",
       "        vertical-align: top;\n",
       "    }\n",
       "\n",
       "    .dataframe thead th {\n",
       "        text-align: right;\n",
       "    }\n",
       "</style>\n",
       "<table border=\"1\" class=\"dataframe\">\n",
       "  <thead>\n",
       "    <tr style=\"text-align: right;\">\n",
       "      <th></th>\n",
       "      <th>ep_id</th>\n",
       "      <th>season</th>\n",
       "      <th>team</th>\n",
       "      <th>league</th>\n",
       "      <th>games_played</th>\n",
       "      <th>goals</th>\n",
       "      <th>assists</th>\n",
       "      <th>penalty_min</th>\n",
       "      <th>plus_minus</th>\n",
       "    </tr>\n",
       "  </thead>\n",
       "  <tbody>\n",
       "    <tr>\n",
       "      <th>0</th>\n",
       "      <td>11101</td>\n",
       "      <td>2006-07</td>\n",
       "      <td>Seattle Thunderbirds</td>\n",
       "      <td>WHL</td>\n",
       "      <td>72</td>\n",
       "      <td>16</td>\n",
       "      <td>11</td>\n",
       "      <td>89</td>\n",
       "      <td>3</td>\n",
       "    </tr>\n",
       "    <tr>\n",
       "      <th>1</th>\n",
       "      <td>11101</td>\n",
       "      <td>2007-08</td>\n",
       "      <td>Tri-City Americans</td>\n",
       "      <td>WHL</td>\n",
       "      <td>26</td>\n",
       "      <td>8</td>\n",
       "      <td>8</td>\n",
       "      <td>14</td>\n",
       "      <td>0</td>\n",
       "    </tr>\n",
       "    <tr>\n",
       "      <th>2</th>\n",
       "      <td>40288</td>\n",
       "      <td>2003-04</td>\n",
       "      <td>Cornwall Thunder Midget AAA</td>\n",
       "      <td>NBPEIMHL</td>\n",
       "      <td>0</td>\n",
       "      <td>0</td>\n",
       "      <td>0</td>\n",
       "      <td>0</td>\n",
       "      <td>0</td>\n",
       "    </tr>\n",
       "    <tr>\n",
       "      <th>3</th>\n",
       "      <td>40288</td>\n",
       "      <td>2004-05</td>\n",
       "      <td>Charlottetown Abbies</td>\n",
       "      <td>MJAHL</td>\n",
       "      <td>1</td>\n",
       "      <td>0</td>\n",
       "      <td>0</td>\n",
       "      <td>0</td>\n",
       "      <td>0</td>\n",
       "    </tr>\n",
       "    <tr>\n",
       "      <th>4</th>\n",
       "      <td>40288</td>\n",
       "      <td>2005-06</td>\n",
       "      <td>Prince Edward Island Rocket</td>\n",
       "      <td>QMJHL</td>\n",
       "      <td>61</td>\n",
       "      <td>6</td>\n",
       "      <td>4</td>\n",
       "      <td>26</td>\n",
       "      <td>-11</td>\n",
       "    </tr>\n",
       "  </tbody>\n",
       "</table>\n",
       "</div>"
      ],
      "text/plain": [
       "   ep_id   season                         team    league  games_played  goals  \\\n",
       "0  11101  2006-07         Seattle Thunderbirds       WHL            72     16   \n",
       "1  11101  2007-08           Tri-City Americans       WHL            26      8   \n",
       "2  40288  2003-04  Cornwall Thunder Midget AAA  NBPEIMHL             0      0   \n",
       "3  40288  2004-05         Charlottetown Abbies     MJAHL             1      0   \n",
       "4  40288  2005-06  Prince Edward Island Rocket     QMJHL            61      6   \n",
       "\n",
       "   assists  penalty_min  plus_minus  \n",
       "0       11           89           3  \n",
       "1        8           14           0  \n",
       "2        0            0           0  \n",
       "3        0            0           0  \n",
       "4        4           26         -11  "
      ]
     },
     "execution_count": 4,
     "metadata": {},
     "output_type": "execute_result"
    }
   ],
   "source": [
    "player.head()"
   ]
  },
  {
   "cell_type": "code",
   "execution_count": null,
   "metadata": {},
   "outputs": [],
   "source": []
  },
  {
   "cell_type": "code",
   "execution_count": null,
   "metadata": {},
   "outputs": [],
   "source": []
  },
  {
   "cell_type": "code",
   "execution_count": null,
   "metadata": {},
   "outputs": [],
   "source": [
    "stats = pd.read_csv('player_stats_data_test.csv')\n",
    "stats.info()"
   ]
  },
  {
   "cell_type": "code",
   "execution_count": null,
   "metadata": {},
   "outputs": [],
   "source": [
    "stats.tail()"
   ]
  },
  {
   "cell_type": "code",
   "execution_count": null,
   "metadata": {},
   "outputs": [],
   "source": [
    "with open('listfile.data', 'rb') as filehandle:\n",
    "    urls = pickle.load(filehandle)\n",
    "\n",
    "def chunk_pad(it, size, padval=None):\n",
    "    it = chain(iter(it), repeat(padval))\n",
    "    return iter(lambda: tuple(islice(it, size)), (padval,) * size)"
   ]
  },
  {
   "cell_type": "code",
   "execution_count": null,
   "metadata": {},
   "outputs": [],
   "source": [
    "player_url_list = list(chunk_pad(urls, 120))\n",
    "cohort = player_url_list[1]\n",
    "players_url = [str(i) for i in cohort]"
   ]
  },
  {
   "cell_type": "code",
   "execution_count": null,
   "metadata": {},
   "outputs": [],
   "source": []
  },
  {
   "cell_type": "code",
   "execution_count": null,
   "metadata": {},
   "outputs": [],
   "source": []
  },
  {
   "cell_type": "code",
   "execution_count": null,
   "metadata": {},
   "outputs": [],
   "source": [
    "stats['EP_id'].nunique()"
   ]
  },
  {
   "cell_type": "code",
   "execution_count": null,
   "metadata": {},
   "outputs": [],
   "source": [
    "stats.describe()"
   ]
  },
  {
   "cell_type": "code",
   "execution_count": null,
   "metadata": {},
   "outputs": [],
   "source": [
    "plt.rcParams.update({'font.size': 16})\n",
    "plt.rcParams['axes.axisbelow'] = True\n",
    "\n",
    "fig, (ax1, ax2, ax3, ax4) = plt.subplots(4, figsize = [8, 10])\n",
    "\n",
    "\n",
    "ax1.hist(stats['plus_minus'], bins = 50, color = '#002147')\n",
    "\n",
    "ax1.axvline(stats['plus_minus'].median(), color = '#a3c1ab', lw = 2.5)\n",
    "ax1.axvline(stats['plus_minus'].mean(), color = '#600000', lw = 2.5)\n",
    "ax1.set_title('Plus / Minus')\n",
    "\n",
    "\n",
    "ax2.hist(stats['g'], bins = 35, color = '#002147')\n",
    "\n",
    "ax2.axvline(stats['g'].median(), color = '#a3c1ab', lw = 2.5)\n",
    "ax2.axvline(stats['g'].mean(), color = '#600000', lw = 2.5)\n",
    "ax2.set_title('Goals')\n",
    "\n",
    "\n",
    "ax3.hist(stats['a'], bins = 35, color = '#002147')\n",
    "\n",
    "ax3.axvline(stats['a'].median(), color = '#a3c1ab', lw = 2.5)\n",
    "ax3.axvline(stats['a'].mean(), color = '#600000', lw = 2.5)\n",
    "ax3.set_title('Assists')\n",
    "\n",
    "\n",
    "ax4.hist(stats['gp'], bins = 25, color = '#002147')\n",
    "\n",
    "ax4.axvline(stats['gp'].median(), color = '#a3c1ab', lw = 2.5)\n",
    "ax4.axvline(stats['gp'].mean(), color = '#600000', lw = 2.5)\n",
    "ax4.set_title('Games Played')\n",
    "\n",
    "ax1.minorticks_on()\n",
    "ax1.grid(b = True, which = 'minor', color = '#666666', linestyle = '-', alpha = 0.2)\n",
    "\n",
    "ax2.minorticks_on()\n",
    "ax2.grid(b = True, which = 'minor', color = '#666666', linestyle = '-', alpha = 0.2)\n",
    "\n",
    "ax3.minorticks_on()\n",
    "ax3.grid(b = True, which = 'minor', color = '#666666', linestyle = '-', alpha = 0.2)\n",
    "\n",
    "ax4.minorticks_on()\n",
    "ax4.grid(b = True, which = 'minor', color = '#666666', linestyle = '-', alpha = 0.2)\n",
    "\n",
    "plt.tight_layout()\n",
    "plt.savefig('player_stat_histograms.png')\n",
    "\n",
    "plt.show()"
   ]
  },
  {
   "cell_type": "code",
   "execution_count": null,
   "metadata": {},
   "outputs": [],
   "source": []
  },
  {
   "cell_type": "code",
   "execution_count": null,
   "metadata": {},
   "outputs": [],
   "source": [
    "meta.head()"
   ]
  },
  {
   "cell_type": "code",
   "execution_count": null,
   "metadata": {},
   "outputs": [],
   "source": [
    "player.head()"
   ]
  },
  {
   "cell_type": "code",
   "execution_count": null,
   "metadata": {},
   "outputs": [],
   "source": [
    "fig, ax = plt.subplots(1, figsize = [12.5, 7])\n",
    "\n",
    "ax.hist(meta['height'], bins = 12, color = '#002147')\n",
    "ax.set_title('Height')\n",
    "\n",
    "ax.minorticks_on()\n",
    "ax.grid(b = True, which = 'minor', color = '#666666', linestyle = '-', alpha = 0.2)\n",
    "\n",
    "plt.show()"
   ]
  },
  {
   "cell_type": "code",
   "execution_count": null,
   "metadata": {},
   "outputs": [],
   "source": [
    "fig, ax = plt.subplots(1, figsize = [12.5, 7])\n",
    "\n",
    "ax.hist(meta['weight'], bins = 20, color = '#002147')\n",
    "ax.set_title('Weight')\n",
    "\n",
    "ax.minorticks_on()\n",
    "ax.grid(b = True, which = 'minor', color = '#666666', linestyle = '-', alpha = 0.2)\n",
    "\n",
    "plt.show()"
   ]
  },
  {
   "cell_type": "code",
   "execution_count": null,
   "metadata": {},
   "outputs": [],
   "source": [
    "grouped = meta.groupby('position').agg({'height': 'median'}).reset_index()\n",
    "\n",
    "grouped['position'] = grouped.replace({\n",
    "    'W/C/D': 'D',\n",
    "    'W/C': 'Forward',\n",
    "    'RW/LW': 'Forward',\n",
    "    'LW/RW': 'Forward',\n",
    "    'LW/D': 'D',\n",
    "    'LW/C/D': 'D',\n",
    "    'LW/C': 'Forward',\n",
    "    'F': 'Forward',\n",
    "    'D/W': 'D',\n",
    "    'C/RW': 'Forward',\n",
    "    'C/LW': 'Forward'\n",
    "})\n",
    "\n",
    "fig, ax1 = plt.subplots(1, figsize = [12.5, 7])\n",
    "\n",
    "ax1.bar(grouped['position'], grouped['height'], color = '#002147')\n",
    "\n",
    "ax.set_ylim(bottom = 175, top = 200)\n",
    "\n",
    "plt.show()"
   ]
  },
  {
   "cell_type": "code",
   "execution_count": null,
   "metadata": {},
   "outputs": [],
   "source": []
  }
 ],
 "metadata": {
  "kernelspec": {
   "display_name": "Python 3",
   "language": "python",
   "name": "python3"
  },
  "language_info": {
   "codemirror_mode": {
    "name": "ipython",
    "version": 3
   },
   "file_extension": ".py",
   "mimetype": "text/x-python",
   "name": "python",
   "nbconvert_exporter": "python",
   "pygments_lexer": "ipython3",
   "version": "3.7.3"
  }
 },
 "nbformat": 4,
 "nbformat_minor": 1
}
