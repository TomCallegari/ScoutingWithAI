{
 "cells": [
  {
   "cell_type": "markdown",
   "metadata": {},
   "source": [
    "### Package Dependencies"
   ]
  },
  {
   "cell_type": "code",
   "execution_count": 1,
   "metadata": {},
   "outputs": [],
   "source": [
    "import pymongo\n",
    "import pandas as pd\n",
    "import numpy as np\n",
    "import matplotlib.pyplot as plt\n",
    "import seaborn as sns\n",
    "import re\n",
    "from datetime import datetime\n",
    "\n",
    "pd.set_option('display.max_rows', 500)\n",
    "pd.set_option('display.max_columns', 500)"
   ]
  },
  {
   "cell_type": "markdown",
   "metadata": {},
   "source": [
    "### Connect to MongoDB"
   ]
  },
  {
   "cell_type": "code",
   "execution_count": 2,
   "metadata": {},
   "outputs": [],
   "source": [
    "conn = 'mongodb://localhost:27017'\n",
    "client = pymongo.MongoClient(conn)"
   ]
  },
  {
   "cell_type": "markdown",
   "metadata": {},
   "source": [
    "### Pull Data"
   ]
  },
  {
   "cell_type": "code",
   "execution_count": 3,
   "metadata": {},
   "outputs": [],
   "source": [
    "db = client.eliteprospects\n",
    "metadata = db.meta_data\n",
    "player_stats = db.player_data\n",
    "\n",
    "meta = pd.DataFrame(list(metadata.find()))\n",
    "players = pd.DataFrame(list(player_stats.find()))"
   ]
  },
  {
   "cell_type": "markdown",
   "metadata": {},
   "source": [
    "### Write/Read CSV"
   ]
  },
  {
   "cell_type": "code",
   "execution_count": 4,
   "metadata": {},
   "outputs": [],
   "source": [
    "#meta.to_csv('meta.csv')\n",
    "#players.to_csv('players.csv')\n",
    "# meta = pd.read_csv('meta.csv')\n",
    "# players = pd.read_csv('players.csv')"
   ]
  },
  {
   "cell_type": "markdown",
   "metadata": {},
   "source": [
    "## Wrangling"
   ]
  },
  {
   "cell_type": "markdown",
   "metadata": {},
   "source": [
    "### Get the age of each player for each season"
   ]
  },
  {
   "cell_type": "code",
   "execution_count": 5,
   "metadata": {},
   "outputs": [],
   "source": [
    "# Set ep_id as an integer\n",
    "players['ep_id'] = players['ep_id'].astype(int)\n",
    "\n",
    "# Likewise for meta\n",
    "meta['ep_id'] = meta['ep_id'].astype(int)\n",
    "\n",
    "# In case of dubplicates, drop them\n",
    "meta = meta.drop_duplicates()\n",
    "players = players.drop_duplicates()"
   ]
  },
  {
   "cell_type": "code",
   "execution_count": 6,
   "metadata": {},
   "outputs": [],
   "source": [
    "# Set aside each players birthday\n",
    "birthdays = meta[['ep_id', 'date_of_birth']]\n",
    "\n",
    "# Merge the birthdays with each player row in the players table\n",
    "players = pd.merge(players, birthdays, on = 'ep_id', how = 'left')"
   ]
  },
  {
   "cell_type": "code",
   "execution_count": 7,
   "metadata": {},
   "outputs": [],
   "source": [
    "# Extract the end of season date for each yyyy-yy season variable\n",
    "players['end_of_season'] = '20' + players['season'].str.extract(r'-(\\d{2})') + '-04-05'"
   ]
  },
  {
   "cell_type": "code",
   "execution_count": 8,
   "metadata": {},
   "outputs": [],
   "source": [
    "# Convert date_of_birth and end_of_season to pandas datetime\n",
    "players['date_of_birth'] = pd.to_datetime(players['date_of_birth'])\n",
    "players['end_of_season'] = pd.to_datetime(players['end_of_season'])\n",
    "\n",
    "# Subtract end_of_season from date_of_birth to get the age of each player at the end of each season\n",
    "players['age'] = players['end_of_season'] - players['date_of_birth']\n",
    "\n",
    "# Convert the pandas timedelta object to integer years\n",
    "players['age'] = round(players['age'].dt.days / 365).astype(int)\n",
    "\n",
    "# Set aside current date\n",
    "players['current_date'] = pd.to_datetime('today')\n",
    "\n",
    "# Subtract players birth date from the current date to get the current age\n",
    "players['current_age'] = players['current_date'] - players['date_of_birth']\n",
    "\n",
    "# Convert the pandas timedelta to integer years\n",
    "players['current_age'] = round(players['current_age'].dt.days / 365).astype(int)"
   ]
  },
  {
   "cell_type": "code",
   "execution_count": 12,
   "metadata": {},
   "outputs": [],
   "source": [
    "# Subset the players table to only include players who are over 25 at the time of running\n",
    "players = players[players['current_age'] >= 25]"
   ]
  },
  {
   "cell_type": "markdown",
   "metadata": {},
   "source": [
    "### Manage +/-"
   ]
  },
  {
   "cell_type": "code",
   "execution_count": 14,
   "metadata": {},
   "outputs": [],
   "source": [
    "# Deal with mis-typed values in the plus_minus column\n",
    "players['plus_minus'] = players['plus_minus'].replace('--6', '-6')\n",
    "\n",
    "# Impute 0 inplace of - in plus_minus (Fortunately, plus_minus is gaussian and 0 is the mean)\n",
    "players.replace('-', 0, inplace=True)\n",
    "players['plus_minus'] = players['plus_minus'].astype(int)"
   ]
  },
  {
   "cell_type": "markdown",
   "metadata": {},
   "source": [
    "### Reshape quantitative data"
   ]
  },
  {
   "cell_type": "code",
   "execution_count": 15,
   "metadata": {},
   "outputs": [],
   "source": [
    "ids = players['ep_id'].unique()\n",
    "\n",
    "types = {\n",
    "    'assists': 'int64',\n",
    "    'games_played': 'int64',\n",
    "    'goals': 'int64',\n",
    "    'penalty_min': 'int64',\n",
    "    'plus_minus': 'int64',\n",
    "    'age': 'object'\n",
    "}\n",
    "\n",
    "new_df = pd.DataFrame()\n",
    "\n",
    "for id in ids:\n",
    "        \n",
    "    df = players[players['ep_id'] == id].drop_duplicates()\n",
    "    df = df.astype(types)\n",
    "    \n",
    "    # Have to groupby each players age to account for in-season trades\n",
    "    df = df.groupby(['age', 'ep_id']).agg({\n",
    "        'games_played': 'sum', \n",
    "        'goals': 'sum', \n",
    "        'assists': 'sum', \n",
    "        'penalty_min': 'sum',\n",
    "        'plus_minus': 'mean'\n",
    "    }).reset_index()    \n",
    "    \n",
    "    # Pivot the data frame to form a single row vector for each player\n",
    "    df = df.pivot('ep_id', 'age')\n",
    "    \n",
    "    # Column Labels    \n",
    "    # Manage the pandas multiindex to re-label each column for each stat and age\n",
    "    df.columns = [''.join(str(col)) for col in df.columns]\n",
    "    \n",
    "    # Rename column labels for clarity\n",
    "    labels = []\n",
    "    \n",
    "    for col in df:\n",
    "    \n",
    "        label = re.findall(r\"'(.+)'\", col)\n",
    "        stat = re.findall(r',\\s(\\d{2})', col)\n",
    "    \n",
    "        labels.append(label[0] + '_' + stat[0])\n",
    "        \n",
    "    df.columns = labels    \n",
    "    \n",
    "    # Append each row of player data to the last\n",
    "    new_df = pd.concat([new_df, df], axis=0, sort=False)"
   ]
  },
  {
   "cell_type": "markdown",
   "metadata": {},
   "source": [
    "### Reshape qualitative"
   ]
  },
  {
   "cell_type": "code",
   "execution_count": 16,
   "metadata": {},
   "outputs": [],
   "source": [
    "ids = players['ep_id'].unique()\n",
    "\n",
    "qual_df = pd.DataFrame()\n",
    "\n",
    "for id in ids:\n",
    "    \n",
    "    df = players[players['ep_id'] == id].reset_index().sort_values('age')\n",
    "    df = df.drop(['index', '_id'], 1).drop_duplicates()\n",
    "    \n",
    "    ages = []\n",
    "    teams = []\n",
    "    leagues = []\n",
    "    age_test = []\n",
    "\n",
    "    high_gp = 0\n",
    "\n",
    "    for row in df.iterrows():    \n",
    "\n",
    "        if row[1]['age'] not in age_test:\n",
    "\n",
    "            age_test.append(row[1]['age'])\n",
    "\n",
    "            age = row[1]['age']\n",
    "            team = row[1]['team']\n",
    "            league = row[1]['league']\n",
    "\n",
    "            high_gp = int(row[1]['games_played'])\n",
    "\n",
    "            ages.append(age)\n",
    "            teams.append(team)\n",
    "            leagues.append(league)\n",
    "\n",
    "        elif row[1]['age'] in age_test:\n",
    "\n",
    "            if int(row[1]['games_played']) > high_gp:\n",
    "\n",
    "                age = row[1]['age']\n",
    "                team = row[1]['team']\n",
    "                league = row[1]['league']\n",
    "\n",
    "                high_gp = int(row[1]['games_played'])\n",
    "\n",
    "                ages = ages[:-1]\n",
    "                teams = teams[:-1]\n",
    "                leagues = leagues[:-1]\n",
    "\n",
    "                ages.append(age)\n",
    "                teams.append(team)\n",
    "                leagues.append(league)\n",
    "\n",
    "    test_df = pd.DataFrame(zip(ages, teams, leagues), columns=['age', 'team', 'league'])\n",
    "\n",
    "    test_df['ep_id'] = row[1]['ep_id']\n",
    "\n",
    "    test_df = test_df.pivot('ep_id', 'age')\n",
    "\n",
    "    test_df.columns = [''.join(str(col)) for col in test_df.columns]\n",
    "\n",
    "    # Rename column labels for clarity\n",
    "    labels = []\n",
    "\n",
    "    for col in test_df:\n",
    "\n",
    "        label = re.findall(r\"'(.+)'\", col)\n",
    "        stat = re.findall(r',\\s(\\d{2})', col)\n",
    "\n",
    "        labels.append(label[0] + '_' + stat[0])\n",
    "\n",
    "    test_df.columns = labels\n",
    "    \n",
    "    qual_df = pd.concat([qual_df, test_df], axis=0, sort=False)"
   ]
  },
  {
   "cell_type": "markdown",
   "metadata": {},
   "source": [
    "### Merge qualitative and quantitative dataframes"
   ]
  },
  {
   "cell_type": "code",
   "execution_count": 17,
   "metadata": {},
   "outputs": [],
   "source": [
    "combined = pd.merge(new_df, qual_df, on='ep_id', how='left').reset_index()"
   ]
  },
  {
   "cell_type": "markdown",
   "metadata": {},
   "source": [
    "### Combine Meta and Combined dataframes"
   ]
  },
  {
   "cell_type": "code",
   "execution_count": 18,
   "metadata": {},
   "outputs": [],
   "source": [
    "main = pd.merge(meta, combined, on = 'ep_id', how = 'left')\n",
    "    \n",
    "main = main.reset_index()\n",
    "main = round(main.drop(['_id', 'index'], 1))"
   ]
  },
  {
   "cell_type": "markdown",
   "metadata": {},
   "source": [
    "### Save and inspect data"
   ]
  },
  {
   "cell_type": "code",
   "execution_count": 19,
   "metadata": {},
   "outputs": [],
   "source": [
    "#main.to_csv('main.csv')"
   ]
  },
  {
   "cell_type": "code",
   "execution_count": null,
   "metadata": {},
   "outputs": [],
   "source": []
  }
 ],
 "metadata": {
  "kernelspec": {
   "display_name": "Python 3",
   "language": "python",
   "name": "python3"
  },
  "language_info": {
   "codemirror_mode": {
    "name": "ipython",
    "version": 3
   },
   "file_extension": ".py",
   "mimetype": "text/x-python",
   "name": "python",
   "nbconvert_exporter": "python",
   "pygments_lexer": "ipython3",
   "version": "3.7.3"
  }
 },
 "nbformat": 4,
 "nbformat_minor": 2
}
