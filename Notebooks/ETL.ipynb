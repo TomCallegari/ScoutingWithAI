{
 "cells": [
  {
   "cell_type": "markdown",
   "metadata": {},
   "source": [
    "### Package Dependencies"
   ]
  },
  {
   "cell_type": "code",
   "execution_count": 1,
   "metadata": {},
   "outputs": [],
   "source": [
    "import pymongo\n",
    "import pandas as pd\n",
    "import numpy as np\n",
    "import matplotlib.pyplot as plt\n",
    "import seaborn as sns\n",
    "import re\n",
    "from datetime import datetime\n",
    "import seaborn as sns\n",
    "\n",
    "pd.set_option('display.max_rows', 500)\n",
    "pd.set_option('display.max_columns', 500)"
   ]
  },
  {
   "cell_type": "markdown",
   "metadata": {},
   "source": [
    "### Connect to MongoDB"
   ]
  },
  {
   "cell_type": "code",
   "execution_count": 2,
   "metadata": {},
   "outputs": [],
   "source": [
    "conn = 'mongodb://localhost:27018'\n",
    "client = pymongo.MongoClient(conn)"
   ]
  },
  {
   "cell_type": "markdown",
   "metadata": {},
   "source": [
    "### Pull Data"
   ]
  },
  {
   "cell_type": "code",
   "execution_count": 3,
   "metadata": {},
   "outputs": [],
   "source": [
    "db = client.eliteprospects\n",
    "\n",
    "metadata = db.meta_data\n",
    "player_stats = db.player_data\n",
    "award_stats = db.awards_data\n",
    "\n",
    "meta = pd.DataFrame(list(metadata.find()))\n",
    "players = pd.DataFrame(list(player_stats.find()))\n",
    "awards = pd.DataFrame(list(award_stats.find()))"
   ]
  },
  {
   "cell_type": "markdown",
   "metadata": {},
   "source": [
    "### Write/Read CSV"
   ]
  },
  {
   "cell_type": "code",
   "execution_count": 4,
   "metadata": {},
   "outputs": [],
   "source": [
    "# meta.to_csv('meta.csv')\n",
    "# players.to_csv('players.csv')\n",
    "# inter.to_csv('international.csv')\n",
    "# playoffs.to_csv('playoffs.csv')\n",
    "\n",
    "# meta = pd.read_csv('~/Analytics/ScoutingWithAI/Misc/meta.csv')\n",
    "# players = pd.read_csv('~/Analytics/ScoutingWithAI/Misc/players.csv')\n",
    "# inter = pd.read_csv('~/Analytics/ScoutingWithAI/Notebooks/international.csv')"
   ]
  },
  {
   "cell_type": "markdown",
   "metadata": {},
   "source": [
    "## Wrangling"
   ]
  },
  {
   "cell_type": "markdown",
   "metadata": {},
   "source": [
    "### Get the age of each player for each season then merge awards with players"
   ]
  },
  {
   "cell_type": "markdown",
   "metadata": {},
   "source": [
    "#### Set ep_id to int in each table"
   ]
  },
  {
   "cell_type": "code",
   "execution_count": 5,
   "metadata": {},
   "outputs": [],
   "source": [
    "# ep_id as an integer\n",
    "players['ep_id'] = players['ep_id'].astype(int)\n",
    "meta['ep_id'] = meta['ep_id'].astype(int)\n",
    "awards['ep_id'] = awards['ep_id'].astype(int)"
   ]
  },
  {
   "cell_type": "markdown",
   "metadata": {},
   "source": [
    "#### Birthdays"
   ]
  },
  {
   "cell_type": "code",
   "execution_count": 6,
   "metadata": {},
   "outputs": [],
   "source": [
    "# Set aside each players birthday\n",
    "birthdays = meta[['ep_id', 'date_of_birth']]\n",
    "\n",
    "# Merge the birthdays with each player row in the players and awards tables\n",
    "players = pd.merge(players, birthdays, on = 'ep_id', how = 'left')\n",
    "awards = pd.merge(awards, birthdays, on = 'ep_id', how = 'left')"
   ]
  },
  {
   "cell_type": "code",
   "execution_count": 9,
   "metadata": {},
   "outputs": [
    {
     "name": "stdout",
     "output_type": "stream",
     "text": [
      "<class 'pandas.core.frame.DataFrame'>\n",
      "Int64Index: 100310 entries, 0 to 100570\n",
      "Data columns (total 17 columns):\n",
      "_id              100310 non-null object\n",
      "ep_id            100310 non-null int64\n",
      "season           100310 non-null object\n",
      "team             100310 non-null object\n",
      "league           100310 non-null object\n",
      "regular_gp       100310 non-null object\n",
      "regular_g        100310 non-null object\n",
      "regular_a        100310 non-null object\n",
      "regular_pim      100310 non-null object\n",
      "regular_pm       100310 non-null object\n",
      "team_type        100310 non-null object\n",
      "playoffs_gp      100310 non-null object\n",
      "playoffs_g       100310 non-null object\n",
      "playoffs_a       100310 non-null object\n",
      "playoffs_pim     100310 non-null object\n",
      "playoffs_pm      100310 non-null object\n",
      "date_of_birth    100310 non-null object\n",
      "dtypes: int64(1), object(16)\n",
      "memory usage: 16.3+ MB\n"
     ]
    }
   ],
   "source": [
    "players.info()"
   ]
  },
  {
   "cell_type": "markdown",
   "metadata": {},
   "source": [
    "#### Extract end_of_season var"
   ]
  },
  {
   "cell_type": "code",
   "execution_count": 10,
   "metadata": {},
   "outputs": [],
   "source": [
    "players = players.drop(players[players['team'] == 'Did not play'].index)\n",
    "players = players.drop('team_type', axis=1)\n",
    "players['end_of_season'] = np.where(players['season'].str.extract(r'-(\\d{1})\\d{1}') == '9', \n",
    "                                    '19' + players['season'].str.extract(r'-(\\d{2})') + '-04-05',\n",
    "                                    '20' + players['season'].str.extract(r'-(\\d{2})') + '-04-05')\n",
    "\n",
    "awards['end_of_season'] = awards['season'].str.extract(r'-(\\d{4})') + '-04-05'"
   ]
  },
  {
   "cell_type": "code",
   "execution_count": 11,
   "metadata": {},
   "outputs": [],
   "source": [
    "# Convert date_of_birth and end_of_season to pandas datetime\n",
    "players['date_of_birth'] = pd.to_datetime(players['date_of_birth'])\n",
    "players['end_of_season'] = pd.to_datetime(players['end_of_season'])\n",
    "\n",
    "awards['date_of_birth'] = pd.to_datetime(awards['date_of_birth'])\n",
    "awards['end_of_season'] = pd.to_datetime(awards['end_of_season'])\n",
    "\n",
    "# Subtract end_of_season from date_of_birth to get the age of each player at the end of each season\n",
    "players['age'] = players['end_of_season'] - players['date_of_birth']\n",
    "awards['age'] = awards['end_of_season'] - awards['date_of_birth']\n",
    "\n",
    "# Convert the pandas timedelta object to integer years\n",
    "players['age'] = round(players['age'].dt.days / 365).astype(int)\n",
    "awards['age'] = round(awards['age'].dt.days / 365)\n",
    "\n",
    "# Set aside current date\n",
    "players['current_date'] = pd.to_datetime('today')\n",
    "\n",
    "# Subtract players birth date from the current date to get the current age\n",
    "players['current_age'] = players['current_date'] - players['date_of_birth']\n",
    "\n",
    "# Convert the pandas timedelta to integer years\n",
    "players['current_age'] = round(players['current_age'].dt.days / 365).astype(int)\n",
    "\n",
    "# Group awards by ep_id and age\n",
    "awards_grouped = awards.groupby(['ep_id', 'age']).agg({'award_count': 'sum'}).reset_index()"
   ]
  },
  {
   "cell_type": "code",
   "execution_count": 12,
   "metadata": {},
   "outputs": [],
   "source": [
    "players = pd.merge(players, awards_grouped, on=['ep_id', 'age'], how='left')"
   ]
  },
  {
   "cell_type": "code",
   "execution_count": 13,
   "metadata": {},
   "outputs": [
    {
     "data": {
      "text/plain": [
       "629"
      ]
     },
     "execution_count": 13,
     "metadata": {},
     "output_type": "execute_result"
    }
   ],
   "source": [
    "len(players['league'].unique())"
   ]
  },
  {
   "cell_type": "markdown",
   "metadata": {},
   "source": [
    "## Variable Cleaning"
   ]
  },
  {
   "cell_type": "code",
   "execution_count": 14,
   "metadata": {},
   "outputs": [],
   "source": [
    "players = players.replace({'': np.nan, '-': np.nan})\n",
    "players = players.sort_values('current_age')"
   ]
  },
  {
   "cell_type": "code",
   "execution_count": 15,
   "metadata": {},
   "outputs": [
    {
     "data": {
      "text/html": [
       "<div>\n",
       "<style scoped>\n",
       "    .dataframe tbody tr th:only-of-type {\n",
       "        vertical-align: middle;\n",
       "    }\n",
       "\n",
       "    .dataframe tbody tr th {\n",
       "        vertical-align: top;\n",
       "    }\n",
       "\n",
       "    .dataframe thead th {\n",
       "        text-align: right;\n",
       "    }\n",
       "</style>\n",
       "<table border=\"1\" class=\"dataframe\">\n",
       "  <thead>\n",
       "    <tr style=\"text-align: right;\">\n",
       "      <th></th>\n",
       "      <th>_id</th>\n",
       "      <th>ep_id</th>\n",
       "      <th>season</th>\n",
       "      <th>team</th>\n",
       "      <th>league</th>\n",
       "      <th>regular_gp</th>\n",
       "      <th>regular_g</th>\n",
       "      <th>regular_a</th>\n",
       "      <th>regular_pim</th>\n",
       "      <th>regular_pm</th>\n",
       "      <th>playoffs_gp</th>\n",
       "      <th>playoffs_g</th>\n",
       "      <th>playoffs_a</th>\n",
       "      <th>playoffs_pim</th>\n",
       "      <th>playoffs_pm</th>\n",
       "      <th>date_of_birth</th>\n",
       "      <th>end_of_season</th>\n",
       "      <th>age</th>\n",
       "      <th>current_date</th>\n",
       "      <th>current_age</th>\n",
       "      <th>award_count</th>\n",
       "    </tr>\n",
       "  </thead>\n",
       "  <tbody>\n",
       "    <tr>\n",
       "      <td>24883</td>\n",
       "      <td>5e18ff5320b2973d7854492d</td>\n",
       "      <td>477345</td>\n",
       "      <td>2017-18</td>\n",
       "      <td>Yale Hockey Academy Bantam Prep</td>\n",
       "      <td>CSSBHL</td>\n",
       "      <td>26</td>\n",
       "      <td>2</td>\n",
       "      <td>16</td>\n",
       "      <td>48</td>\n",
       "      <td>NaN</td>\n",
       "      <td>3</td>\n",
       "      <td>0</td>\n",
       "      <td>1</td>\n",
       "      <td>4</td>\n",
       "      <td>NaN</td>\n",
       "      <td>2003-09-12</td>\n",
       "      <td>2018-04-05</td>\n",
       "      <td>15</td>\n",
       "      <td>2020-01-18 01:13:31.383087</td>\n",
       "      <td>16</td>\n",
       "      <td>NaN</td>\n",
       "    </tr>\n",
       "    <tr>\n",
       "      <td>99929</td>\n",
       "      <td>5e1937de20b2973d785a51c6</td>\n",
       "      <td>473652</td>\n",
       "      <td>2019-20</td>\n",
       "      <td>Cape Breton Eagles</td>\n",
       "      <td>QMJHL</td>\n",
       "      <td>38</td>\n",
       "      <td>0</td>\n",
       "      <td>5</td>\n",
       "      <td>25</td>\n",
       "      <td>-4</td>\n",
       "      <td>NaN</td>\n",
       "      <td>NaN</td>\n",
       "      <td>NaN</td>\n",
       "      <td>NaN</td>\n",
       "      <td>NaN</td>\n",
       "      <td>2003-08-05</td>\n",
       "      <td>2020-04-05</td>\n",
       "      <td>17</td>\n",
       "      <td>2020-01-18 01:13:31.383087</td>\n",
       "      <td>16</td>\n",
       "      <td>NaN</td>\n",
       "    </tr>\n",
       "    <tr>\n",
       "      <td>29973</td>\n",
       "      <td>5e19033920b2973d7854a8da</td>\n",
       "      <td>476596</td>\n",
       "      <td>2015-16</td>\n",
       "      <td>Fort Saskatchewan Rang. Bntm AA</td>\n",
       "      <td>NABHL</td>\n",
       "      <td>0</td>\n",
       "      <td>0</td>\n",
       "      <td>0</td>\n",
       "      <td>0</td>\n",
       "      <td>NaN</td>\n",
       "      <td>NaN</td>\n",
       "      <td>NaN</td>\n",
       "      <td>NaN</td>\n",
       "      <td>NaN</td>\n",
       "      <td>NaN</td>\n",
       "      <td>2003-09-10</td>\n",
       "      <td>2016-04-05</td>\n",
       "      <td>13</td>\n",
       "      <td>2020-01-18 01:13:31.383087</td>\n",
       "      <td>16</td>\n",
       "      <td>NaN</td>\n",
       "    </tr>\n",
       "    <tr>\n",
       "      <td>30047</td>\n",
       "      <td>5e19035020b2973d7854a982</td>\n",
       "      <td>486537</td>\n",
       "      <td>2019-20</td>\n",
       "      <td>Winnipeg Ice</td>\n",
       "      <td>WHL</td>\n",
       "      <td>14</td>\n",
       "      <td>0</td>\n",
       "      <td>1</td>\n",
       "      <td>0</td>\n",
       "      <td>1</td>\n",
       "      <td>NaN</td>\n",
       "      <td>NaN</td>\n",
       "      <td>NaN</td>\n",
       "      <td>NaN</td>\n",
       "      <td>NaN</td>\n",
       "      <td>2003-09-20</td>\n",
       "      <td>2020-04-05</td>\n",
       "      <td>17</td>\n",
       "      <td>2020-01-18 01:13:31.383087</td>\n",
       "      <td>16</td>\n",
       "      <td>NaN</td>\n",
       "    </tr>\n",
       "    <tr>\n",
       "      <td>30046</td>\n",
       "      <td>5e19034f20b2973d7854a981</td>\n",
       "      <td>486537</td>\n",
       "      <td>2019-20</td>\n",
       "      <td>Rink Hockey Academy Prep</td>\n",
       "      <td>CSSHL</td>\n",
       "      <td>7</td>\n",
       "      <td>2</td>\n",
       "      <td>2</td>\n",
       "      <td>22</td>\n",
       "      <td>NaN</td>\n",
       "      <td>NaN</td>\n",
       "      <td>NaN</td>\n",
       "      <td>NaN</td>\n",
       "      <td>NaN</td>\n",
       "      <td>NaN</td>\n",
       "      <td>2003-09-20</td>\n",
       "      <td>2020-04-05</td>\n",
       "      <td>17</td>\n",
       "      <td>2020-01-18 01:13:31.383087</td>\n",
       "      <td>16</td>\n",
       "      <td>NaN</td>\n",
       "    </tr>\n",
       "    <tr>\n",
       "      <td>30045</td>\n",
       "      <td>5e19034f20b2973d7854a980</td>\n",
       "      <td>486537</td>\n",
       "      <td>2018-19</td>\n",
       "      <td>Kootenay Ice</td>\n",
       "      <td>WHL</td>\n",
       "      <td>2</td>\n",
       "      <td>0</td>\n",
       "      <td>0</td>\n",
       "      <td>0</td>\n",
       "      <td>0</td>\n",
       "      <td>NaN</td>\n",
       "      <td>NaN</td>\n",
       "      <td>NaN</td>\n",
       "      <td>NaN</td>\n",
       "      <td>NaN</td>\n",
       "      <td>2003-09-20</td>\n",
       "      <td>2019-04-05</td>\n",
       "      <td>16</td>\n",
       "      <td>2020-01-18 01:13:31.383087</td>\n",
       "      <td>16</td>\n",
       "      <td>NaN</td>\n",
       "    </tr>\n",
       "    <tr>\n",
       "      <td>100008</td>\n",
       "      <td>5e1937f620b2973d785a527e</td>\n",
       "      <td>485737</td>\n",
       "      <td>2019-20</td>\n",
       "      <td>Canada Black U17</td>\n",
       "      <td>WHC-17</td>\n",
       "      <td>5</td>\n",
       "      <td>0</td>\n",
       "      <td>1</td>\n",
       "      <td>0</td>\n",
       "      <td>NaN</td>\n",
       "      <td>NaN</td>\n",
       "      <td>NaN</td>\n",
       "      <td>NaN</td>\n",
       "      <td>NaN</td>\n",
       "      <td>NaN</td>\n",
       "      <td>2003-09-19</td>\n",
       "      <td>2020-04-05</td>\n",
       "      <td>17</td>\n",
       "      <td>2020-01-18 01:13:31.383087</td>\n",
       "      <td>16</td>\n",
       "      <td>NaN</td>\n",
       "    </tr>\n",
       "    <tr>\n",
       "      <td>100007</td>\n",
       "      <td>5e1937f620b2973d785a527d</td>\n",
       "      <td>485737</td>\n",
       "      <td>2019-20</td>\n",
       "      <td>Cape Breton Eagles</td>\n",
       "      <td>QMJHL</td>\n",
       "      <td>33</td>\n",
       "      <td>0</td>\n",
       "      <td>4</td>\n",
       "      <td>12</td>\n",
       "      <td>3</td>\n",
       "      <td>NaN</td>\n",
       "      <td>NaN</td>\n",
       "      <td>NaN</td>\n",
       "      <td>NaN</td>\n",
       "      <td>NaN</td>\n",
       "      <td>2003-09-19</td>\n",
       "      <td>2020-04-05</td>\n",
       "      <td>17</td>\n",
       "      <td>2020-01-18 01:13:31.383087</td>\n",
       "      <td>16</td>\n",
       "      <td>NaN</td>\n",
       "    </tr>\n",
       "    <tr>\n",
       "      <td>100006</td>\n",
       "      <td>5e1937f620b2973d785a527c</td>\n",
       "      <td>485737</td>\n",
       "      <td>2018-19</td>\n",
       "      <td>Séminaire St-François Blizzard</td>\n",
       "      <td>QMAAA</td>\n",
       "      <td>4</td>\n",
       "      <td>0</td>\n",
       "      <td>0</td>\n",
       "      <td>0</td>\n",
       "      <td>-4</td>\n",
       "      <td>NaN</td>\n",
       "      <td>NaN</td>\n",
       "      <td>NaN</td>\n",
       "      <td>NaN</td>\n",
       "      <td>NaN</td>\n",
       "      <td>2003-09-19</td>\n",
       "      <td>2019-04-05</td>\n",
       "      <td>16</td>\n",
       "      <td>2020-01-18 01:13:31.383087</td>\n",
       "      <td>16</td>\n",
       "      <td>NaN</td>\n",
       "    </tr>\n",
       "    <tr>\n",
       "      <td>100005</td>\n",
       "      <td>5e1937f620b2973d785a527b</td>\n",
       "      <td>485737</td>\n",
       "      <td>2018-19</td>\n",
       "      <td>Québec Cyclones Midget Espoir</td>\n",
       "      <td>QMEAA</td>\n",
       "      <td>32</td>\n",
       "      <td>12</td>\n",
       "      <td>17</td>\n",
       "      <td>38</td>\n",
       "      <td>0</td>\n",
       "      <td>NaN</td>\n",
       "      <td>NaN</td>\n",
       "      <td>NaN</td>\n",
       "      <td>NaN</td>\n",
       "      <td>NaN</td>\n",
       "      <td>2003-09-19</td>\n",
       "      <td>2019-04-05</td>\n",
       "      <td>16</td>\n",
       "      <td>2020-01-18 01:13:31.383087</td>\n",
       "      <td>16</td>\n",
       "      <td>NaN</td>\n",
       "    </tr>\n",
       "    <tr>\n",
       "      <td>100004</td>\n",
       "      <td>5e1937f620b2973d785a527a</td>\n",
       "      <td>485737</td>\n",
       "      <td>2017-18</td>\n",
       "      <td>Québec Typhon Midget Espoir</td>\n",
       "      <td>QMEAA</td>\n",
       "      <td>1</td>\n",
       "      <td>0</td>\n",
       "      <td>0</td>\n",
       "      <td>0</td>\n",
       "      <td>NaN</td>\n",
       "      <td>NaN</td>\n",
       "      <td>NaN</td>\n",
       "      <td>NaN</td>\n",
       "      <td>NaN</td>\n",
       "      <td>NaN</td>\n",
       "      <td>2003-09-19</td>\n",
       "      <td>2018-04-05</td>\n",
       "      <td>15</td>\n",
       "      <td>2020-01-18 01:13:31.383087</td>\n",
       "      <td>16</td>\n",
       "      <td>NaN</td>\n",
       "    </tr>\n",
       "    <tr>\n",
       "      <td>100003</td>\n",
       "      <td>5e1937f620b2973d785a5279</td>\n",
       "      <td>485737</td>\n",
       "      <td>2017-18</td>\n",
       "      <td>Québec Cyclones Bantam AAA</td>\n",
       "      <td>QBAAA</td>\n",
       "      <td>29</td>\n",
       "      <td>2</td>\n",
       "      <td>1</td>\n",
       "      <td>32</td>\n",
       "      <td>NaN</td>\n",
       "      <td>NaN</td>\n",
       "      <td>NaN</td>\n",
       "      <td>NaN</td>\n",
       "      <td>NaN</td>\n",
       "      <td>NaN</td>\n",
       "      <td>2003-09-19</td>\n",
       "      <td>2018-04-05</td>\n",
       "      <td>15</td>\n",
       "      <td>2020-01-18 01:13:31.383087</td>\n",
       "      <td>16</td>\n",
       "      <td>NaN</td>\n",
       "    </tr>\n",
       "    <tr>\n",
       "      <td>100002</td>\n",
       "      <td>5e1937f620b2973d785a5278</td>\n",
       "      <td>485737</td>\n",
       "      <td>2016-17</td>\n",
       "      <td>Québec Cyclones Bantam AAA</td>\n",
       "      <td>QBAAA</td>\n",
       "      <td>1</td>\n",
       "      <td>0</td>\n",
       "      <td>0</td>\n",
       "      <td>0</td>\n",
       "      <td>NaN</td>\n",
       "      <td>NaN</td>\n",
       "      <td>NaN</td>\n",
       "      <td>NaN</td>\n",
       "      <td>NaN</td>\n",
       "      <td>NaN</td>\n",
       "      <td>2003-09-19</td>\n",
       "      <td>2017-04-05</td>\n",
       "      <td>14</td>\n",
       "      <td>2020-01-18 01:13:31.383087</td>\n",
       "      <td>16</td>\n",
       "      <td>NaN</td>\n",
       "    </tr>\n",
       "    <tr>\n",
       "      <td>99696</td>\n",
       "      <td>5e1937a220b2973d785a4d7d</td>\n",
       "      <td>483757</td>\n",
       "      <td>2019-20</td>\n",
       "      <td>Canada Red U17</td>\n",
       "      <td>WHC-17</td>\n",
       "      <td>5</td>\n",
       "      <td>2</td>\n",
       "      <td>2</td>\n",
       "      <td>6</td>\n",
       "      <td>NaN</td>\n",
       "      <td>NaN</td>\n",
       "      <td>NaN</td>\n",
       "      <td>NaN</td>\n",
       "      <td>NaN</td>\n",
       "      <td>NaN</td>\n",
       "      <td>2003-08-06</td>\n",
       "      <td>2020-04-05</td>\n",
       "      <td>17</td>\n",
       "      <td>2020-01-18 01:13:31.383087</td>\n",
       "      <td>16</td>\n",
       "      <td>NaN</td>\n",
       "    </tr>\n",
       "    <tr>\n",
       "      <td>100225</td>\n",
       "      <td>5e19383f20b2973d785a540c</td>\n",
       "      <td>491987</td>\n",
       "      <td>2018-19</td>\n",
       "      <td>Kensington Wild Midget AAA</td>\n",
       "      <td>NBPEIMMHL</td>\n",
       "      <td>27</td>\n",
       "      <td>10</td>\n",
       "      <td>19</td>\n",
       "      <td>35</td>\n",
       "      <td>NaN</td>\n",
       "      <td>4</td>\n",
       "      <td>1</td>\n",
       "      <td>2</td>\n",
       "      <td>0</td>\n",
       "      <td>NaN</td>\n",
       "      <td>2003-09-03</td>\n",
       "      <td>2019-04-05</td>\n",
       "      <td>16</td>\n",
       "      <td>2020-01-18 01:13:31.383087</td>\n",
       "      <td>16</td>\n",
       "      <td>NaN</td>\n",
       "    </tr>\n",
       "    <tr>\n",
       "      <td>99694</td>\n",
       "      <td>5e1937a220b2973d785a4d77</td>\n",
       "      <td>483757</td>\n",
       "      <td>2018-19</td>\n",
       "      <td>Lévis Chevaliers</td>\n",
       "      <td>QMAAA</td>\n",
       "      <td>42</td>\n",
       "      <td>38</td>\n",
       "      <td>50</td>\n",
       "      <td>6</td>\n",
       "      <td>41</td>\n",
       "      <td>11</td>\n",
       "      <td>6</td>\n",
       "      <td>5</td>\n",
       "      <td>0</td>\n",
       "      <td>2</td>\n",
       "      <td>2003-08-06</td>\n",
       "      <td>2019-04-05</td>\n",
       "      <td>16</td>\n",
       "      <td>2020-01-18 01:13:31.383087</td>\n",
       "      <td>16</td>\n",
       "      <td>NaN</td>\n",
       "    </tr>\n",
       "    <tr>\n",
       "      <td>99928</td>\n",
       "      <td>5e1937de20b2973d785a51c5</td>\n",
       "      <td>473652</td>\n",
       "      <td>2018-19</td>\n",
       "      <td>Cole Harbour Wolfpack</td>\n",
       "      <td>NSMMHL</td>\n",
       "      <td>36</td>\n",
       "      <td>13</td>\n",
       "      <td>7</td>\n",
       "      <td>28</td>\n",
       "      <td>NaN</td>\n",
       "      <td>10</td>\n",
       "      <td>1</td>\n",
       "      <td>3</td>\n",
       "      <td>2</td>\n",
       "      <td>NaN</td>\n",
       "      <td>2003-08-05</td>\n",
       "      <td>2019-04-05</td>\n",
       "      <td>16</td>\n",
       "      <td>2020-01-18 01:13:31.383087</td>\n",
       "      <td>16</td>\n",
       "      <td>NaN</td>\n",
       "    </tr>\n",
       "    <tr>\n",
       "      <td>99927</td>\n",
       "      <td>5e1937de20b2973d785a51c4</td>\n",
       "      <td>473652</td>\n",
       "      <td>2017-18</td>\n",
       "      <td>Harbour Storm Major Bantam</td>\n",
       "      <td>NSMBHL</td>\n",
       "      <td>9</td>\n",
       "      <td>9</td>\n",
       "      <td>7</td>\n",
       "      <td>10</td>\n",
       "      <td>NaN</td>\n",
       "      <td>2</td>\n",
       "      <td>1</td>\n",
       "      <td>0</td>\n",
       "      <td>0</td>\n",
       "      <td>NaN</td>\n",
       "      <td>2003-08-05</td>\n",
       "      <td>2018-04-05</td>\n",
       "      <td>15</td>\n",
       "      <td>2020-01-18 01:13:31.383087</td>\n",
       "      <td>16</td>\n",
       "      <td>NaN</td>\n",
       "    </tr>\n",
       "    <tr>\n",
       "      <td>100222</td>\n",
       "      <td>5e19383f20b2973d785a5403</td>\n",
       "      <td>491987</td>\n",
       "      <td>2016-17</td>\n",
       "      <td>Eastern Express Bantam AAA</td>\n",
       "      <td>PEIBAAA</td>\n",
       "      <td>28</td>\n",
       "      <td>12</td>\n",
       "      <td>20</td>\n",
       "      <td>14</td>\n",
       "      <td>NaN</td>\n",
       "      <td>7</td>\n",
       "      <td>1</td>\n",
       "      <td>4</td>\n",
       "      <td>10</td>\n",
       "      <td>NaN</td>\n",
       "      <td>2003-09-03</td>\n",
       "      <td>2017-04-05</td>\n",
       "      <td>14</td>\n",
       "      <td>2020-01-18 01:13:31.383087</td>\n",
       "      <td>16</td>\n",
       "      <td>5.0</td>\n",
       "    </tr>\n",
       "    <tr>\n",
       "      <td>100223</td>\n",
       "      <td>5e19383f20b2973d785a5406</td>\n",
       "      <td>491987</td>\n",
       "      <td>2017-18</td>\n",
       "      <td>Eastern Express Bantam AAA</td>\n",
       "      <td>PEIBAAA</td>\n",
       "      <td>27</td>\n",
       "      <td>27</td>\n",
       "      <td>27</td>\n",
       "      <td>56</td>\n",
       "      <td>NaN</td>\n",
       "      <td>5</td>\n",
       "      <td>5</td>\n",
       "      <td>2</td>\n",
       "      <td>2</td>\n",
       "      <td>NaN</td>\n",
       "      <td>2003-09-03</td>\n",
       "      <td>2018-04-05</td>\n",
       "      <td>15</td>\n",
       "      <td>2020-01-18 01:13:31.383087</td>\n",
       "      <td>16</td>\n",
       "      <td>5.0</td>\n",
       "    </tr>\n",
       "  </tbody>\n",
       "</table>\n",
       "</div>"
      ],
      "text/plain": [
       "                             _id   ep_id   season  \\\n",
       "24883   5e18ff5320b2973d7854492d  477345  2017-18   \n",
       "99929   5e1937de20b2973d785a51c6  473652  2019-20   \n",
       "29973   5e19033920b2973d7854a8da  476596  2015-16   \n",
       "30047   5e19035020b2973d7854a982  486537  2019-20   \n",
       "30046   5e19034f20b2973d7854a981  486537  2019-20   \n",
       "30045   5e19034f20b2973d7854a980  486537  2018-19   \n",
       "100008  5e1937f620b2973d785a527e  485737  2019-20   \n",
       "100007  5e1937f620b2973d785a527d  485737  2019-20   \n",
       "100006  5e1937f620b2973d785a527c  485737  2018-19   \n",
       "100005  5e1937f620b2973d785a527b  485737  2018-19   \n",
       "100004  5e1937f620b2973d785a527a  485737  2017-18   \n",
       "100003  5e1937f620b2973d785a5279  485737  2017-18   \n",
       "100002  5e1937f620b2973d785a5278  485737  2016-17   \n",
       "99696   5e1937a220b2973d785a4d7d  483757  2019-20   \n",
       "100225  5e19383f20b2973d785a540c  491987  2018-19   \n",
       "99694   5e1937a220b2973d785a4d77  483757  2018-19   \n",
       "99928   5e1937de20b2973d785a51c5  473652  2018-19   \n",
       "99927   5e1937de20b2973d785a51c4  473652  2017-18   \n",
       "100222  5e19383f20b2973d785a5403  491987  2016-17   \n",
       "100223  5e19383f20b2973d785a5406  491987  2017-18   \n",
       "\n",
       "                                   team     league regular_gp regular_g  \\\n",
       "24883   Yale Hockey Academy Bantam Prep     CSSBHL         26         2   \n",
       "99929                Cape Breton Eagles      QMJHL         38         0   \n",
       "29973   Fort Saskatchewan Rang. Bntm AA      NABHL          0         0   \n",
       "30047                      Winnipeg Ice        WHL         14         0   \n",
       "30046          Rink Hockey Academy Prep      CSSHL          7         2   \n",
       "30045                      Kootenay Ice        WHL          2         0   \n",
       "100008                 Canada Black U17     WHC-17          5         0   \n",
       "100007               Cape Breton Eagles      QMJHL         33         0   \n",
       "100006   Séminaire St-François Blizzard      QMAAA          4         0   \n",
       "100005    Québec Cyclones Midget Espoir      QMEAA         32        12   \n",
       "100004      Québec Typhon Midget Espoir      QMEAA          1         0   \n",
       "100003       Québec Cyclones Bantam AAA      QBAAA         29         2   \n",
       "100002       Québec Cyclones Bantam AAA      QBAAA          1         0   \n",
       "99696                    Canada Red U17     WHC-17          5         2   \n",
       "100225       Kensington Wild Midget AAA  NBPEIMMHL         27        10   \n",
       "99694                  Lévis Chevaliers      QMAAA         42        38   \n",
       "99928             Cole Harbour Wolfpack     NSMMHL         36        13   \n",
       "99927        Harbour Storm Major Bantam     NSMBHL          9         9   \n",
       "100222       Eastern Express Bantam AAA    PEIBAAA         28        12   \n",
       "100223       Eastern Express Bantam AAA    PEIBAAA         27        27   \n",
       "\n",
       "       regular_a regular_pim regular_pm playoffs_gp playoffs_g playoffs_a  \\\n",
       "24883         16          48        NaN           3          0          1   \n",
       "99929          5          25         -4         NaN        NaN        NaN   \n",
       "29973          0           0        NaN         NaN        NaN        NaN   \n",
       "30047          1           0          1         NaN        NaN        NaN   \n",
       "30046          2          22        NaN         NaN        NaN        NaN   \n",
       "30045          0           0          0         NaN        NaN        NaN   \n",
       "100008         1           0        NaN         NaN        NaN        NaN   \n",
       "100007         4          12          3         NaN        NaN        NaN   \n",
       "100006         0           0         -4         NaN        NaN        NaN   \n",
       "100005        17          38          0         NaN        NaN        NaN   \n",
       "100004         0           0        NaN         NaN        NaN        NaN   \n",
       "100003         1          32        NaN         NaN        NaN        NaN   \n",
       "100002         0           0        NaN         NaN        NaN        NaN   \n",
       "99696          2           6        NaN         NaN        NaN        NaN   \n",
       "100225        19          35        NaN           4          1          2   \n",
       "99694         50           6         41          11          6          5   \n",
       "99928          7          28        NaN          10          1          3   \n",
       "99927          7          10        NaN           2          1          0   \n",
       "100222        20          14        NaN           7          1          4   \n",
       "100223        27          56        NaN           5          5          2   \n",
       "\n",
       "       playoffs_pim playoffs_pm date_of_birth end_of_season  age  \\\n",
       "24883             4         NaN    2003-09-12    2018-04-05   15   \n",
       "99929           NaN         NaN    2003-08-05    2020-04-05   17   \n",
       "29973           NaN         NaN    2003-09-10    2016-04-05   13   \n",
       "30047           NaN         NaN    2003-09-20    2020-04-05   17   \n",
       "30046           NaN         NaN    2003-09-20    2020-04-05   17   \n",
       "30045           NaN         NaN    2003-09-20    2019-04-05   16   \n",
       "100008          NaN         NaN    2003-09-19    2020-04-05   17   \n",
       "100007          NaN         NaN    2003-09-19    2020-04-05   17   \n",
       "100006          NaN         NaN    2003-09-19    2019-04-05   16   \n",
       "100005          NaN         NaN    2003-09-19    2019-04-05   16   \n",
       "100004          NaN         NaN    2003-09-19    2018-04-05   15   \n",
       "100003          NaN         NaN    2003-09-19    2018-04-05   15   \n",
       "100002          NaN         NaN    2003-09-19    2017-04-05   14   \n",
       "99696           NaN         NaN    2003-08-06    2020-04-05   17   \n",
       "100225            0         NaN    2003-09-03    2019-04-05   16   \n",
       "99694             0           2    2003-08-06    2019-04-05   16   \n",
       "99928             2         NaN    2003-08-05    2019-04-05   16   \n",
       "99927             0         NaN    2003-08-05    2018-04-05   15   \n",
       "100222           10         NaN    2003-09-03    2017-04-05   14   \n",
       "100223            2         NaN    2003-09-03    2018-04-05   15   \n",
       "\n",
       "                     current_date  current_age  award_count  \n",
       "24883  2020-01-18 01:13:31.383087           16          NaN  \n",
       "99929  2020-01-18 01:13:31.383087           16          NaN  \n",
       "29973  2020-01-18 01:13:31.383087           16          NaN  \n",
       "30047  2020-01-18 01:13:31.383087           16          NaN  \n",
       "30046  2020-01-18 01:13:31.383087           16          NaN  \n",
       "30045  2020-01-18 01:13:31.383087           16          NaN  \n",
       "100008 2020-01-18 01:13:31.383087           16          NaN  \n",
       "100007 2020-01-18 01:13:31.383087           16          NaN  \n",
       "100006 2020-01-18 01:13:31.383087           16          NaN  \n",
       "100005 2020-01-18 01:13:31.383087           16          NaN  \n",
       "100004 2020-01-18 01:13:31.383087           16          NaN  \n",
       "100003 2020-01-18 01:13:31.383087           16          NaN  \n",
       "100002 2020-01-18 01:13:31.383087           16          NaN  \n",
       "99696  2020-01-18 01:13:31.383087           16          NaN  \n",
       "100225 2020-01-18 01:13:31.383087           16          NaN  \n",
       "99694  2020-01-18 01:13:31.383087           16          NaN  \n",
       "99928  2020-01-18 01:13:31.383087           16          NaN  \n",
       "99927  2020-01-18 01:13:31.383087           16          NaN  \n",
       "100222 2020-01-18 01:13:31.383087           16          5.0  \n",
       "100223 2020-01-18 01:13:31.383087           16          5.0  "
      ]
     },
     "execution_count": 15,
     "metadata": {},
     "output_type": "execute_result"
    }
   ],
   "source": [
    "players.head(20)"
   ]
  },
  {
   "cell_type": "code",
   "execution_count": 16,
   "metadata": {},
   "outputs": [
    {
     "name": "stdout",
     "output_type": "stream",
     "text": [
      "<class 'pandas.core.frame.DataFrame'>\n",
      "Int64Index: 100310 entries, 24883 to 37821\n",
      "Data columns (total 21 columns):\n",
      "_id              100310 non-null object\n",
      "ep_id            100310 non-null int64\n",
      "season           100310 non-null object\n",
      "team             100310 non-null object\n",
      "league           100309 non-null object\n",
      "regular_gp       98264 non-null object\n",
      "regular_g        98271 non-null object\n",
      "regular_a        98269 non-null object\n",
      "regular_pim      97600 non-null object\n",
      "regular_pm       64632 non-null object\n",
      "playoffs_gp      42316 non-null object\n",
      "playoffs_g       42318 non-null object\n",
      "playoffs_a       42318 non-null object\n",
      "playoffs_pim     42216 non-null object\n",
      "playoffs_pm      27487 non-null object\n",
      "date_of_birth    100310 non-null datetime64[ns]\n",
      "end_of_season    100310 non-null datetime64[ns]\n",
      "age              100310 non-null int64\n",
      "current_date     100310 non-null datetime64[ns]\n",
      "current_age      100310 non-null int64\n",
      "award_count      21359 non-null float64\n",
      "dtypes: datetime64[ns](3), float64(1), int64(3), object(14)\n",
      "memory usage: 16.8+ MB\n"
     ]
    }
   ],
   "source": [
    "players.info()"
   ]
  },
  {
   "cell_type": "markdown",
   "metadata": {},
   "source": [
    "## Missing Values"
   ]
  },
  {
   "cell_type": "code",
   "execution_count": 17,
   "metadata": {},
   "outputs": [
    {
     "data": {
      "text/plain": [
       "<matplotlib.axes._subplots.AxesSubplot at 0x7f863c9d5950>"
      ]
     },
     "execution_count": 17,
     "metadata": {},
     "output_type": "execute_result"
    },
    {
     "data": {
      "image/png": "[encoded data removed]",
      "text/plain": [
       "<Figure size 1080x1080 with 1 Axes>"
      ]
     },
     "metadata": {
      "needs_background": "light"
     },
     "output_type": "display_data"
    }
   ],
   "source": [
    "fig, ax = plt.subplots(figsize=[15, 15])\n",
    "sns.heatmap(players.isnull(), cbar=False)"
   ]
  },
  {
   "cell_type": "code",
   "execution_count": 28,
   "metadata": {},
   "outputs": [],
   "source": [
    "missing = players.isna()"
   ]
  },
  {
   "cell_type": "code",
   "execution_count": 32,
   "metadata": {},
   "outputs": [
    {
     "data": {
      "text/plain": [
       "award_count      0.787070\n",
       "playoffs_pm      0.725979\n",
       "playoffs_pim     0.579145\n",
       "playoffs_gp      0.578148\n",
       "playoffs_a       0.578128\n",
       "playoffs_g       0.578128\n",
       "regular_pm       0.355677\n",
       "regular_pim      0.027016\n",
       "regular_gp       0.020397\n",
       "regular_a        0.020347\n",
       "regular_g        0.020327\n",
       "league           0.000010\n",
       "ep_id            0.000000\n",
       "season           0.000000\n",
       "team             0.000000\n",
       "end_of_season    0.000000\n",
       "date_of_birth    0.000000\n",
       "current_age      0.000000\n",
       "current_date     0.000000\n",
       "age              0.000000\n",
       "_id              0.000000\n",
       "dtype: float64"
      ]
     },
     "execution_count": 32,
     "metadata": {},
     "output_type": "execute_result"
    }
   ],
   "source": [
    "pd.Series(missing.sum() / len(missing)).sort_values(ascending=False)"
   ]
  },
  {
   "cell_type": "markdown",
   "metadata": {},
   "source": [
    "### age"
   ]
  },
  {
   "cell_type": "code",
   "execution_count": 18,
   "metadata": {},
   "outputs": [
    {
     "data": {
      "text/plain": [
       "array([15, 17, 13, 16, 14, 18, 19, 11, 12, 20, 21, 22, 23, 24, 10, 25, 26,\n",
       "       27, 28, 29, 30, 31, 32, 33, 34, 35, 36, 37, 38, 39])"
      ]
     },
     "execution_count": 18,
     "metadata": {},
     "output_type": "execute_result"
    }
   ],
   "source": [
    "players['age'].unique()"
   ]
  },
  {
   "cell_type": "code",
   "execution_count": 19,
   "metadata": {},
   "outputs": [
    {
     "data": {
      "text/plain": [
       "<matplotlib.axes._subplots.AxesSubplot at 0x7f863ca70150>"
      ]
     },
     "execution_count": 19,
     "metadata": {},
     "output_type": "execute_result"
    },
    {
     "data": {
      "image/png": "[encoded data removed]",
      "text/plain": [
       "<Figure size 432x288 with 1 Axes>"
      ]
     },
     "metadata": {
      "needs_background": "light"
     },
     "output_type": "display_data"
    }
   ],
   "source": [
    "sns.distplot(players['age'])"
   ]
  },
  {
   "cell_type": "markdown",
   "metadata": {},
   "source": [
    "### regular_gp"
   ]
  },
  {
   "cell_type": "code",
   "execution_count": 20,
   "metadata": {},
   "outputs": [
    {
     "data": {
      "text/plain": [
       "array(['26', '38', '0', '14', '7', '2', '5', '33', '4', '32', '1', '29',\n",
       "       '27', '42', '36', '9', '28', '10', '15', '35', '30', '37', '6',\n",
       "       '24', '34', '50', '31', '22', nan, '44', '13', '58', '19', '20',\n",
       "       '23', '3', '39', '16', '18', '21', '52', '49', '64', '40', '25',\n",
       "       '8', '48', '11', '43', '51', '12', '41', '47', '68', '63', '67',\n",
       "       '57', '46', '62', '54', '17', '55', '71', '56', '45', '72', '70',\n",
       "       '59', '73', '53', '60', '61', '66', '65', '80', '81', '76', '69',\n",
       "       '82', '74', '75', '79', '97', '117', '78', '77', '88', '83', '84',\n",
       "       '86', '85', '90', '87', '95'], dtype=object)"
      ]
     },
     "execution_count": 20,
     "metadata": {},
     "output_type": "execute_result"
    }
   ],
   "source": [
    "players['regular_gp'].unique()"
   ]
  },
  {
   "cell_type": "code",
   "execution_count": null,
   "metadata": {},
   "outputs": [],
   "source": [
    "players['regular_gp'] = players['regular_gp'].replace({np.nan: players['regular_gp'].median(skipna=True)})\n",
    "players['regular_gp'] = players['regular_gp'].astype(int)"
   ]
  },
  {
   "cell_type": "code",
   "execution_count": null,
   "metadata": {},
   "outputs": [],
   "source": [
    "sns.distplot(players['regular_gp'])"
   ]
  },
  {
   "cell_type": "markdown",
   "metadata": {},
   "source": [
    "### regular_g"
   ]
  },
  {
   "cell_type": "code",
   "execution_count": null,
   "metadata": {},
   "outputs": [],
   "source": [
    "players['regular_g'].unique()"
   ]
  },
  {
   "cell_type": "code",
   "execution_count": null,
   "metadata": {},
   "outputs": [],
   "source": [
    "players['regular_g'] = players['regular_g'].replace({np.nan: players['regular_g'].median(skipna=True)})\n",
    "players['regular_g'] = players['regular_g'].astype(int)"
   ]
  },
  {
   "cell_type": "code",
   "execution_count": null,
   "metadata": {},
   "outputs": [],
   "source": [
    "sns.distplot(players['regular_g'])"
   ]
  },
  {
   "cell_type": "markdown",
   "metadata": {},
   "source": [
    "### regular_a"
   ]
  },
  {
   "cell_type": "code",
   "execution_count": null,
   "metadata": {},
   "outputs": [],
   "source": [
    "players['regular_a'].unique()"
   ]
  },
  {
   "cell_type": "code",
   "execution_count": null,
   "metadata": {},
   "outputs": [],
   "source": [
    "players['regular_a'] = players['regular_a'].replace({np.nan: players['regular_a'].median(skipna=True)})\n",
    "players['regular_a'] = players['regular_a'].astype(int)"
   ]
  },
  {
   "cell_type": "code",
   "execution_count": null,
   "metadata": {},
   "outputs": [],
   "source": [
    "sns.distplot(players['regular_a'])"
   ]
  },
  {
   "cell_type": "markdown",
   "metadata": {},
   "source": [
    "### regular_pim"
   ]
  },
  {
   "cell_type": "code",
   "execution_count": null,
   "metadata": {},
   "outputs": [],
   "source": [
    "players['regular_pim'].unique()"
   ]
  },
  {
   "cell_type": "code",
   "execution_count": null,
   "metadata": {},
   "outputs": [],
   "source": [
    "players['regular_pim'] = players['regular_pim'].replace({np.nan: players['regular_pim'].median(skipna=True)})\n",
    "players['regular_pim'] = players['regular_pim'].astype(int)"
   ]
  },
  {
   "cell_type": "code",
   "execution_count": null,
   "metadata": {},
   "outputs": [],
   "source": [
    "sns.distplot(players['regular_pim'])"
   ]
  },
  {
   "cell_type": "markdown",
   "metadata": {},
   "source": [
    "### regular_pm"
   ]
  },
  {
   "cell_type": "code",
   "execution_count": null,
   "metadata": {},
   "outputs": [],
   "source": [
    "players['regular_pm'].unique()"
   ]
  },
  {
   "cell_type": "code",
   "execution_count": null,
   "metadata": {},
   "outputs": [],
   "source": [
    "players['regular_pm'] = players['regular_pm'].replace({np.nan: players['regular_pm'].median(skipna=True)})\n",
    "players['regular_pm'] = players['regular_pm'].astype(int)"
   ]
  },
  {
   "cell_type": "code",
   "execution_count": null,
   "metadata": {},
   "outputs": [],
   "source": [
    "sns.distplot(players['regular_pm'])"
   ]
  },
  {
   "cell_type": "markdown",
   "metadata": {},
   "source": [
    "### playoffs_gp"
   ]
  },
  {
   "cell_type": "code",
   "execution_count": null,
   "metadata": {},
   "outputs": [],
   "source": [
    "players['playoffs_gp'].unique()"
   ]
  },
  {
   "cell_type": "code",
   "execution_count": null,
   "metadata": {},
   "outputs": [],
   "source": [
    "players['playoffs_gp'] = players['playoffs_gp'].replace({np.nan: players['playoffs_gp'].median(skipna=True)})\n",
    "players['playoffs_gp'] = players['playoffs_gp'].astype(int)"
   ]
  },
  {
   "cell_type": "code",
   "execution_count": null,
   "metadata": {},
   "outputs": [],
   "source": [
    "sns.distplot(players['playoffs_gp'])"
   ]
  },
  {
   "cell_type": "markdown",
   "metadata": {},
   "source": [
    "### playoffs_g"
   ]
  },
  {
   "cell_type": "code",
   "execution_count": null,
   "metadata": {},
   "outputs": [],
   "source": [
    "players['playoffs_g'].unique()"
   ]
  },
  {
   "cell_type": "code",
   "execution_count": null,
   "metadata": {},
   "outputs": [],
   "source": [
    "players['playoffs_g'] = players['playoffs_g'].replace({np.nan: players['playoffs_g'].median(skipna=True)})\n",
    "players['playoffs_g'] = players['playoffs_g'].astype(int)"
   ]
  },
  {
   "cell_type": "code",
   "execution_count": null,
   "metadata": {},
   "outputs": [],
   "source": [
    "sns.distplot(players['playoffs_g'])"
   ]
  },
  {
   "cell_type": "markdown",
   "metadata": {},
   "source": [
    "### playoffs_a"
   ]
  },
  {
   "cell_type": "code",
   "execution_count": null,
   "metadata": {},
   "outputs": [],
   "source": [
    "players['playoffs_a'].unique()"
   ]
  },
  {
   "cell_type": "code",
   "execution_count": null,
   "metadata": {},
   "outputs": [],
   "source": [
    "players['playoffs_a'] = players['playoffs_a'].replace({np.nan: players['playoffs_a'].median(skipna=True)})\n",
    "players['playoffs_a'] = players['playoffs_a'].astype(int)"
   ]
  },
  {
   "cell_type": "code",
   "execution_count": null,
   "metadata": {},
   "outputs": [],
   "source": [
    "sns.distplot(players['playoffs_a'])"
   ]
  },
  {
   "cell_type": "markdown",
   "metadata": {},
   "source": [
    "### playoffs_pim"
   ]
  },
  {
   "cell_type": "code",
   "execution_count": null,
   "metadata": {},
   "outputs": [],
   "source": [
    "players['playoffs_pim'].unique()"
   ]
  },
  {
   "cell_type": "code",
   "execution_count": null,
   "metadata": {},
   "outputs": [],
   "source": [
    "players['playoffs_pim'] = players['playoffs_pim'].replace({np.nan: players['playoffs_pim'].median(skipna=True)})\n",
    "players['playoffs_pim'] = players['playoffs_pim'].astype(int)"
   ]
  },
  {
   "cell_type": "code",
   "execution_count": null,
   "metadata": {},
   "outputs": [],
   "source": [
    "sns.distplot(players['playoffs_pim'])"
   ]
  },
  {
   "cell_type": "markdown",
   "metadata": {},
   "source": [
    "### playoffs_pm"
   ]
  },
  {
   "cell_type": "code",
   "execution_count": null,
   "metadata": {},
   "outputs": [],
   "source": [
    "players['playoffs_pm'].unique()"
   ]
  },
  {
   "cell_type": "code",
   "execution_count": null,
   "metadata": {},
   "outputs": [],
   "source": [
    "players['playoffs_pm'] = players['playoffs_pm'].replace({np.nan: players['playoffs_pm'].median(skipna=True)})\n",
    "players['playoffs_pm'] = players['playoffs_pm'].astype(int)"
   ]
  },
  {
   "cell_type": "code",
   "execution_count": null,
   "metadata": {},
   "outputs": [],
   "source": [
    "sns.distplot(players['playoffs_pm'])"
   ]
  },
  {
   "cell_type": "markdown",
   "metadata": {},
   "source": [
    "### award_count"
   ]
  },
  {
   "cell_type": "code",
   "execution_count": 41,
   "metadata": {},
   "outputs": [
    {
     "data": {
      "text/plain": [
       "array([  0,   5,  12,   7,   6,   8,  30,  28,  10,  21,   4,  14,  18,\n",
       "         2,  24,  16,   9,  54,  25,  40,  15, 105,  63,  11,  33,  22,\n",
       "        20,  35,  27,  26,  13,  32,  36,  55,  88,  77,  44,  70,  90,\n",
       "        66,  17,  34, 112, 196, 140, 168,  39,  45,  19,  38,  42,  50,\n",
       "       108,  48,  52,  64,  72,  23,  29,  60,  84, 135, 154, 132, 176,\n",
       "        68,  56,  75, 210, 110,  51,  80,  46,  69,  78, 102, 189, 341,\n",
       "        93,  31,  57, 198,  58,  65, 126, 104,  96, 150,  81,  87,  62,\n",
       "       208, 153, 128, 252, 116, 130, 136, 100,  85, 119, 255, 170, 117,\n",
       "       156, 144, 120, 222,  74, 160, 217,  76, 114, 138, 115, 184, 180,\n",
       "       192, 279, 124, 187,  95, 230,  92,  99,   3, 185,  37,  91, 270,\n",
       "       161, 111, 204, 231, 280, 288, 240, 148, 162, 182,  43,  86, 258,\n",
       "       216, 336, 172, 232, 261, 174, 200, 338, 360, 145, 348, 175, 350,\n",
       "       325, 164,  41, 123,  82, 215, 352, 220, 125, 129, 344, 147, 432,\n",
       "       260, 276, 155, 558, 513,  53, 275, 106, 159, 248, 225, 416, 308,\n",
       "       224, 400, 320, 800, 186, 264, 340, 205, 203, 480, 300, 245, 315,\n",
       "       228, 152, 122,  61, 244, 183, 305, 256, 301, 259, 243])"
      ]
     },
     "execution_count": 41,
     "metadata": {},
     "output_type": "execute_result"
    }
   ],
   "source": [
    "players['award_count'].unique()"
   ]
  },
  {
   "cell_type": "code",
   "execution_count": 35,
   "metadata": {},
   "outputs": [],
   "source": [
    "players['award_count'] = players['award_count'].replace({np.nan: 0})\n",
    "players['award_count'] = players['award_count'].astype(int)"
   ]
  },
  {
   "cell_type": "code",
   "execution_count": 44,
   "metadata": {},
   "outputs": [
    {
     "data": {
      "text/plain": [
       "<matplotlib.axes._subplots.AxesSubplot at 0x7f863cccfdd0>"
      ]
     },
     "execution_count": 44,
     "metadata": {},
     "output_type": "execute_result"
    },
    {
     "data": {
      "image/png": "[encoded data removed]",
      "text/plain": [
       "<Figure size 432x288 with 1 Axes>"
      ]
     },
     "metadata": {
      "needs_background": "light"
     },
     "output_type": "display_data"
    }
   ],
   "source": [
    "sns.distplot(players['award_count'].dropna())"
   ]
  },
  {
   "cell_type": "code",
   "execution_count": 46,
   "metadata": {},
   "outputs": [],
   "source": [
    "labels = ['None', 'Good', 'Excellent']\n",
    "bins = [0, 1, 50, 1000]\n",
    "players['award_bins'] = pd.cut(players['award_count'], bins=bins, labels=labels)"
   ]
  },
  {
   "cell_type": "code",
   "execution_count": 47,
   "metadata": {},
   "outputs": [
    {
     "data": {
      "text/plain": [
       "<matplotlib.axes._subplots.AxesSubplot at 0x7f863cd20ad0>"
      ]
     },
     "execution_count": 47,
     "metadata": {},
     "output_type": "execute_result"
    },
    {
     "data": {
      "image/png": "[encoded data removed]",
      "text/plain": [
       "<Figure size 432x288 with 1 Axes>"
      ]
     },
     "metadata": {
      "needs_background": "light"
     },
     "output_type": "display_data"
    }
   ],
   "source": [
    "sns.countplot(players['award_bins'])"
   ]
  },
  {
   "cell_type": "markdown",
   "metadata": {},
   "source": [
    "### Inspect"
   ]
  },
  {
   "cell_type": "markdown",
   "metadata": {},
   "source": [
    "### Subset age >= 25"
   ]
  },
  {
   "cell_type": "code",
   "execution_count": null,
   "metadata": {},
   "outputs": [],
   "source": [
    "players = players[players['current_age'] >= 25]"
   ]
  },
  {
   "cell_type": "code",
   "execution_count": null,
   "metadata": {},
   "outputs": [],
   "source": [
    "len(players['ep_id'].unique())"
   ]
  },
  {
   "cell_type": "markdown",
   "metadata": {},
   "source": [
    "## International"
   ]
  },
  {
   "cell_type": "code",
   "execution_count": null,
   "metadata": {},
   "outputs": [],
   "source": [
    "players['league'].unique()"
   ]
  },
  {
   "cell_type": "code",
   "execution_count": null,
   "metadata": {},
   "outputs": [],
   "source": [
    "jr_inter = [\n",
    "    'International-Jr', \n",
    "    'WJC-17',\n",
    "    'WJC-18',\n",
    "    'WJC-18 B',\n",
    "    'WJC-18 D1',\n",
    "    'WJC-18 D1A',\n",
    "    'WJC-18 D1B',\n",
    "    'WJC-18 D2',\n",
    "    'WJC-18 D3',\n",
    "    'WJC-20',\n",
    "    'WJC-20 B',\n",
    "    'WJC-20 D1',\n",
    "    'WJC-20 D1A',\n",
    "    'WJC-20 D1B',\n",
    "    'WJC-20 D2',\n",
    "    'WJC-20 D2A'\n",
    "]\n",
    "\n",
    "inter = players[players['league'].isin(jr_inter)]\n",
    "inter = inter[inter['age'] <= 18]"
   ]
  },
  {
   "cell_type": "code",
   "execution_count": null,
   "metadata": {},
   "outputs": [],
   "source": [
    "inter.info()"
   ]
  },
  {
   "cell_type": "code",
   "execution_count": null,
   "metadata": {},
   "outputs": [],
   "source": [
    "inter.sample(10)"
   ]
  },
  {
   "cell_type": "code",
   "execution_count": null,
   "metadata": {},
   "outputs": [],
   "source": [
    "inter = inter.rename(columns={'regular_gp': 'inter_regular_gp', \n",
    "                              'regular_g': 'inter_regular_g', \n",
    "                              'regular_a': 'inter_regular_a', \n",
    "                              'regular_pim': 'inter_regular_pim', \n",
    "                              'regular_pm': 'inter_regular_pm', \n",
    "                              'award_count': 'inter_award_count'})\n",
    "\n",
    "inter = inter[[\n",
    "    'ep_id', \n",
    "    'age', \n",
    "    'inter_regular_gp', \n",
    "    'inter_regular_g', \n",
    "    'inter_regular_a', \n",
    "    'inter_regular_pim', \n",
    "    'inter_regular_pm', \n",
    "    'inter_award_count'\n",
    "]]"
   ]
  },
  {
   "cell_type": "code",
   "execution_count": null,
   "metadata": {},
   "outputs": [],
   "source": [
    "inter.sample(10)"
   ]
  },
  {
   "cell_type": "markdown",
   "metadata": {},
   "source": [
    "### Subset players to not include rows from inter"
   ]
  },
  {
   "cell_type": "code",
   "execution_count": null,
   "metadata": {},
   "outputs": [],
   "source": [
    "players = players[~players['league'].isin(jr_inter)]"
   ]
  },
  {
   "cell_type": "code",
   "execution_count": null,
   "metadata": {},
   "outputs": [],
   "source": [
    "players.info()"
   ]
  },
  {
   "cell_type": "markdown",
   "metadata": {},
   "source": [
    "### Reshape inter data"
   ]
  },
  {
   "cell_type": "code",
   "execution_count": null,
   "metadata": {},
   "outputs": [],
   "source": [
    "new_df = pd.DataFrame()\n",
    "\n",
    "ids = list(inter['ep_id'].unique())\n",
    "\n",
    "for id in ids:\n",
    "        \n",
    "    df = inter[inter['ep_id'] == id]\n",
    "\n",
    "    df = df.groupby(['age', 'ep_id']).agg({\n",
    "            'inter_regular_gp': 'sum', \n",
    "            'inter_regular_g': 'sum', \n",
    "            'inter_regular_a': 'sum', \n",
    "            'inter_regular_pim': 'sum',\n",
    "            'inter_regular_pm': 'mean',\n",
    "            'inter_award_count': 'sum'\n",
    "        }).reset_index() \n",
    "\n",
    "    df = df.pivot('ep_id', 'age')\n",
    "    \n",
    "    #Column Labels    \n",
    "    \n",
    "    #Manage the pandas multiindex to re-label each column for each stat and age\n",
    "    df.columns = [''.join(str(col)) for col in df.columns]    \n",
    "    \n",
    "    # Rename column labels for clarity\n",
    "    labels = []\n",
    "\n",
    "    for col in df:\n",
    "\n",
    "        label = re.findall(r\"'(.+)'\", col)\n",
    "        stat = re.findall(r',\\s(\\d{2})', col)\n",
    "\n",
    "        labels.append(label[0] + '_' + stat[0])\n",
    "        \n",
    "    df.columns = labels\n",
    "    \n",
    "    #Append each row of player data to the last\n",
    "    new_df = pd.concat([new_df, df], axis=0, sort=False)\n",
    "    \n",
    "inter_df = new_df.reset_index()"
   ]
  },
  {
   "cell_type": "code",
   "execution_count": null,
   "metadata": {
    "scrolled": true
   },
   "outputs": [],
   "source": [
    "inter_df.sample(10)"
   ]
  },
  {
   "cell_type": "markdown",
   "metadata": {},
   "source": [
    "### Reshape quantitative data"
   ]
  },
  {
   "cell_type": "code",
   "execution_count": null,
   "metadata": {},
   "outputs": [],
   "source": [
    "new_df = pd.DataFrame()\n",
    "\n",
    "ids = players['ep_id'].unique()\n",
    "\n",
    "for id in ids:\n",
    "        \n",
    "    df = players[players['ep_id'] == id]\n",
    "\n",
    "    df = df.groupby(['age', 'ep_id']).agg({\n",
    "            'regular_gp': 'sum', \n",
    "            'regular_g': 'sum', \n",
    "            'regular_a': 'sum', \n",
    "            'regular_pim': 'sum',\n",
    "            'regular_pm': 'mean',\n",
    "            'playoffs_gp': 'sum',\n",
    "            'playoffs_g': 'sum',\n",
    "            'playoffs_a': 'sum',\n",
    "            'playoffs_pim': 'sum',\n",
    "            'playoffs_pm': 'mean',\n",
    "            'award_count': 'sum'\n",
    "        }).reset_index() \n",
    "\n",
    "    df = df.pivot('ep_id', 'age')\n",
    "    \n",
    "    #Column Labels    \n",
    "    \n",
    "    #Manage the pandas multiindex to re-label each column for each stat and age\n",
    "    df.columns = [''.join(str(col)) for col in df.columns]    \n",
    "    \n",
    "    # Rename column labels for clarity\n",
    "    labels = []\n",
    "\n",
    "    for col in df:\n",
    "\n",
    "        label = re.findall(r\"'(.+)'\", col)\n",
    "        stat = re.findall(r',\\s(\\d{2})', col)\n",
    "\n",
    "        labels.append(label[0] + '_' + stat[0])\n",
    "        \n",
    "    df.columns = labels\n",
    "    \n",
    "    #Append each row of player data to the last\n",
    "    new_df = pd.concat([new_df, df], axis=0, sort=False)\n",
    "\n",
    "quan_df = new_df.reset_index()"
   ]
  },
  {
   "cell_type": "code",
   "execution_count": null,
   "metadata": {},
   "outputs": [],
   "source": [
    "quan_df"
   ]
  },
  {
   "cell_type": "markdown",
   "metadata": {},
   "source": [
    "### Reshape qualitative"
   ]
  },
  {
   "cell_type": "code",
   "execution_count": null,
   "metadata": {},
   "outputs": [],
   "source": [
    "ids = players['ep_id'].unique()\n",
    "\n",
    "new_df = pd.DataFrame()\n",
    "\n",
    "for id in ids:\n",
    "    \n",
    "    df = players[players['ep_id'] == id].reset_index().sort_values('age')\n",
    "    df = df.drop(['index', '_id'], 1).drop_duplicates()\n",
    "    \n",
    "    ages = []\n",
    "    teams = []\n",
    "    leagues = []\n",
    "    age_test = []\n",
    "\n",
    "    high_gp = 0\n",
    "\n",
    "    for row in df.iterrows():    \n",
    "\n",
    "        if row[1]['age'] not in age_test:\n",
    "\n",
    "            age_test.append(row[1]['age'])\n",
    "\n",
    "            age = row[1]['age']\n",
    "            team = row[1]['team']\n",
    "            league = row[1]['league']\n",
    "\n",
    "            high_gp = int(row[1]['regular_gp'])\n",
    "\n",
    "            ages.append(age)\n",
    "            teams.append(team)\n",
    "            leagues.append(league)\n",
    "\n",
    "        elif row[1]['age'] in age_test:\n",
    "\n",
    "            if int(row[1]['regular_gp']) > high_gp:\n",
    "\n",
    "                age = row[1]['age']\n",
    "                team = row[1]['team']\n",
    "                league = row[1]['league']\n",
    "\n",
    "                high_gp = int(row[1]['regular_gp'])\n",
    "\n",
    "                ages = ages[:-1]\n",
    "                teams = teams[:-1]\n",
    "                leagues = leagues[:-1]\n",
    "\n",
    "                ages.append(age)\n",
    "                teams.append(team)\n",
    "                leagues.append(league)\n",
    "\n",
    "    test_df = pd.DataFrame(zip(ages, teams, leagues), columns=['age', 'team', 'league'])\n",
    "\n",
    "    test_df['ep_id'] = row[1]['ep_id']\n",
    "\n",
    "    test_df = test_df.pivot('ep_id', 'age')\n",
    "\n",
    "    test_df.columns = [''.join(str(col)) for col in test_df.columns]\n",
    "\n",
    "    # Rename column labels for clarity\n",
    "    labels = []\n",
    "\n",
    "    for col in test_df:\n",
    "\n",
    "        label = re.findall(r\"'(.+)'\", col)\n",
    "        stat = re.findall(r',\\s(\\d{2})', col)\n",
    "\n",
    "        labels.append(label[0] + '_' + stat[0])\n",
    "\n",
    "    test_df.columns = labels\n",
    "    \n",
    "    # Combined test_df and the larger qual_df\n",
    "    new_df = pd.concat([new_df, test_df], axis=0, sort=False)\n",
    "    \n",
    "qual_df = new_df.reset_index()"
   ]
  },
  {
   "cell_type": "code",
   "execution_count": null,
   "metadata": {},
   "outputs": [],
   "source": [
    "qual_df.head()"
   ]
  },
  {
   "cell_type": "markdown",
   "metadata": {},
   "source": [
    "### Merge qualitative and quantitative dataframes"
   ]
  },
  {
   "cell_type": "code",
   "execution_count": null,
   "metadata": {},
   "outputs": [],
   "source": [
    "combined = pd.merge(quan_df, qual_df, on='ep_id', how='left').reset_index()\n",
    "combined = pd.merge(combined, inter_df, on='ep_id', how='left')"
   ]
  },
  {
   "cell_type": "markdown",
   "metadata": {},
   "source": [
    "### Combine Meta and Combined dataframes"
   ]
  },
  {
   "cell_type": "code",
   "execution_count": null,
   "metadata": {},
   "outputs": [],
   "source": [
    "main = pd.merge(meta, combined, on = 'ep_id', how = 'left')\n",
    "    \n",
    "main = main.reset_index()\n",
    "main = round(main.drop(['_id', 'index'], 1))"
   ]
  },
  {
   "cell_type": "code",
   "execution_count": null,
   "metadata": {},
   "outputs": [],
   "source": [
    "main.head()"
   ]
  },
  {
   "cell_type": "markdown",
   "metadata": {},
   "source": [
    "### Save and inspect data"
   ]
  },
  {
   "cell_type": "code",
   "execution_count": null,
   "metadata": {},
   "outputs": [],
   "source": [
    "#main.to_csv('main.csv')"
   ]
  },
  {
   "cell_type": "code",
   "execution_count": null,
   "metadata": {},
   "outputs": [],
   "source": []
  }
 ],
 "metadata": {
  "kernelspec": {
   "display_name": "Python 3",
   "language": "python",
   "name": "python3"
  },
  "language_info": {
   "codemirror_mode": {
    "name": "ipython",
    "version": 3
   },
   "file_extension": ".py",
   "mimetype": "text/x-python",
   "name": "python",
   "nbconvert_exporter": "python",
   "pygments_lexer": "ipython3",
   "version": "3.7.4"
  }
 },
 "nbformat": 4,
 "nbformat_minor": 4
}
