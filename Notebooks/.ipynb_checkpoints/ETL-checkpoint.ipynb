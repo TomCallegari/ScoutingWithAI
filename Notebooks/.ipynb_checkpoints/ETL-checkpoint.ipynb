{
 "cells": [
  {
   "cell_type": "markdown",
   "metadata": {},
   "source": [
    "### Package Dependencies"
   ]
  },
  {
   "cell_type": "code",
   "execution_count": 1,
   "metadata": {},
   "outputs": [],
   "source": [
    "import pymongo\n",
    "import pandas as pd\n",
    "import numpy as np\n",
    "import matplotlib.pyplot as plt\n",
    "import seaborn as sns\n",
    "import re\n",
    "from datetime import datetime\n",
    "import seaborn as sns\n",
    "\n",
    "pd.set_option('display.max_rows', 500)\n",
    "pd.set_option('display.max_columns', 500)"
   ]
  },
  {
   "cell_type": "markdown",
   "metadata": {},
   "source": [
    "### Connect to MongoDB"
   ]
  },
  {
   "cell_type": "code",
   "execution_count": 2,
   "metadata": {},
   "outputs": [],
   "source": [
    "conn = 'mongodb://localhost:27018'\n",
    "client = pymongo.MongoClient(conn)"
   ]
  },
  {
   "cell_type": "markdown",
   "metadata": {},
   "source": [
    "### Pull Data"
   ]
  },
  {
   "cell_type": "code",
   "execution_count": 3,
   "metadata": {},
   "outputs": [],
   "source": [
    "db = client.eliteprospects\n",
    "\n",
    "metadata = db.meta_data\n",
    "player_stats = db.player_data\n",
    "award_stats = db.awards_data\n",
    "\n",
    "meta = pd.DataFrame(list(metadata.find()))\n",
    "players = pd.DataFrame(list(player_stats.find()))\n",
    "awards = pd.DataFrame(list(award_stats.find()))"
   ]
  },
  {
   "cell_type": "markdown",
   "metadata": {},
   "source": [
    "### Write/Read CSV"
   ]
  },
  {
   "cell_type": "code",
   "execution_count": 4,
   "metadata": {},
   "outputs": [],
   "source": [
    "# meta.to_csv('meta.csv')\n",
    "# players.to_csv('players.csv')\n",
    "# inter.to_csv('international.csv')\n",
    "# playoffs.to_csv('playoffs.csv')\n",
    "\n",
    "# meta = pd.read_csv('~/Analytics/ScoutingWithAI/Misc/meta.csv')\n",
    "# players = pd.read_csv('~/Analytics/ScoutingWithAI/Misc/players.csv')\n",
    "# inter = pd.read_csv('~/Analytics/ScoutingWithAI/Notebooks/international.csv')"
   ]
  },
  {
   "cell_type": "markdown",
   "metadata": {},
   "source": [
    "## Wrangling"
   ]
  },
  {
   "cell_type": "markdown",
   "metadata": {},
   "source": [
    "### Get the age of each player for each season then merge awards with players"
   ]
  },
  {
   "cell_type": "markdown",
   "metadata": {},
   "source": [
    "#### Set ep_id to int in each table"
   ]
  },
  {
   "cell_type": "code",
   "execution_count": 5,
   "metadata": {},
   "outputs": [],
   "source": [
    "# ep_id as an integer\n",
    "players['ep_id'] = players['ep_id'].astype(int)\n",
    "meta['ep_id'] = meta['ep_id'].astype(int)\n",
    "awards['ep_id'] = awards['ep_id'].astype(int)"
   ]
  },
  {
   "cell_type": "markdown",
   "metadata": {},
   "source": [
    "#### Birthdays"
   ]
  },
  {
   "cell_type": "code",
   "execution_count": 6,
   "metadata": {},
   "outputs": [],
   "source": [
    "# Set aside each players birthday\n",
    "birthdays = meta[['ep_id', 'date_of_birth']]\n",
    "\n",
    "# Merge the birthdays with each player row in the players and awards tables\n",
    "players = pd.merge(players, birthdays, on = 'ep_id', how = 'left')\n",
    "awards = pd.merge(awards, birthdays, on = 'ep_id', how = 'left')"
   ]
  },
  {
   "cell_type": "markdown",
   "metadata": {},
   "source": [
    "#### Extract end_of_season var"
   ]
  },
  {
   "cell_type": "code",
   "execution_count": 7,
   "metadata": {},
   "outputs": [],
   "source": [
    "players = players.drop(players[players['team'] == 'Did not play'].index)\n",
    "players['end_of_season'] = np.where(players['season'].str.extract(r'-(\\d{1})\\d{1}') == '9', \n",
    "                                    '19' + players['season'].str.extract(r'-(\\d{2})') + '-04-05',\n",
    "                                    '20' + players['season'].str.extract(r'-(\\d{2})') + '-04-05')\n",
    "\n",
    "awards['end_of_season'] = awards['season'].str.extract(r'-(\\d{4})') + '-04-05'"
   ]
  },
  {
   "cell_type": "code",
   "execution_count": 8,
   "metadata": {},
   "outputs": [],
   "source": [
    "# Convert date_of_birth and end_of_season to pandas datetime\n",
    "players['date_of_birth'] = pd.to_datetime(players['date_of_birth'])\n",
    "players['end_of_season'] = pd.to_datetime(players['end_of_season'])\n",
    "\n",
    "awards['date_of_birth'] = pd.to_datetime(awards['date_of_birth'])\n",
    "awards['end_of_season'] = pd.to_datetime(awards['end_of_season'])\n",
    "\n",
    "# Subtract end_of_season from date_of_birth to get the age of each player at the end of each season\n",
    "players['age'] = players['end_of_season'] - players['date_of_birth']\n",
    "awards['age'] = awards['end_of_season'] - awards['date_of_birth']\n",
    "\n",
    "# Convert the pandas timedelta object to integer years\n",
    "players['age'] = round(players['age'].dt.days / 365).astype(int)\n",
    "awards['age'] = round(awards['age'].dt.days / 365)\n",
    "\n",
    "# Set aside current date\n",
    "players['current_date'] = pd.to_datetime('today')\n",
    "\n",
    "# Subtract players birth date from the current date to get the current age\n",
    "players['current_age'] = players['current_date'] - players['date_of_birth']\n",
    "\n",
    "# Convert the pandas timedelta to integer years\n",
    "players['current_age'] = round(players['current_age'].dt.days / 365).astype(int)\n",
    "\n",
    "# Group awards by ep_id and age\n",
    "awards_grouped = awards.groupby(['ep_id', 'age']).agg({'award_count': 'sum'}).reset_index()"
   ]
  },
  {
   "cell_type": "code",
   "execution_count": 9,
   "metadata": {},
   "outputs": [],
   "source": [
    "players = pd.merge(players, awards_grouped, on=['ep_id', 'age'], how='left')"
   ]
  },
  {
   "cell_type": "code",
   "execution_count": 10,
   "metadata": {},
   "outputs": [
    {
     "data": {
      "text/plain": [
       "629"
      ]
     },
     "execution_count": 10,
     "metadata": {},
     "output_type": "execute_result"
    }
   ],
   "source": [
    "len(players['league'].unique())"
   ]
  },
  {
   "cell_type": "markdown",
   "metadata": {},
   "source": [
    "## Variable Cleaning"
   ]
  },
  {
   "cell_type": "code",
   "execution_count": 11,
   "metadata": {},
   "outputs": [],
   "source": [
    "players = players.replace({'': np.nan, '-': np.nan})\n",
    "players = players.sort_values('current_age')"
   ]
  },
  {
   "cell_type": "code",
   "execution_count": 14,
   "metadata": {},
   "outputs": [
    {
     "data": {
      "text/html": [
       "<div>\n",
       "<style scoped>\n",
       "    .dataframe tbody tr th:only-of-type {\n",
       "        vertical-align: middle;\n",
       "    }\n",
       "\n",
       "    .dataframe tbody tr th {\n",
       "        vertical-align: top;\n",
       "    }\n",
       "\n",
       "    .dataframe thead th {\n",
       "        text-align: right;\n",
       "    }\n",
       "</style>\n",
       "<table border=\"1\" class=\"dataframe\">\n",
       "  <thead>\n",
       "    <tr style=\"text-align: right;\">\n",
       "      <th></th>\n",
       "      <th>_id</th>\n",
       "      <th>ep_id</th>\n",
       "      <th>season</th>\n",
       "      <th>team</th>\n",
       "      <th>league</th>\n",
       "      <th>regular_gp</th>\n",
       "      <th>regular_g</th>\n",
       "      <th>regular_a</th>\n",
       "      <th>regular_pim</th>\n",
       "      <th>regular_pm</th>\n",
       "      <th>team_type</th>\n",
       "      <th>playoffs_gp</th>\n",
       "      <th>playoffs_g</th>\n",
       "      <th>playoffs_a</th>\n",
       "      <th>playoffs_pim</th>\n",
       "      <th>playoffs_pm</th>\n",
       "      <th>date_of_birth</th>\n",
       "      <th>end_of_season</th>\n",
       "      <th>age</th>\n",
       "      <th>current_date</th>\n",
       "      <th>current_age</th>\n",
       "      <th>award_count</th>\n",
       "    </tr>\n",
       "  </thead>\n",
       "  <tbody>\n",
       "    <tr>\n",
       "      <td>99919</td>\n",
       "      <td>5e1937db20b2973d785a51bb</td>\n",
       "      <td>484173</td>\n",
       "      <td>2017-18</td>\n",
       "      <td>Lac St-Louis Arsenal Bantam AAA</td>\n",
       "      <td>QBAAA</td>\n",
       "      <td>30</td>\n",
       "      <td>11</td>\n",
       "      <td>14</td>\n",
       "      <td>22</td>\n",
       "      <td>NaN</td>\n",
       "      <td>club</td>\n",
       "      <td>NaN</td>\n",
       "      <td>NaN</td>\n",
       "      <td>NaN</td>\n",
       "      <td>NaN</td>\n",
       "      <td>NaN</td>\n",
       "      <td>2003-12-11</td>\n",
       "      <td>2018-04-05</td>\n",
       "      <td>14</td>\n",
       "      <td>2020-01-17 22:40:29.278164</td>\n",
       "      <td>16</td>\n",
       "      <td>NaN</td>\n",
       "    </tr>\n",
       "    <tr>\n",
       "      <td>24885</td>\n",
       "      <td>5e18ff5320b2973d78544931</td>\n",
       "      <td>477345</td>\n",
       "      <td>2018-19</td>\n",
       "      <td>Fraser Valley Thunderbirds</td>\n",
       "      <td>BCMML</td>\n",
       "      <td>32</td>\n",
       "      <td>7</td>\n",
       "      <td>19</td>\n",
       "      <td>22</td>\n",
       "      <td>NaN</td>\n",
       "      <td>club</td>\n",
       "      <td>6</td>\n",
       "      <td>1</td>\n",
       "      <td>4</td>\n",
       "      <td>8</td>\n",
       "      <td>NaN</td>\n",
       "      <td>2003-09-12</td>\n",
       "      <td>2019-04-05</td>\n",
       "      <td>16</td>\n",
       "      <td>2020-01-17 22:40:29.278164</td>\n",
       "      <td>16</td>\n",
       "      <td>7.0</td>\n",
       "    </tr>\n",
       "    <tr>\n",
       "      <td>99691</td>\n",
       "      <td>5e1937a220b2973d785a4d6e</td>\n",
       "      <td>483757</td>\n",
       "      <td>2016-17</td>\n",
       "      <td>Beauce-Appalaches Bantam AAA</td>\n",
       "      <td>QBAAA</td>\n",
       "      <td>30</td>\n",
       "      <td>19</td>\n",
       "      <td>15</td>\n",
       "      <td>0</td>\n",
       "      <td>NaN</td>\n",
       "      <td>club</td>\n",
       "      <td>NaN</td>\n",
       "      <td>NaN</td>\n",
       "      <td>NaN</td>\n",
       "      <td>NaN</td>\n",
       "      <td>NaN</td>\n",
       "      <td>2003-08-06</td>\n",
       "      <td>2017-04-05</td>\n",
       "      <td>14</td>\n",
       "      <td>2020-01-17 22:40:29.278164</td>\n",
       "      <td>16</td>\n",
       "      <td>NaN</td>\n",
       "    </tr>\n",
       "    <tr>\n",
       "      <td>99692</td>\n",
       "      <td>5e1937a220b2973d785a4d71</td>\n",
       "      <td>483757</td>\n",
       "      <td>2017-18</td>\n",
       "      <td>Beauce-Appalaches Bantam AAA</td>\n",
       "      <td>QBAAA</td>\n",
       "      <td>27</td>\n",
       "      <td>33</td>\n",
       "      <td>27</td>\n",
       "      <td>8</td>\n",
       "      <td>NaN</td>\n",
       "      <td>club</td>\n",
       "      <td>NaN</td>\n",
       "      <td>NaN</td>\n",
       "      <td>NaN</td>\n",
       "      <td>NaN</td>\n",
       "      <td>NaN</td>\n",
       "      <td>2003-08-06</td>\n",
       "      <td>2018-04-05</td>\n",
       "      <td>15</td>\n",
       "      <td>2020-01-17 22:40:29.278164</td>\n",
       "      <td>16</td>\n",
       "      <td>12.0</td>\n",
       "    </tr>\n",
       "    <tr>\n",
       "      <td>99693</td>\n",
       "      <td>5e1937a220b2973d785a4d74</td>\n",
       "      <td>483757</td>\n",
       "      <td>2017-18</td>\n",
       "      <td>Pointe-Lévy Corsaires Espoir</td>\n",
       "      <td>QMEAA</td>\n",
       "      <td>1</td>\n",
       "      <td>1</td>\n",
       "      <td>1</td>\n",
       "      <td>0</td>\n",
       "      <td>NaN</td>\n",
       "      <td>international</td>\n",
       "      <td>NaN</td>\n",
       "      <td>NaN</td>\n",
       "      <td>NaN</td>\n",
       "      <td>NaN</td>\n",
       "      <td>NaN</td>\n",
       "      <td>2003-08-06</td>\n",
       "      <td>2018-04-05</td>\n",
       "      <td>15</td>\n",
       "      <td>2020-01-17 22:40:29.278164</td>\n",
       "      <td>16</td>\n",
       "      <td>12.0</td>\n",
       "    </tr>\n",
       "    <tr>\n",
       "      <td>99694</td>\n",
       "      <td>5e1937a220b2973d785a4d77</td>\n",
       "      <td>483757</td>\n",
       "      <td>2018-19</td>\n",
       "      <td>Lévis Chevaliers</td>\n",
       "      <td>QMAAA</td>\n",
       "      <td>42</td>\n",
       "      <td>38</td>\n",
       "      <td>50</td>\n",
       "      <td>6</td>\n",
       "      <td>41</td>\n",
       "      <td>club</td>\n",
       "      <td>11</td>\n",
       "      <td>6</td>\n",
       "      <td>5</td>\n",
       "      <td>0</td>\n",
       "      <td>2</td>\n",
       "      <td>2003-08-06</td>\n",
       "      <td>2019-04-05</td>\n",
       "      <td>16</td>\n",
       "      <td>2020-01-17 22:40:29.278164</td>\n",
       "      <td>16</td>\n",
       "      <td>NaN</td>\n",
       "    </tr>\n",
       "    <tr>\n",
       "      <td>99695</td>\n",
       "      <td>5e1937a220b2973d785a4d7a</td>\n",
       "      <td>483757</td>\n",
       "      <td>2019-20</td>\n",
       "      <td>Saint John Sea Dogs</td>\n",
       "      <td>QMJHL</td>\n",
       "      <td>37</td>\n",
       "      <td>8</td>\n",
       "      <td>13</td>\n",
       "      <td>4</td>\n",
       "      <td>-16</td>\n",
       "      <td>club</td>\n",
       "      <td>NaN</td>\n",
       "      <td>NaN</td>\n",
       "      <td>NaN</td>\n",
       "      <td>NaN</td>\n",
       "      <td>NaN</td>\n",
       "      <td>2003-08-06</td>\n",
       "      <td>2020-04-05</td>\n",
       "      <td>17</td>\n",
       "      <td>2020-01-17 22:40:29.278164</td>\n",
       "      <td>16</td>\n",
       "      <td>NaN</td>\n",
       "    </tr>\n",
       "    <tr>\n",
       "      <td>99696</td>\n",
       "      <td>5e1937a220b2973d785a4d7d</td>\n",
       "      <td>483757</td>\n",
       "      <td>2019-20</td>\n",
       "      <td>Canada Red U17</td>\n",
       "      <td>WHC-17</td>\n",
       "      <td>5</td>\n",
       "      <td>2</td>\n",
       "      <td>2</td>\n",
       "      <td>6</td>\n",
       "      <td>NaN</td>\n",
       "      <td>international</td>\n",
       "      <td>NaN</td>\n",
       "      <td>NaN</td>\n",
       "      <td>NaN</td>\n",
       "      <td>NaN</td>\n",
       "      <td>NaN</td>\n",
       "      <td>2003-08-06</td>\n",
       "      <td>2020-04-05</td>\n",
       "      <td>17</td>\n",
       "      <td>2020-01-17 22:40:29.278164</td>\n",
       "      <td>16</td>\n",
       "      <td>NaN</td>\n",
       "    </tr>\n",
       "    <tr>\n",
       "      <td>24884</td>\n",
       "      <td>5e18ff5320b2973d7854492f</td>\n",
       "      <td>477345</td>\n",
       "      <td>2017-18</td>\n",
       "      <td>Yale Hockey Academy Prep</td>\n",
       "      <td>CSSHL</td>\n",
       "      <td>2</td>\n",
       "      <td>0</td>\n",
       "      <td>1</td>\n",
       "      <td>2</td>\n",
       "      <td>NaN</td>\n",
       "      <td>international</td>\n",
       "      <td>NaN</td>\n",
       "      <td>NaN</td>\n",
       "      <td>NaN</td>\n",
       "      <td>NaN</td>\n",
       "      <td>NaN</td>\n",
       "      <td>2003-09-12</td>\n",
       "      <td>2018-04-05</td>\n",
       "      <td>15</td>\n",
       "      <td>2020-01-17 22:40:29.278164</td>\n",
       "      <td>16</td>\n",
       "      <td>NaN</td>\n",
       "    </tr>\n",
       "    <tr>\n",
       "      <td>24886</td>\n",
       "      <td>5e18ff5320b2973d78544933</td>\n",
       "      <td>477345</td>\n",
       "      <td>2018-19</td>\n",
       "      <td>Spokane Chiefs</td>\n",
       "      <td>WHL</td>\n",
       "      <td>1</td>\n",
       "      <td>1</td>\n",
       "      <td>0</td>\n",
       "      <td>0</td>\n",
       "      <td>2</td>\n",
       "      <td>international</td>\n",
       "      <td>NaN</td>\n",
       "      <td>NaN</td>\n",
       "      <td>NaN</td>\n",
       "      <td>NaN</td>\n",
       "      <td>NaN</td>\n",
       "      <td>2003-09-12</td>\n",
       "      <td>2019-04-05</td>\n",
       "      <td>16</td>\n",
       "      <td>2020-01-17 22:40:29.278164</td>\n",
       "      <td>16</td>\n",
       "      <td>7.0</td>\n",
       "    </tr>\n",
       "    <tr>\n",
       "      <td>30040</td>\n",
       "      <td>5e19034f20b2973d7854a97b</td>\n",
       "      <td>486537</td>\n",
       "      <td>2016-17</td>\n",
       "      <td>Saskatoon Maniacs Bantam AA</td>\n",
       "      <td>SBAAHL</td>\n",
       "      <td>29</td>\n",
       "      <td>4</td>\n",
       "      <td>11</td>\n",
       "      <td>56</td>\n",
       "      <td>NaN</td>\n",
       "      <td>club</td>\n",
       "      <td>7</td>\n",
       "      <td>2</td>\n",
       "      <td>5</td>\n",
       "      <td>12</td>\n",
       "      <td>NaN</td>\n",
       "      <td>2003-09-20</td>\n",
       "      <td>2017-04-05</td>\n",
       "      <td>14</td>\n",
       "      <td>2020-01-17 22:40:29.278164</td>\n",
       "      <td>16</td>\n",
       "      <td>NaN</td>\n",
       "    </tr>\n",
       "    <tr>\n",
       "      <td>30041</td>\n",
       "      <td>5e19034f20b2973d7854a97c</td>\n",
       "      <td>486537</td>\n",
       "      <td>2017-18</td>\n",
       "      <td>Pacific Coast Academy Btm Prep</td>\n",
       "      <td>CSSBHL</td>\n",
       "      <td>24</td>\n",
       "      <td>8</td>\n",
       "      <td>10</td>\n",
       "      <td>65</td>\n",
       "      <td>NaN</td>\n",
       "      <td>club</td>\n",
       "      <td>3</td>\n",
       "      <td>0</td>\n",
       "      <td>0</td>\n",
       "      <td>0</td>\n",
       "      <td>NaN</td>\n",
       "      <td>2003-09-20</td>\n",
       "      <td>2018-04-05</td>\n",
       "      <td>15</td>\n",
       "      <td>2020-01-17 22:40:29.278164</td>\n",
       "      <td>16</td>\n",
       "      <td>NaN</td>\n",
       "    </tr>\n",
       "    <tr>\n",
       "      <td>30042</td>\n",
       "      <td>5e19034f20b2973d7854a97d</td>\n",
       "      <td>486537</td>\n",
       "      <td>2017-18</td>\n",
       "      <td>Pacific Coast Academy Prep</td>\n",
       "      <td>CSSHL</td>\n",
       "      <td>1</td>\n",
       "      <td>0</td>\n",
       "      <td>0</td>\n",
       "      <td>0</td>\n",
       "      <td>NaN</td>\n",
       "      <td>international</td>\n",
       "      <td>NaN</td>\n",
       "      <td>NaN</td>\n",
       "      <td>NaN</td>\n",
       "      <td>NaN</td>\n",
       "      <td>NaN</td>\n",
       "      <td>2003-09-20</td>\n",
       "      <td>2018-04-05</td>\n",
       "      <td>15</td>\n",
       "      <td>2020-01-17 22:40:29.278164</td>\n",
       "      <td>16</td>\n",
       "      <td>NaN</td>\n",
       "    </tr>\n",
       "    <tr>\n",
       "      <td>30043</td>\n",
       "      <td>5e19034f20b2973d7854a97e</td>\n",
       "      <td>486537</td>\n",
       "      <td>2017-18</td>\n",
       "      <td>Pacific Coast Academy Elite 15s</td>\n",
       "      <td>CSSHL E15</td>\n",
       "      <td>1</td>\n",
       "      <td>0</td>\n",
       "      <td>0</td>\n",
       "      <td>0</td>\n",
       "      <td>NaN</td>\n",
       "      <td>international</td>\n",
       "      <td>NaN</td>\n",
       "      <td>NaN</td>\n",
       "      <td>NaN</td>\n",
       "      <td>NaN</td>\n",
       "      <td>NaN</td>\n",
       "      <td>2003-09-20</td>\n",
       "      <td>2018-04-05</td>\n",
       "      <td>15</td>\n",
       "      <td>2020-01-17 22:40:29.278164</td>\n",
       "      <td>16</td>\n",
       "      <td>NaN</td>\n",
       "    </tr>\n",
       "    <tr>\n",
       "      <td>30045</td>\n",
       "      <td>5e19034f20b2973d7854a980</td>\n",
       "      <td>486537</td>\n",
       "      <td>2018-19</td>\n",
       "      <td>Kootenay Ice</td>\n",
       "      <td>WHL</td>\n",
       "      <td>2</td>\n",
       "      <td>0</td>\n",
       "      <td>0</td>\n",
       "      <td>0</td>\n",
       "      <td>0</td>\n",
       "      <td>international</td>\n",
       "      <td>NaN</td>\n",
       "      <td>NaN</td>\n",
       "      <td>NaN</td>\n",
       "      <td>NaN</td>\n",
       "      <td>NaN</td>\n",
       "      <td>2003-09-20</td>\n",
       "      <td>2019-04-05</td>\n",
       "      <td>16</td>\n",
       "      <td>2020-01-17 22:40:29.278164</td>\n",
       "      <td>16</td>\n",
       "      <td>NaN</td>\n",
       "    </tr>\n",
       "    <tr>\n",
       "      <td>30046</td>\n",
       "      <td>5e19034f20b2973d7854a981</td>\n",
       "      <td>486537</td>\n",
       "      <td>2019-20</td>\n",
       "      <td>Rink Hockey Academy Prep</td>\n",
       "      <td>CSSHL</td>\n",
       "      <td>7</td>\n",
       "      <td>2</td>\n",
       "      <td>2</td>\n",
       "      <td>22</td>\n",
       "      <td>NaN</td>\n",
       "      <td>club</td>\n",
       "      <td>NaN</td>\n",
       "      <td>NaN</td>\n",
       "      <td>NaN</td>\n",
       "      <td>NaN</td>\n",
       "      <td>NaN</td>\n",
       "      <td>2003-09-20</td>\n",
       "      <td>2020-04-05</td>\n",
       "      <td>17</td>\n",
       "      <td>2020-01-17 22:40:29.278164</td>\n",
       "      <td>16</td>\n",
       "      <td>NaN</td>\n",
       "    </tr>\n",
       "    <tr>\n",
       "      <td>30047</td>\n",
       "      <td>5e19035020b2973d7854a982</td>\n",
       "      <td>486537</td>\n",
       "      <td>2019-20</td>\n",
       "      <td>Winnipeg Ice</td>\n",
       "      <td>WHL</td>\n",
       "      <td>14</td>\n",
       "      <td>0</td>\n",
       "      <td>1</td>\n",
       "      <td>0</td>\n",
       "      <td>1</td>\n",
       "      <td>international</td>\n",
       "      <td>NaN</td>\n",
       "      <td>NaN</td>\n",
       "      <td>NaN</td>\n",
       "      <td>NaN</td>\n",
       "      <td>NaN</td>\n",
       "      <td>2003-09-20</td>\n",
       "      <td>2020-04-05</td>\n",
       "      <td>17</td>\n",
       "      <td>2020-01-17 22:40:29.278164</td>\n",
       "      <td>16</td>\n",
       "      <td>NaN</td>\n",
       "    </tr>\n",
       "    <tr>\n",
       "      <td>24887</td>\n",
       "      <td>5e18ff5320b2973d78544935</td>\n",
       "      <td>477345</td>\n",
       "      <td>2019-20</td>\n",
       "      <td>Spokane Chiefs</td>\n",
       "      <td>WHL</td>\n",
       "      <td>29</td>\n",
       "      <td>0</td>\n",
       "      <td>7</td>\n",
       "      <td>4</td>\n",
       "      <td>3</td>\n",
       "      <td>club</td>\n",
       "      <td>NaN</td>\n",
       "      <td>NaN</td>\n",
       "      <td>NaN</td>\n",
       "      <td>NaN</td>\n",
       "      <td>NaN</td>\n",
       "      <td>2003-09-12</td>\n",
       "      <td>2020-04-05</td>\n",
       "      <td>17</td>\n",
       "      <td>2020-01-17 22:40:29.278164</td>\n",
       "      <td>16</td>\n",
       "      <td>NaN</td>\n",
       "    </tr>\n",
       "    <tr>\n",
       "      <td>24883</td>\n",
       "      <td>5e18ff5320b2973d7854492d</td>\n",
       "      <td>477345</td>\n",
       "      <td>2017-18</td>\n",
       "      <td>Yale Hockey Academy Bantam Prep</td>\n",
       "      <td>CSSBHL</td>\n",
       "      <td>26</td>\n",
       "      <td>2</td>\n",
       "      <td>16</td>\n",
       "      <td>48</td>\n",
       "      <td>NaN</td>\n",
       "      <td>club</td>\n",
       "      <td>3</td>\n",
       "      <td>0</td>\n",
       "      <td>1</td>\n",
       "      <td>4</td>\n",
       "      <td>NaN</td>\n",
       "      <td>2003-09-12</td>\n",
       "      <td>2018-04-05</td>\n",
       "      <td>15</td>\n",
       "      <td>2020-01-17 22:40:29.278164</td>\n",
       "      <td>16</td>\n",
       "      <td>NaN</td>\n",
       "    </tr>\n",
       "    <tr>\n",
       "      <td>24882</td>\n",
       "      <td>5e18ff5320b2973d7854492b</td>\n",
       "      <td>477345</td>\n",
       "      <td>2016-17</td>\n",
       "      <td>Yale Hockey Academy Bantam Prep</td>\n",
       "      <td>CSSBHL</td>\n",
       "      <td>30</td>\n",
       "      <td>2</td>\n",
       "      <td>7</td>\n",
       "      <td>20</td>\n",
       "      <td>NaN</td>\n",
       "      <td>club</td>\n",
       "      <td>4</td>\n",
       "      <td>1</td>\n",
       "      <td>0</td>\n",
       "      <td>4</td>\n",
       "      <td>NaN</td>\n",
       "      <td>2003-09-12</td>\n",
       "      <td>2017-04-05</td>\n",
       "      <td>14</td>\n",
       "      <td>2020-01-17 22:40:29.278164</td>\n",
       "      <td>16</td>\n",
       "      <td>NaN</td>\n",
       "    </tr>\n",
       "  </tbody>\n",
       "</table>\n",
       "</div>"
      ],
      "text/plain": [
       "                            _id   ep_id   season  \\\n",
       "99919  5e1937db20b2973d785a51bb  484173  2017-18   \n",
       "24885  5e18ff5320b2973d78544931  477345  2018-19   \n",
       "99691  5e1937a220b2973d785a4d6e  483757  2016-17   \n",
       "99692  5e1937a220b2973d785a4d71  483757  2017-18   \n",
       "99693  5e1937a220b2973d785a4d74  483757  2017-18   \n",
       "99694  5e1937a220b2973d785a4d77  483757  2018-19   \n",
       "99695  5e1937a220b2973d785a4d7a  483757  2019-20   \n",
       "99696  5e1937a220b2973d785a4d7d  483757  2019-20   \n",
       "24884  5e18ff5320b2973d7854492f  477345  2017-18   \n",
       "24886  5e18ff5320b2973d78544933  477345  2018-19   \n",
       "30040  5e19034f20b2973d7854a97b  486537  2016-17   \n",
       "30041  5e19034f20b2973d7854a97c  486537  2017-18   \n",
       "30042  5e19034f20b2973d7854a97d  486537  2017-18   \n",
       "30043  5e19034f20b2973d7854a97e  486537  2017-18   \n",
       "30045  5e19034f20b2973d7854a980  486537  2018-19   \n",
       "30046  5e19034f20b2973d7854a981  486537  2019-20   \n",
       "30047  5e19035020b2973d7854a982  486537  2019-20   \n",
       "24887  5e18ff5320b2973d78544935  477345  2019-20   \n",
       "24883  5e18ff5320b2973d7854492d  477345  2017-18   \n",
       "24882  5e18ff5320b2973d7854492b  477345  2016-17   \n",
       "\n",
       "                                  team     league regular_gp regular_g  \\\n",
       "99919  Lac St-Louis Arsenal Bantam AAA      QBAAA         30        11   \n",
       "24885       Fraser Valley Thunderbirds      BCMML         32         7   \n",
       "99691     Beauce-Appalaches Bantam AAA      QBAAA         30        19   \n",
       "99692     Beauce-Appalaches Bantam AAA      QBAAA         27        33   \n",
       "99693     Pointe-Lévy Corsaires Espoir      QMEAA          1         1   \n",
       "99694                 Lévis Chevaliers      QMAAA         42        38   \n",
       "99695              Saint John Sea Dogs      QMJHL         37         8   \n",
       "99696                   Canada Red U17     WHC-17          5         2   \n",
       "24884         Yale Hockey Academy Prep      CSSHL          2         0   \n",
       "24886                   Spokane Chiefs        WHL          1         1   \n",
       "30040      Saskatoon Maniacs Bantam AA     SBAAHL         29         4   \n",
       "30041   Pacific Coast Academy Btm Prep     CSSBHL         24         8   \n",
       "30042       Pacific Coast Academy Prep      CSSHL          1         0   \n",
       "30043  Pacific Coast Academy Elite 15s  CSSHL E15          1         0   \n",
       "30045                     Kootenay Ice        WHL          2         0   \n",
       "30046         Rink Hockey Academy Prep      CSSHL          7         2   \n",
       "30047                     Winnipeg Ice        WHL         14         0   \n",
       "24887                   Spokane Chiefs        WHL         29         0   \n",
       "24883  Yale Hockey Academy Bantam Prep     CSSBHL         26         2   \n",
       "24882  Yale Hockey Academy Bantam Prep     CSSBHL         30         2   \n",
       "\n",
       "      regular_a regular_pim regular_pm      team_type playoffs_gp playoffs_g  \\\n",
       "99919        14          22        NaN           club         NaN        NaN   \n",
       "24885        19          22        NaN           club           6          1   \n",
       "99691        15           0        NaN           club         NaN        NaN   \n",
       "99692        27           8        NaN           club         NaN        NaN   \n",
       "99693         1           0        NaN  international         NaN        NaN   \n",
       "99694        50           6         41           club          11          6   \n",
       "99695        13           4        -16           club         NaN        NaN   \n",
       "99696         2           6        NaN  international         NaN        NaN   \n",
       "24884         1           2        NaN  international         NaN        NaN   \n",
       "24886         0           0          2  international         NaN        NaN   \n",
       "30040        11          56        NaN           club           7          2   \n",
       "30041        10          65        NaN           club           3          0   \n",
       "30042         0           0        NaN  international         NaN        NaN   \n",
       "30043         0           0        NaN  international         NaN        NaN   \n",
       "30045         0           0          0  international         NaN        NaN   \n",
       "30046         2          22        NaN           club         NaN        NaN   \n",
       "30047         1           0          1  international         NaN        NaN   \n",
       "24887         7           4          3           club         NaN        NaN   \n",
       "24883        16          48        NaN           club           3          0   \n",
       "24882         7          20        NaN           club           4          1   \n",
       "\n",
       "      playoffs_a playoffs_pim playoffs_pm date_of_birth end_of_season  age  \\\n",
       "99919        NaN          NaN         NaN    2003-12-11    2018-04-05   14   \n",
       "24885          4            8         NaN    2003-09-12    2019-04-05   16   \n",
       "99691        NaN          NaN         NaN    2003-08-06    2017-04-05   14   \n",
       "99692        NaN          NaN         NaN    2003-08-06    2018-04-05   15   \n",
       "99693        NaN          NaN         NaN    2003-08-06    2018-04-05   15   \n",
       "99694          5            0           2    2003-08-06    2019-04-05   16   \n",
       "99695        NaN          NaN         NaN    2003-08-06    2020-04-05   17   \n",
       "99696        NaN          NaN         NaN    2003-08-06    2020-04-05   17   \n",
       "24884        NaN          NaN         NaN    2003-09-12    2018-04-05   15   \n",
       "24886        NaN          NaN         NaN    2003-09-12    2019-04-05   16   \n",
       "30040          5           12         NaN    2003-09-20    2017-04-05   14   \n",
       "30041          0            0         NaN    2003-09-20    2018-04-05   15   \n",
       "30042        NaN          NaN         NaN    2003-09-20    2018-04-05   15   \n",
       "30043        NaN          NaN         NaN    2003-09-20    2018-04-05   15   \n",
       "30045        NaN          NaN         NaN    2003-09-20    2019-04-05   16   \n",
       "30046        NaN          NaN         NaN    2003-09-20    2020-04-05   17   \n",
       "30047        NaN          NaN         NaN    2003-09-20    2020-04-05   17   \n",
       "24887        NaN          NaN         NaN    2003-09-12    2020-04-05   17   \n",
       "24883          1            4         NaN    2003-09-12    2018-04-05   15   \n",
       "24882          0            4         NaN    2003-09-12    2017-04-05   14   \n",
       "\n",
       "                    current_date  current_age  award_count  \n",
       "99919 2020-01-17 22:40:29.278164           16          NaN  \n",
       "24885 2020-01-17 22:40:29.278164           16          7.0  \n",
       "99691 2020-01-17 22:40:29.278164           16          NaN  \n",
       "99692 2020-01-17 22:40:29.278164           16         12.0  \n",
       "99693 2020-01-17 22:40:29.278164           16         12.0  \n",
       "99694 2020-01-17 22:40:29.278164           16          NaN  \n",
       "99695 2020-01-17 22:40:29.278164           16          NaN  \n",
       "99696 2020-01-17 22:40:29.278164           16          NaN  \n",
       "24884 2020-01-17 22:40:29.278164           16          NaN  \n",
       "24886 2020-01-17 22:40:29.278164           16          7.0  \n",
       "30040 2020-01-17 22:40:29.278164           16          NaN  \n",
       "30041 2020-01-17 22:40:29.278164           16          NaN  \n",
       "30042 2020-01-17 22:40:29.278164           16          NaN  \n",
       "30043 2020-01-17 22:40:29.278164           16          NaN  \n",
       "30045 2020-01-17 22:40:29.278164           16          NaN  \n",
       "30046 2020-01-17 22:40:29.278164           16          NaN  \n",
       "30047 2020-01-17 22:40:29.278164           16          NaN  \n",
       "24887 2020-01-17 22:40:29.278164           16          NaN  \n",
       "24883 2020-01-17 22:40:29.278164           16          NaN  \n",
       "24882 2020-01-17 22:40:29.278164           16          NaN  "
      ]
     },
     "execution_count": 14,
     "metadata": {},
     "output_type": "execute_result"
    }
   ],
   "source": [
    "players.head(20)"
   ]
  },
  {
   "cell_type": "code",
   "execution_count": 12,
   "metadata": {},
   "outputs": [
    {
     "name": "stdout",
     "output_type": "stream",
     "text": [
      "<class 'pandas.core.frame.DataFrame'>\n",
      "Int64Index: 100310 entries, 99919 to 37814\n",
      "Data columns (total 22 columns):\n",
      "_id              100310 non-null object\n",
      "ep_id            100310 non-null int64\n",
      "season           100310 non-null object\n",
      "team             100310 non-null object\n",
      "league           100309 non-null object\n",
      "regular_gp       98264 non-null object\n",
      "regular_g        98271 non-null object\n",
      "regular_a        98269 non-null object\n",
      "regular_pim      97600 non-null object\n",
      "regular_pm       64632 non-null object\n",
      "team_type        100310 non-null object\n",
      "playoffs_gp      42316 non-null object\n",
      "playoffs_g       42318 non-null object\n",
      "playoffs_a       42318 non-null object\n",
      "playoffs_pim     42216 non-null object\n",
      "playoffs_pm      27487 non-null object\n",
      "date_of_birth    100310 non-null datetime64[ns]\n",
      "end_of_season    100310 non-null datetime64[ns]\n",
      "age              100310 non-null int64\n",
      "current_date     100310 non-null datetime64[ns]\n",
      "current_age      100310 non-null int64\n",
      "award_count      21359 non-null float64\n",
      "dtypes: datetime64[ns](3), float64(1), int64(3), object(15)\n",
      "memory usage: 17.6+ MB\n"
     ]
    }
   ],
   "source": [
    "players.info()"
   ]
  },
  {
   "cell_type": "code",
   "execution_count": 13,
   "metadata": {},
   "outputs": [
    {
     "data": {
      "text/plain": [
       "<matplotlib.axes._subplots.AxesSubplot at 0x7f19f0eada90>"
      ]
     },
     "execution_count": 13,
     "metadata": {},
     "output_type": "execute_result"
    },
    {
     "data": {
      "image/png": "[encoded data removed]",
      "text/plain": [
       "<Figure size 1080x1080 with 1 Axes>"
      ]
     },
     "metadata": {
      "needs_background": "light"
     },
     "output_type": "display_data"
    }
   ],
   "source": [
    "fig, ax = plt.subplots(figsize=[15, 15])\n",
    "sns.heatmap(players.isnull(), cbar=False)"
   ]
  },
  {
   "cell_type": "code",
   "execution_count": null,
   "metadata": {},
   "outputs": [],
   "source": []
  },
  {
   "cell_type": "code",
   "execution_count": null,
   "metadata": {},
   "outputs": [],
   "source": [
    "players.head(20).isnull()"
   ]
  },
  {
   "cell_type": "markdown",
   "metadata": {},
   "source": [
    "### age"
   ]
  },
  {
   "cell_type": "code",
   "execution_count": null,
   "metadata": {},
   "outputs": [],
   "source": [
    "players['age'].unique()"
   ]
  },
  {
   "cell_type": "code",
   "execution_count": null,
   "metadata": {},
   "outputs": [],
   "source": [
    "sns.distplot(players['age'])"
   ]
  },
  {
   "cell_type": "markdown",
   "metadata": {},
   "source": [
    "### regular_gp"
   ]
  },
  {
   "cell_type": "code",
   "execution_count": null,
   "metadata": {},
   "outputs": [],
   "source": [
    "players['regular_gp'].unique()"
   ]
  },
  {
   "cell_type": "code",
   "execution_count": null,
   "metadata": {},
   "outputs": [],
   "source": [
    "players['regular_gp'] = players['regular_gp'].replace({'': 0, '-': 0})\n",
    "players['regular_gp'] = players['regular_gp'].astype(int)"
   ]
  },
  {
   "cell_type": "code",
   "execution_count": null,
   "metadata": {},
   "outputs": [],
   "source": [
    "sns.distplot(players['regular_gp'])"
   ]
  },
  {
   "cell_type": "markdown",
   "metadata": {},
   "source": [
    "### regular_g"
   ]
  },
  {
   "cell_type": "code",
   "execution_count": null,
   "metadata": {},
   "outputs": [],
   "source": [
    "players['regular_g'].unique()"
   ]
  },
  {
   "cell_type": "code",
   "execution_count": null,
   "metadata": {},
   "outputs": [],
   "source": [
    "players['regular_g'] = players['regular_g'].replace({'': 0, '-': 0})\n",
    "players['regular_g'] = players['regular_g'].astype(int)"
   ]
  },
  {
   "cell_type": "code",
   "execution_count": null,
   "metadata": {},
   "outputs": [],
   "source": [
    "sns.distplot(players['regular_g'])"
   ]
  },
  {
   "cell_type": "markdown",
   "metadata": {},
   "source": [
    "### regular_a"
   ]
  },
  {
   "cell_type": "code",
   "execution_count": null,
   "metadata": {},
   "outputs": [],
   "source": [
    "players['regular_a'].unique()"
   ]
  },
  {
   "cell_type": "code",
   "execution_count": null,
   "metadata": {},
   "outputs": [],
   "source": [
    "players['regular_a'] = players['regular_a'].replace({'': 0, '-': 0})\n",
    "players['regular_a'] = players['regular_a'].astype(int)"
   ]
  },
  {
   "cell_type": "code",
   "execution_count": null,
   "metadata": {},
   "outputs": [],
   "source": [
    "sns.distplot(players['regular_a'])"
   ]
  },
  {
   "cell_type": "markdown",
   "metadata": {},
   "source": [
    "### regular_pim"
   ]
  },
  {
   "cell_type": "code",
   "execution_count": null,
   "metadata": {},
   "outputs": [],
   "source": [
    "players['regular_pim'].unique()"
   ]
  },
  {
   "cell_type": "code",
   "execution_count": null,
   "metadata": {},
   "outputs": [],
   "source": [
    "players['regular_pim'] = players['regular_pim'].replace({'': 0, '-': 0})\n",
    "players['regular_pim'] = players['regular_pim'].astype(int)"
   ]
  },
  {
   "cell_type": "code",
   "execution_count": null,
   "metadata": {},
   "outputs": [],
   "source": [
    "sns.distplot(players['regular_pim'])"
   ]
  },
  {
   "cell_type": "markdown",
   "metadata": {},
   "source": [
    "### regular_pm"
   ]
  },
  {
   "cell_type": "code",
   "execution_count": null,
   "metadata": {},
   "outputs": [],
   "source": [
    "players['regular_pm'].unique()"
   ]
  },
  {
   "cell_type": "code",
   "execution_count": null,
   "metadata": {},
   "outputs": [],
   "source": [
    "players['regular_pm'] = players['regular_pm'].replace({'': 0, '-': 0})\n",
    "players['regular_pm'] = players['regular_pm'].astype(int)"
   ]
  },
  {
   "cell_type": "code",
   "execution_count": null,
   "metadata": {},
   "outputs": [],
   "source": [
    "sns.distplot(players['regular_pm'])"
   ]
  },
  {
   "cell_type": "markdown",
   "metadata": {},
   "source": [
    "### playoffs_gp"
   ]
  },
  {
   "cell_type": "code",
   "execution_count": null,
   "metadata": {},
   "outputs": [],
   "source": [
    "players['playoffs_gp'].unique()"
   ]
  },
  {
   "cell_type": "code",
   "execution_count": null,
   "metadata": {},
   "outputs": [],
   "source": [
    "players['playoffs_gp'] = players['playoffs_gp'].replace({'': 0, '-': 0})\n",
    "players['playoffs_gp'] = players['playoffs_gp'].astype(int)"
   ]
  },
  {
   "cell_type": "code",
   "execution_count": null,
   "metadata": {},
   "outputs": [],
   "source": [
    "sns.distplot(players['playoffs_gp'])"
   ]
  },
  {
   "cell_type": "markdown",
   "metadata": {},
   "source": [
    "### playoffs_g"
   ]
  },
  {
   "cell_type": "code",
   "execution_count": null,
   "metadata": {},
   "outputs": [],
   "source": [
    "players['playoffs_g'].unique()"
   ]
  },
  {
   "cell_type": "code",
   "execution_count": null,
   "metadata": {},
   "outputs": [],
   "source": [
    "players['playoffs_g'] = players['playoffs_g'].replace({'': 0, '-': 0})\n",
    "players['playoffs_g'] = players['playoffs_g'].astype(int)"
   ]
  },
  {
   "cell_type": "code",
   "execution_count": null,
   "metadata": {},
   "outputs": [],
   "source": [
    "sns.distplot(players['playoffs_g'])"
   ]
  },
  {
   "cell_type": "markdown",
   "metadata": {},
   "source": [
    "### playoffs_a"
   ]
  },
  {
   "cell_type": "code",
   "execution_count": null,
   "metadata": {},
   "outputs": [],
   "source": [
    "players['playoffs_a'].unique()"
   ]
  },
  {
   "cell_type": "code",
   "execution_count": null,
   "metadata": {},
   "outputs": [],
   "source": [
    "players['playoffs_a'] = players['playoffs_a'].replace({'': 0, '-': 0})\n",
    "players['playoffs_a'] = players['playoffs_a'].astype(int)"
   ]
  },
  {
   "cell_type": "code",
   "execution_count": null,
   "metadata": {},
   "outputs": [],
   "source": [
    "sns.distplot(players['playoffs_a'])"
   ]
  },
  {
   "cell_type": "markdown",
   "metadata": {},
   "source": [
    "### playoffs_pim"
   ]
  },
  {
   "cell_type": "code",
   "execution_count": null,
   "metadata": {},
   "outputs": [],
   "source": [
    "players['playoffs_pim'].unique()"
   ]
  },
  {
   "cell_type": "code",
   "execution_count": null,
   "metadata": {},
   "outputs": [],
   "source": [
    "players['playoffs_pim'] = players['playoffs_pim'].replace({'': 0, '-': 0})\n",
    "players['playoffs_pim'] = players['playoffs_pim'].astype(int)"
   ]
  },
  {
   "cell_type": "code",
   "execution_count": null,
   "metadata": {},
   "outputs": [],
   "source": [
    "sns.distplot(players['playoffs_pim'])"
   ]
  },
  {
   "cell_type": "markdown",
   "metadata": {},
   "source": [
    "### playoffs_pm"
   ]
  },
  {
   "cell_type": "code",
   "execution_count": null,
   "metadata": {},
   "outputs": [],
   "source": [
    "players['playoffs_pm'].unique()"
   ]
  },
  {
   "cell_type": "code",
   "execution_count": null,
   "metadata": {},
   "outputs": [],
   "source": [
    "players['playoffs_pm'] = players['playoffs_pm'].replace({'': 0, '-': 0})\n",
    "players['playoffs_pm'] = players['playoffs_pm'].astype(int)"
   ]
  },
  {
   "cell_type": "code",
   "execution_count": null,
   "metadata": {},
   "outputs": [],
   "source": [
    "sns.distplot(players['playoffs_pm'])"
   ]
  },
  {
   "cell_type": "markdown",
   "metadata": {},
   "source": [
    "### award_count"
   ]
  },
  {
   "cell_type": "code",
   "execution_count": null,
   "metadata": {},
   "outputs": [],
   "source": [
    "players['award_count'].unique()"
   ]
  },
  {
   "cell_type": "code",
   "execution_count": null,
   "metadata": {},
   "outputs": [],
   "source": [
    "players['award_count'] = players['award_count'].replace({np.nan: 0})\n",
    "players['award_count'] = players['award_count'].astype(int)"
   ]
  },
  {
   "cell_type": "code",
   "execution_count": null,
   "metadata": {},
   "outputs": [],
   "source": [
    "sns.distplot(players['award_count'])"
   ]
  },
  {
   "cell_type": "markdown",
   "metadata": {},
   "source": [
    "### Inspect"
   ]
  },
  {
   "cell_type": "markdown",
   "metadata": {},
   "source": [
    "### Subset age >= 25"
   ]
  },
  {
   "cell_type": "code",
   "execution_count": null,
   "metadata": {},
   "outputs": [],
   "source": [
    "players = players[players['current_age'] >= 25]"
   ]
  },
  {
   "cell_type": "code",
   "execution_count": null,
   "metadata": {},
   "outputs": [],
   "source": [
    "len(players['ep_id'].unique())"
   ]
  },
  {
   "cell_type": "markdown",
   "metadata": {},
   "source": [
    "## International"
   ]
  },
  {
   "cell_type": "code",
   "execution_count": null,
   "metadata": {},
   "outputs": [],
   "source": [
    "sorted(players['league'].unique())[0:10]"
   ]
  },
  {
   "cell_type": "code",
   "execution_count": null,
   "metadata": {},
   "outputs": [],
   "source": [
    "jr_inter = [\n",
    "    'International-Jr', \n",
    "    'WJC-17',\n",
    "    'WJC-18',\n",
    "    'WJC-18 B',\n",
    "    'WJC-18 D1',\n",
    "    'WJC-18 D1A',\n",
    "    'WJC-18 D1B',\n",
    "    'WJC-18 D2',\n",
    "    'WJC-18 D3',\n",
    "    'WJC-20',\n",
    "    'WJC-20 B',\n",
    "    'WJC-20 D1',\n",
    "    'WJC-20 D1A',\n",
    "    'WJC-20 D1B',\n",
    "    'WJC-20 D2',\n",
    "    'WJC-20 D2A'\n",
    "]\n",
    "\n",
    "inter = players[players['league'].isin(jr_inter)]\n",
    "inter = inter[inter['age'] <= 18]"
   ]
  },
  {
   "cell_type": "code",
   "execution_count": null,
   "metadata": {},
   "outputs": [],
   "source": [
    "inter.info()"
   ]
  },
  {
   "cell_type": "code",
   "execution_count": null,
   "metadata": {},
   "outputs": [],
   "source": [
    "inter.sample(10)"
   ]
  },
  {
   "cell_type": "code",
   "execution_count": null,
   "metadata": {},
   "outputs": [],
   "source": [
    "inter = inter.rename(columns={'regular_gp': 'inter_regular_gp', \n",
    "                              'regular_g': 'inter_regular_g', \n",
    "                              'regular_a': 'inter_regular_a', \n",
    "                              'regular_pim': 'inter_regular_pim', \n",
    "                              'regular_pm': 'inter_regular_pm', \n",
    "                              'award_count': 'inter_award_count'})\n",
    "\n",
    "inter = inter[[\n",
    "    'ep_id', \n",
    "    'age', \n",
    "    'inter_regular_gp', \n",
    "    'inter_regular_g', \n",
    "    'inter_regular_a', \n",
    "    'inter_regular_pim', \n",
    "    'inter_regular_pm', \n",
    "    'inter_award_count'\n",
    "]]"
   ]
  },
  {
   "cell_type": "code",
   "execution_count": null,
   "metadata": {},
   "outputs": [],
   "source": [
    "inter.sample(10)"
   ]
  },
  {
   "cell_type": "markdown",
   "metadata": {},
   "source": [
    "### Subset players to not include rows from inter"
   ]
  },
  {
   "cell_type": "code",
   "execution_count": null,
   "metadata": {},
   "outputs": [],
   "source": [
    "players = players[~players['league'].isin(jr_inter)]"
   ]
  },
  {
   "cell_type": "code",
   "execution_count": null,
   "metadata": {},
   "outputs": [],
   "source": [
    "players.info()"
   ]
  },
  {
   "cell_type": "markdown",
   "metadata": {},
   "source": [
    "### Reshape inter data"
   ]
  },
  {
   "cell_type": "code",
   "execution_count": null,
   "metadata": {},
   "outputs": [],
   "source": [
    "new_df = pd.DataFrame()\n",
    "\n",
    "ids = list(inter['ep_id'].unique())\n",
    "\n",
    "for id in ids:\n",
    "        \n",
    "    df = inter[inter['ep_id'] == id]\n",
    "\n",
    "    df = df.groupby(['age', 'ep_id']).agg({\n",
    "            'inter_regular_gp': 'sum', \n",
    "            'inter_regular_g': 'sum', \n",
    "            'inter_regular_a': 'sum', \n",
    "            'inter_regular_pim': 'sum',\n",
    "            'inter_regular_pm': 'mean',\n",
    "            'inter_award_count': 'sum'\n",
    "        }).reset_index() \n",
    "\n",
    "    df = df.pivot('ep_id', 'age')\n",
    "    \n",
    "    #Column Labels    \n",
    "    \n",
    "    #Manage the pandas multiindex to re-label each column for each stat and age\n",
    "    df.columns = [''.join(str(col)) for col in df.columns]    \n",
    "    \n",
    "    # Rename column labels for clarity\n",
    "    labels = []\n",
    "\n",
    "    for col in df:\n",
    "\n",
    "        label = re.findall(r\"'(.+)'\", col)\n",
    "        stat = re.findall(r',\\s(\\d{2})', col)\n",
    "\n",
    "        labels.append(label[0] + '_' + stat[0])\n",
    "        \n",
    "    df.columns = labels\n",
    "    \n",
    "    #Append each row of player data to the last\n",
    "    new_df = pd.concat([new_df, df], axis=0, sort=False)\n",
    "    \n",
    "inter_df = new_df.reset_index()"
   ]
  },
  {
   "cell_type": "code",
   "execution_count": null,
   "metadata": {
    "scrolled": true
   },
   "outputs": [],
   "source": [
    "inter_df.sample(10)"
   ]
  },
  {
   "cell_type": "markdown",
   "metadata": {},
   "source": [
    "### Reshape quantitative data"
   ]
  },
  {
   "cell_type": "code",
   "execution_count": null,
   "metadata": {},
   "outputs": [],
   "source": [
    "new_df = pd.DataFrame()\n",
    "\n",
    "ids = players['ep_id'].unique()\n",
    "\n",
    "for id in ids:\n",
    "        \n",
    "    df = players[players['ep_id'] == id]\n",
    "\n",
    "    df = df.groupby(['age', 'ep_id']).agg({\n",
    "            'regular_gp': 'sum', \n",
    "            'regular_g': 'sum', \n",
    "            'regular_a': 'sum', \n",
    "            'regular_pim': 'sum',\n",
    "            'regular_pm': 'mean',\n",
    "            'playoffs_gp': 'sum',\n",
    "            'playoffs_g': 'sum',\n",
    "            'playoffs_a': 'sum',\n",
    "            'playoffs_pim': 'sum',\n",
    "            'playoffs_pm': 'mean',\n",
    "            'award_count': 'sum'\n",
    "        }).reset_index() \n",
    "\n",
    "    df = df.pivot('ep_id', 'age')\n",
    "    \n",
    "    #Column Labels    \n",
    "    \n",
    "    #Manage the pandas multiindex to re-label each column for each stat and age\n",
    "    df.columns = [''.join(str(col)) for col in df.columns]    \n",
    "    \n",
    "    # Rename column labels for clarity\n",
    "    labels = []\n",
    "\n",
    "    for col in df:\n",
    "\n",
    "        label = re.findall(r\"'(.+)'\", col)\n",
    "        stat = re.findall(r',\\s(\\d{2})', col)\n",
    "\n",
    "        labels.append(label[0] + '_' + stat[0])\n",
    "        \n",
    "    df.columns = labels\n",
    "    \n",
    "    #Append each row of player data to the last\n",
    "    new_df = pd.concat([new_df, df], axis=0, sort=False)\n",
    "\n",
    "quan_df = new_df.reset_index()"
   ]
  },
  {
   "cell_type": "code",
   "execution_count": null,
   "metadata": {},
   "outputs": [],
   "source": [
    "quan_df"
   ]
  },
  {
   "cell_type": "markdown",
   "metadata": {},
   "source": [
    "### Reshape qualitative"
   ]
  },
  {
   "cell_type": "code",
   "execution_count": null,
   "metadata": {},
   "outputs": [],
   "source": [
    "ids = players['ep_id'].unique()\n",
    "\n",
    "new_df = pd.DataFrame()\n",
    "\n",
    "for id in ids:\n",
    "    \n",
    "    df = players[players['ep_id'] == id].reset_index().sort_values('age')\n",
    "    df = df.drop(['index', '_id'], 1).drop_duplicates()\n",
    "    \n",
    "    ages = []\n",
    "    teams = []\n",
    "    leagues = []\n",
    "    age_test = []\n",
    "\n",
    "    high_gp = 0\n",
    "\n",
    "    for row in df.iterrows():    \n",
    "\n",
    "        if row[1]['age'] not in age_test:\n",
    "\n",
    "            age_test.append(row[1]['age'])\n",
    "\n",
    "            age = row[1]['age']\n",
    "            team = row[1]['team']\n",
    "            league = row[1]['league']\n",
    "\n",
    "            high_gp = int(row[1]['regular_gp'])\n",
    "\n",
    "            ages.append(age)\n",
    "            teams.append(team)\n",
    "            leagues.append(league)\n",
    "\n",
    "        elif row[1]['age'] in age_test:\n",
    "\n",
    "            if int(row[1]['regular_gp']) > high_gp:\n",
    "\n",
    "                age = row[1]['age']\n",
    "                team = row[1]['team']\n",
    "                league = row[1]['league']\n",
    "\n",
    "                high_gp = int(row[1]['regular_gp'])\n",
    "\n",
    "                ages = ages[:-1]\n",
    "                teams = teams[:-1]\n",
    "                leagues = leagues[:-1]\n",
    "\n",
    "                ages.append(age)\n",
    "                teams.append(team)\n",
    "                leagues.append(league)\n",
    "\n",
    "    test_df = pd.DataFrame(zip(ages, teams, leagues), columns=['age', 'team', 'league'])\n",
    "\n",
    "    test_df['ep_id'] = row[1]['ep_id']\n",
    "\n",
    "    test_df = test_df.pivot('ep_id', 'age')\n",
    "\n",
    "    test_df.columns = [''.join(str(col)) for col in test_df.columns]\n",
    "\n",
    "    # Rename column labels for clarity\n",
    "    labels = []\n",
    "\n",
    "    for col in test_df:\n",
    "\n",
    "        label = re.findall(r\"'(.+)'\", col)\n",
    "        stat = re.findall(r',\\s(\\d{2})', col)\n",
    "\n",
    "        labels.append(label[0] + '_' + stat[0])\n",
    "\n",
    "    test_df.columns = labels\n",
    "    \n",
    "    # Combined test_df and the larger qual_df\n",
    "    new_df = pd.concat([new_df, test_df], axis=0, sort=False)\n",
    "    \n",
    "qual_df = new_df.reset_index()"
   ]
  },
  {
   "cell_type": "code",
   "execution_count": null,
   "metadata": {},
   "outputs": [],
   "source": [
    "qual_df.head()"
   ]
  },
  {
   "cell_type": "markdown",
   "metadata": {},
   "source": [
    "### Merge qualitative and quantitative dataframes"
   ]
  },
  {
   "cell_type": "code",
   "execution_count": null,
   "metadata": {},
   "outputs": [],
   "source": [
    "combined = pd.merge(quan_df, qual_df, on='ep_id', how='left').reset_index()\n",
    "combined = pd.merge(combined, inter_df, on='ep_id', how='left')"
   ]
  },
  {
   "cell_type": "markdown",
   "metadata": {},
   "source": [
    "### Combine Meta and Combined dataframes"
   ]
  },
  {
   "cell_type": "code",
   "execution_count": null,
   "metadata": {},
   "outputs": [],
   "source": [
    "main = pd.merge(meta, combined, on = 'ep_id', how = 'left')\n",
    "    \n",
    "main = main.reset_index()\n",
    "main = round(main.drop(['_id', 'index'], 1))"
   ]
  },
  {
   "cell_type": "code",
   "execution_count": null,
   "metadata": {},
   "outputs": [],
   "source": [
    "main.head()"
   ]
  },
  {
   "cell_type": "markdown",
   "metadata": {},
   "source": [
    "### Save and inspect data"
   ]
  },
  {
   "cell_type": "code",
   "execution_count": null,
   "metadata": {},
   "outputs": [],
   "source": [
    "#main.to_csv('main.csv')"
   ]
  },
  {
   "cell_type": "code",
   "execution_count": null,
   "metadata": {},
   "outputs": [],
   "source": []
  }
 ],
 "metadata": {
  "kernelspec": {
   "display_name": "Python 3",
   "language": "python",
   "name": "python3"
  },
  "language_info": {
   "codemirror_mode": {
    "name": "ipython",
    "version": 3
   },
   "file_extension": ".py",
   "mimetype": "text/x-python",
   "name": "python",
   "nbconvert_exporter": "python",
   "pygments_lexer": "ipython3",
   "version": "3.7.4"
  }
 },
 "nbformat": 4,
 "nbformat_minor": 4
}
