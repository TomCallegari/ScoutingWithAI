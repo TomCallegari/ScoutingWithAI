{
 "cells": [
  {
   "cell_type": "code",
   "execution_count": 1,
   "metadata": {},
   "outputs": [],
   "source": [
    "import pymongo\n",
    "import pandas as pd\n",
    "import numpy as np\n",
    "import matplotlib.pyplot as plt\n",
    "import seaborn as sns\n",
    "import re\n",
    "from datetime import datetime\n",
    "import seaborn as sns\n",
    "\n",
    "pd.set_option('display.max_rows', 500)\n",
    "pd.set_option('display.max_columns', 500)"
   ]
  },
  {
   "cell_type": "code",
   "execution_count": 2,
   "metadata": {},
   "outputs": [],
   "source": [
    "# conn = 'mongodb://localhost:27018'\n",
    "# client = pymongo.MongoClient(conn)"
   ]
  },
  {
   "cell_type": "code",
   "execution_count": 3,
   "metadata": {},
   "outputs": [],
   "source": [
    "# db = client.eliteprospects\n",
    "\n",
    "# metadata = db.meta_data\n",
    "# player_stats = db.player_data\n",
    "# award_stats = db.awards_data\n",
    "\n",
    "# meta = pd.DataFrame(list(metadata.find()))\n",
    "# players = pd.DataFrame(list(player_stats.find()))\n",
    "# awards = pd.DataFrame(list(award_stats.find()))"
   ]
  },
  {
   "cell_type": "code",
   "execution_count": 2,
   "metadata": {},
   "outputs": [],
   "source": [
    "main = pd.read_csv('main_test.csv').drop('Unnamed: 0', 1)"
   ]
  },
  {
   "cell_type": "code",
   "execution_count": 3,
   "metadata": {},
   "outputs": [
    {
     "name": "stdout",
     "output_type": "stream",
     "text": [
      "<class 'pandas.core.frame.DataFrame'>\n",
      "RangeIndex: 7032 entries, 0 to 7031\n",
      "Data columns (total 14 columns):\n",
      "height           7032 non-null int64\n",
      "weight           7032 non-null int64\n",
      "regular_gp_17    7032 non-null float64\n",
      "regular_g_17     7032 non-null float64\n",
      "regular_a_17     7032 non-null float64\n",
      "regular_gp_16    7032 non-null float64\n",
      "regular_g_16     7032 non-null float64\n",
      "regular_a_16     7032 non-null float64\n",
      "national_team    7032 non-null object\n",
      "awarded          7032 non-null object\n",
      "birth_region     7032 non-null object\n",
      "position         7032 non-null object\n",
      "shoots           7032 non-null object\n",
      "response         7032 non-null object\n",
      "dtypes: float64(6), int64(2), object(6)\n",
      "memory usage: 769.2+ KB\n"
     ]
    }
   ],
   "source": [
    "main.info()"
   ]
  },
  {
   "cell_type": "markdown",
   "metadata": {},
   "source": [
    "### Response"
   ]
  },
  {
   "cell_type": "code",
   "execution_count": 4,
   "metadata": {},
   "outputs": [
    {
     "data": {
      "text/plain": [
       "<matplotlib.axes._subplots.AxesSubplot at 0x7f5b6cc9e190>"
      ]
     },
     "execution_count": 4,
     "metadata": {},
     "output_type": "execute_result"
    },
    {
     "data": {
      "image/png": "[encoded data removed]",
      "text/plain": [
       "<Figure size 432x288 with 1 Axes>"
      ]
     },
     "metadata": {
      "needs_background": "light"
     },
     "output_type": "display_data"
    }
   ],
   "source": [
    "sns.countplot(main['response'])"
   ]
  },
  {
   "cell_type": "markdown",
   "metadata": {},
   "source": [
    "### Height (cm)"
   ]
  },
  {
   "cell_type": "code",
   "execution_count": 7,
   "metadata": {},
   "outputs": [
    {
     "data": {
      "text/plain": [
       "0       183\n",
       "1       185\n",
       "2       183\n",
       "3       180\n",
       "4       183\n",
       "       ... \n",
       "7027    178\n",
       "7028    180\n",
       "7029    179\n",
       "7030    185\n",
       "7031    183\n",
       "Name: height, Length: 7032, dtype: int64"
      ]
     },
     "execution_count": 7,
     "metadata": {},
     "output_type": "execute_result"
    }
   ],
   "source": [
    "main['height']"
   ]
  },
  {
   "cell_type": "code",
   "execution_count": 8,
   "metadata": {},
   "outputs": [
    {
     "data": {
      "text/plain": [
       "count    7032.000000\n",
       "mean      183.889647\n",
       "std         5.750395\n",
       "min       160.000000\n",
       "25%       180.000000\n",
       "50%       183.000000\n",
       "75%       188.000000\n",
       "max       205.000000\n",
       "Name: height, dtype: float64"
      ]
     },
     "execution_count": 8,
     "metadata": {},
     "output_type": "execute_result"
    }
   ],
   "source": [
    "main['height'].describe()"
   ]
  },
  {
   "cell_type": "code",
   "execution_count": 9,
   "metadata": {},
   "outputs": [
    {
     "data": {
      "text/plain": [
       "<matplotlib.axes._subplots.AxesSubplot at 0x7f5b6a1e4890>"
      ]
     },
     "execution_count": 9,
     "metadata": {},
     "output_type": "execute_result"
    },
    {
     "data": {
      "image/png": "[encoded data removed]",
      "text/plain": [
       "<Figure size 432x288 with 1 Axes>"
      ]
     },
     "metadata": {
      "needs_background": "light"
     },
     "output_type": "display_data"
    }
   ],
   "source": [
    "sns.distplot(main['height'])"
   ]
  },
  {
   "cell_type": "code",
   "execution_count": 10,
   "metadata": {},
   "outputs": [
    {
     "data": {
      "text/plain": [
       "<matplotlib.axes._subplots.AxesSubplot at 0x7f5b6a146e50>"
      ]
     },
     "execution_count": 10,
     "metadata": {},
     "output_type": "execute_result"
    },
    {
     "data": {
      "image/png": "[encoded data removed]",
      "text/plain": [
       "<Figure size 432x288 with 1 Axes>"
      ]
     },
     "metadata": {
      "needs_background": "light"
     },
     "output_type": "display_data"
    }
   ],
   "source": [
    "sns.boxplot(main['response'], main['height'])"
   ]
  },
  {
   "cell_type": "markdown",
   "metadata": {},
   "source": [
    "### Weight (kg)"
   ]
  },
  {
   "cell_type": "code",
   "execution_count": 11,
   "metadata": {},
   "outputs": [
    {
     "data": {
      "text/plain": [
       "0       86\n",
       "1       96\n",
       "2       85\n",
       "3       84\n",
       "4       88\n",
       "        ..\n",
       "7027    75\n",
       "7028    70\n",
       "7029    75\n",
       "7030    87\n",
       "7031    77\n",
       "Name: weight, Length: 7032, dtype: int64"
      ]
     },
     "execution_count": 11,
     "metadata": {},
     "output_type": "execute_result"
    }
   ],
   "source": [
    "main['weight']"
   ]
  },
  {
   "cell_type": "code",
   "execution_count": 12,
   "metadata": {},
   "outputs": [
    {
     "data": {
      "text/plain": [
       "count    7032.000000\n",
       "mean       86.229664\n",
       "std         7.755968\n",
       "min        55.000000\n",
       "25%        81.000000\n",
       "50%        86.000000\n",
       "75%        91.000000\n",
       "max       125.000000\n",
       "Name: weight, dtype: float64"
      ]
     },
     "execution_count": 12,
     "metadata": {},
     "output_type": "execute_result"
    }
   ],
   "source": [
    "main['weight'].describe()"
   ]
  },
  {
   "cell_type": "code",
   "execution_count": 13,
   "metadata": {},
   "outputs": [
    {
     "data": {
      "text/plain": [
       "<matplotlib.axes._subplots.AxesSubplot at 0x7f5b6a17fc10>"
      ]
     },
     "execution_count": 13,
     "metadata": {},
     "output_type": "execute_result"
    },
    {
     "data": {
      "image/png": "[encoded data removed]",
      "text/plain": [
       "<Figure size 432x288 with 1 Axes>"
      ]
     },
     "metadata": {
      "needs_background": "light"
     },
     "output_type": "display_data"
    }
   ],
   "source": [
    "sns.distplot(main['weight'])"
   ]
  },
  {
   "cell_type": "code",
   "execution_count": 14,
   "metadata": {},
   "outputs": [
    {
     "data": {
      "text/plain": [
       "<matplotlib.axes._subplots.AxesSubplot at 0x7f5b69e54a90>"
      ]
     },
     "execution_count": 14,
     "metadata": {},
     "output_type": "execute_result"
    },
    {
     "data": {
      "image/png": "[encoded data removed]",
      "text/plain": [
       "<Figure size 432x288 with 1 Axes>"
      ]
     },
     "metadata": {
      "needs_background": "light"
     },
     "output_type": "display_data"
    }
   ],
   "source": [
    "sns.boxplot(main['response'], main['weight'])"
   ]
  },
  {
   "cell_type": "markdown",
   "metadata": {},
   "source": [
    "### Height ~ Weight"
   ]
  },
  {
   "cell_type": "code",
   "execution_count": 20,
   "metadata": {},
   "outputs": [
    {
     "data": {
      "text/plain": [
       "<seaborn.axisgrid.JointGrid at 0x7f5b692b7050>"
      ]
     },
     "execution_count": 20,
     "metadata": {},
     "output_type": "execute_result"
    },
    {
     "data": {
      "image/png": "[encoded data removed]",
      "text/plain": [
       "<Figure size 432x432 with 3 Axes>"
      ]
     },
     "metadata": {
      "needs_background": "light"
     },
     "output_type": "display_data"
    }
   ],
   "source": [
    "sns.jointplot(main['weight'], main['height'])"
   ]
  },
  {
   "cell_type": "markdown",
   "metadata": {},
   "source": [
    "### Age 14"
   ]
  },
  {
   "cell_type": "code",
   "execution_count": 18,
   "metadata": {},
   "outputs": [],
   "source": [
    "age_14 = [\n",
    "    'regular_gp_14', 'regular_g_14', 'regular_a_14', 'regular_pim_14', 'regular_pm_14',\n",
    "    'playoffs_gp_14', 'playoffs_g_14', 'playoffs_a_14', 'playoffs_pim_14', 'playoffs_pm_14'\n",
    "]\n",
    "\n",
    "age14 = main[age_14]"
   ]
  },
  {
   "cell_type": "code",
   "execution_count": 19,
   "metadata": {},
   "outputs": [
    {
     "data": {
      "text/html": [
       "<div>\n",
       "<style scoped>\n",
       "    .dataframe tbody tr th:only-of-type {\n",
       "        vertical-align: middle;\n",
       "    }\n",
       "\n",
       "    .dataframe tbody tr th {\n",
       "        vertical-align: top;\n",
       "    }\n",
       "\n",
       "    .dataframe thead th {\n",
       "        text-align: right;\n",
       "    }\n",
       "</style>\n",
       "<table border=\"1\" class=\"dataframe\">\n",
       "  <thead>\n",
       "    <tr style=\"text-align: right;\">\n",
       "      <th></th>\n",
       "      <th>regular_gp_14</th>\n",
       "      <th>regular_g_14</th>\n",
       "      <th>regular_a_14</th>\n",
       "      <th>regular_pim_14</th>\n",
       "      <th>regular_pm_14</th>\n",
       "      <th>playoffs_gp_14</th>\n",
       "      <th>playoffs_g_14</th>\n",
       "      <th>playoffs_a_14</th>\n",
       "      <th>playoffs_pim_14</th>\n",
       "      <th>playoffs_pm_14</th>\n",
       "    </tr>\n",
       "  </thead>\n",
       "  <tbody>\n",
       "    <tr>\n",
       "      <td>count</td>\n",
       "      <td>595.000000</td>\n",
       "      <td>595.000000</td>\n",
       "      <td>595.000000</td>\n",
       "      <td>595.000000</td>\n",
       "      <td>595.000000</td>\n",
       "      <td>595.000000</td>\n",
       "      <td>595.000000</td>\n",
       "      <td>595.000000</td>\n",
       "      <td>595.000000</td>\n",
       "      <td>595.000000</td>\n",
       "    </tr>\n",
       "    <tr>\n",
       "      <td>mean</td>\n",
       "      <td>2.515966</td>\n",
       "      <td>1.292437</td>\n",
       "      <td>1.576471</td>\n",
       "      <td>2.963025</td>\n",
       "      <td>-0.040336</td>\n",
       "      <td>0.117647</td>\n",
       "      <td>0.065546</td>\n",
       "      <td>0.057143</td>\n",
       "      <td>0.077311</td>\n",
       "      <td>-0.001681</td>\n",
       "    </tr>\n",
       "    <tr>\n",
       "      <td>std</td>\n",
       "      <td>9.203333</td>\n",
       "      <td>6.355241</td>\n",
       "      <td>7.001836</td>\n",
       "      <td>13.146237</td>\n",
       "      <td>0.497522</td>\n",
       "      <td>0.919087</td>\n",
       "      <td>0.664699</td>\n",
       "      <td>0.580342</td>\n",
       "      <td>0.787576</td>\n",
       "      <td>0.040996</td>\n",
       "    </tr>\n",
       "    <tr>\n",
       "      <td>min</td>\n",
       "      <td>0.000000</td>\n",
       "      <td>0.000000</td>\n",
       "      <td>0.000000</td>\n",
       "      <td>0.000000</td>\n",
       "      <td>-11.000000</td>\n",
       "      <td>0.000000</td>\n",
       "      <td>0.000000</td>\n",
       "      <td>0.000000</td>\n",
       "      <td>0.000000</td>\n",
       "      <td>-1.000000</td>\n",
       "    </tr>\n",
       "    <tr>\n",
       "      <td>25%</td>\n",
       "      <td>0.000000</td>\n",
       "      <td>0.000000</td>\n",
       "      <td>0.000000</td>\n",
       "      <td>0.000000</td>\n",
       "      <td>0.000000</td>\n",
       "      <td>0.000000</td>\n",
       "      <td>0.000000</td>\n",
       "      <td>0.000000</td>\n",
       "      <td>0.000000</td>\n",
       "      <td>0.000000</td>\n",
       "    </tr>\n",
       "    <tr>\n",
       "      <td>50%</td>\n",
       "      <td>0.000000</td>\n",
       "      <td>0.000000</td>\n",
       "      <td>0.000000</td>\n",
       "      <td>0.000000</td>\n",
       "      <td>0.000000</td>\n",
       "      <td>0.000000</td>\n",
       "      <td>0.000000</td>\n",
       "      <td>0.000000</td>\n",
       "      <td>0.000000</td>\n",
       "      <td>0.000000</td>\n",
       "    </tr>\n",
       "    <tr>\n",
       "      <td>75%</td>\n",
       "      <td>0.000000</td>\n",
       "      <td>0.000000</td>\n",
       "      <td>0.000000</td>\n",
       "      <td>0.000000</td>\n",
       "      <td>0.000000</td>\n",
       "      <td>0.000000</td>\n",
       "      <td>0.000000</td>\n",
       "      <td>0.000000</td>\n",
       "      <td>0.000000</td>\n",
       "      <td>0.000000</td>\n",
       "    </tr>\n",
       "    <tr>\n",
       "      <td>max</td>\n",
       "      <td>90.000000</td>\n",
       "      <td>95.000000</td>\n",
       "      <td>92.000000</td>\n",
       "      <td>127.000000</td>\n",
       "      <td>0.000000</td>\n",
       "      <td>11.000000</td>\n",
       "      <td>11.000000</td>\n",
       "      <td>11.000000</td>\n",
       "      <td>12.000000</td>\n",
       "      <td>0.000000</td>\n",
       "    </tr>\n",
       "  </tbody>\n",
       "</table>\n",
       "</div>"
      ],
      "text/plain": [
       "       regular_gp_14  regular_g_14  regular_a_14  regular_pim_14  \\\n",
       "count     595.000000    595.000000    595.000000      595.000000   \n",
       "mean        2.515966      1.292437      1.576471        2.963025   \n",
       "std         9.203333      6.355241      7.001836       13.146237   \n",
       "min         0.000000      0.000000      0.000000        0.000000   \n",
       "25%         0.000000      0.000000      0.000000        0.000000   \n",
       "50%         0.000000      0.000000      0.000000        0.000000   \n",
       "75%         0.000000      0.000000      0.000000        0.000000   \n",
       "max        90.000000     95.000000     92.000000      127.000000   \n",
       "\n",
       "       regular_pm_14  playoffs_gp_14  playoffs_g_14  playoffs_a_14  \\\n",
       "count     595.000000      595.000000     595.000000     595.000000   \n",
       "mean       -0.040336        0.117647       0.065546       0.057143   \n",
       "std         0.497522        0.919087       0.664699       0.580342   \n",
       "min       -11.000000        0.000000       0.000000       0.000000   \n",
       "25%         0.000000        0.000000       0.000000       0.000000   \n",
       "50%         0.000000        0.000000       0.000000       0.000000   \n",
       "75%         0.000000        0.000000       0.000000       0.000000   \n",
       "max         0.000000       11.000000      11.000000      11.000000   \n",
       "\n",
       "       playoffs_pim_14  playoffs_pm_14  \n",
       "count       595.000000      595.000000  \n",
       "mean          0.077311       -0.001681  \n",
       "std           0.787576        0.040996  \n",
       "min           0.000000       -1.000000  \n",
       "25%           0.000000        0.000000  \n",
       "50%           0.000000        0.000000  \n",
       "75%           0.000000        0.000000  \n",
       "max          12.000000        0.000000  "
      ]
     },
     "execution_count": 19,
     "metadata": {},
     "output_type": "execute_result"
    }
   ],
   "source": [
    "age14.describe()"
   ]
  },
  {
   "cell_type": "markdown",
   "metadata": {},
   "source": [
    "### Age 15"
   ]
  },
  {
   "cell_type": "code",
   "execution_count": 21,
   "metadata": {},
   "outputs": [],
   "source": [
    "age_15 = [\n",
    "    'regular_gp_15', 'regular_g_15', 'regular_a_15', 'regular_pim_15', 'regular_pm_15',\n",
    "    'playoffs_gp_15', 'playoffs_g_15', 'playoffs_a_15', 'playoffs_pim_15', 'playoffs_pm_15'\n",
    "]\n",
    "\n",
    "age15 = main[age_15]"
   ]
  },
  {
   "cell_type": "code",
   "execution_count": 22,
   "metadata": {},
   "outputs": [
    {
     "data": {
      "text/html": [
       "<div>\n",
       "<style scoped>\n",
       "    .dataframe tbody tr th:only-of-type {\n",
       "        vertical-align: middle;\n",
       "    }\n",
       "\n",
       "    .dataframe tbody tr th {\n",
       "        vertical-align: top;\n",
       "    }\n",
       "\n",
       "    .dataframe thead th {\n",
       "        text-align: right;\n",
       "    }\n",
       "</style>\n",
       "<table border=\"1\" class=\"dataframe\">\n",
       "  <thead>\n",
       "    <tr style=\"text-align: right;\">\n",
       "      <th></th>\n",
       "      <th>regular_gp_15</th>\n",
       "      <th>regular_g_15</th>\n",
       "      <th>regular_a_15</th>\n",
       "      <th>regular_pim_15</th>\n",
       "      <th>regular_pm_15</th>\n",
       "      <th>playoffs_gp_15</th>\n",
       "      <th>playoffs_g_15</th>\n",
       "      <th>playoffs_a_15</th>\n",
       "      <th>playoffs_pim_15</th>\n",
       "      <th>playoffs_pm_15</th>\n",
       "    </tr>\n",
       "  </thead>\n",
       "  <tbody>\n",
       "    <tr>\n",
       "      <td>count</td>\n",
       "      <td>595.000000</td>\n",
       "      <td>595.000000</td>\n",
       "      <td>595.000000</td>\n",
       "      <td>595.000000</td>\n",
       "      <td>595.000000</td>\n",
       "      <td>595.000000</td>\n",
       "      <td>595.000000</td>\n",
       "      <td>595.000000</td>\n",
       "      <td>595.000000</td>\n",
       "      <td>595.000000</td>\n",
       "    </tr>\n",
       "    <tr>\n",
       "      <td>mean</td>\n",
       "      <td>9.315966</td>\n",
       "      <td>6.104202</td>\n",
       "      <td>6.865546</td>\n",
       "      <td>10.205042</td>\n",
       "      <td>0.336134</td>\n",
       "      <td>0.505882</td>\n",
       "      <td>0.282353</td>\n",
       "      <td>0.321008</td>\n",
       "      <td>0.626891</td>\n",
       "      <td>0.008403</td>\n",
       "    </tr>\n",
       "    <tr>\n",
       "      <td>std</td>\n",
       "      <td>17.876333</td>\n",
       "      <td>14.866949</td>\n",
       "      <td>15.453811</td>\n",
       "      <td>24.053076</td>\n",
       "      <td>2.635798</td>\n",
       "      <td>1.838940</td>\n",
       "      <td>1.418116</td>\n",
       "      <td>1.437642</td>\n",
       "      <td>3.368294</td>\n",
       "      <td>0.480176</td>\n",
       "    </tr>\n",
       "    <tr>\n",
       "      <td>min</td>\n",
       "      <td>0.000000</td>\n",
       "      <td>0.000000</td>\n",
       "      <td>0.000000</td>\n",
       "      <td>0.000000</td>\n",
       "      <td>-9.000000</td>\n",
       "      <td>0.000000</td>\n",
       "      <td>0.000000</td>\n",
       "      <td>0.000000</td>\n",
       "      <td>0.000000</td>\n",
       "      <td>-3.000000</td>\n",
       "    </tr>\n",
       "    <tr>\n",
       "      <td>25%</td>\n",
       "      <td>0.000000</td>\n",
       "      <td>0.000000</td>\n",
       "      <td>0.000000</td>\n",
       "      <td>0.000000</td>\n",
       "      <td>0.000000</td>\n",
       "      <td>0.000000</td>\n",
       "      <td>0.000000</td>\n",
       "      <td>0.000000</td>\n",
       "      <td>0.000000</td>\n",
       "      <td>0.000000</td>\n",
       "    </tr>\n",
       "    <tr>\n",
       "      <td>50%</td>\n",
       "      <td>0.000000</td>\n",
       "      <td>0.000000</td>\n",
       "      <td>0.000000</td>\n",
       "      <td>0.000000</td>\n",
       "      <td>0.000000</td>\n",
       "      <td>0.000000</td>\n",
       "      <td>0.000000</td>\n",
       "      <td>0.000000</td>\n",
       "      <td>0.000000</td>\n",
       "      <td>0.000000</td>\n",
       "    </tr>\n",
       "    <tr>\n",
       "      <td>75%</td>\n",
       "      <td>4.500000</td>\n",
       "      <td>1.000000</td>\n",
       "      <td>1.000000</td>\n",
       "      <td>0.000000</td>\n",
       "      <td>0.000000</td>\n",
       "      <td>0.000000</td>\n",
       "      <td>0.000000</td>\n",
       "      <td>0.000000</td>\n",
       "      <td>0.000000</td>\n",
       "      <td>0.000000</td>\n",
       "    </tr>\n",
       "    <tr>\n",
       "      <td>max</td>\n",
       "      <td>115.000000</td>\n",
       "      <td>120.000000</td>\n",
       "      <td>89.000000</td>\n",
       "      <td>174.000000</td>\n",
       "      <td>28.000000</td>\n",
       "      <td>12.000000</td>\n",
       "      <td>15.000000</td>\n",
       "      <td>11.000000</td>\n",
       "      <td>46.000000</td>\n",
       "      <td>10.000000</td>\n",
       "    </tr>\n",
       "  </tbody>\n",
       "</table>\n",
       "</div>"
      ],
      "text/plain": [
       "       regular_gp_15  regular_g_15  regular_a_15  regular_pim_15  \\\n",
       "count     595.000000    595.000000    595.000000      595.000000   \n",
       "mean        9.315966      6.104202      6.865546       10.205042   \n",
       "std        17.876333     14.866949     15.453811       24.053076   \n",
       "min         0.000000      0.000000      0.000000        0.000000   \n",
       "25%         0.000000      0.000000      0.000000        0.000000   \n",
       "50%         0.000000      0.000000      0.000000        0.000000   \n",
       "75%         4.500000      1.000000      1.000000        0.000000   \n",
       "max       115.000000    120.000000     89.000000      174.000000   \n",
       "\n",
       "       regular_pm_15  playoffs_gp_15  playoffs_g_15  playoffs_a_15  \\\n",
       "count     595.000000      595.000000     595.000000     595.000000   \n",
       "mean        0.336134        0.505882       0.282353       0.321008   \n",
       "std         2.635798        1.838940       1.418116       1.437642   \n",
       "min        -9.000000        0.000000       0.000000       0.000000   \n",
       "25%         0.000000        0.000000       0.000000       0.000000   \n",
       "50%         0.000000        0.000000       0.000000       0.000000   \n",
       "75%         0.000000        0.000000       0.000000       0.000000   \n",
       "max        28.000000       12.000000      15.000000      11.000000   \n",
       "\n",
       "       playoffs_pim_15  playoffs_pm_15  \n",
       "count       595.000000      595.000000  \n",
       "mean          0.626891        0.008403  \n",
       "std           3.368294        0.480176  \n",
       "min           0.000000       -3.000000  \n",
       "25%           0.000000        0.000000  \n",
       "50%           0.000000        0.000000  \n",
       "75%           0.000000        0.000000  \n",
       "max          46.000000       10.000000  "
      ]
     },
     "execution_count": 22,
     "metadata": {},
     "output_type": "execute_result"
    }
   ],
   "source": [
    "age15.describe()"
   ]
  },
  {
   "cell_type": "code",
   "execution_count": null,
   "metadata": {},
   "outputs": [],
   "source": []
  }
 ],
 "metadata": {
  "kernelspec": {
   "display_name": "Python 3",
   "language": "python",
   "name": "python3"
  },
  "language_info": {
   "codemirror_mode": {
    "name": "ipython",
    "version": 3
   },
   "file_extension": ".py",
   "mimetype": "text/x-python",
   "name": "python",
   "nbconvert_exporter": "python",
   "pygments_lexer": "ipython3",
   "version": "3.7.4"
  }
 },
 "nbformat": 4,
 "nbformat_minor": 4
}
