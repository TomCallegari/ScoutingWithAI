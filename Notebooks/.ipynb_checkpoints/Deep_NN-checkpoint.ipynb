{
 "cells": [
  {
   "cell_type": "code",
   "execution_count": 1,
   "metadata": {},
   "outputs": [],
   "source": [
    " # Data manipulation\n",
    "import numpy as np\n",
    "import pandas as pd\n",
    "\n",
    "# Visualization\n",
    "import matplotlib.pyplot as plt\n",
    "import seaborn as sns\n",
    "\n",
    "# Pre-processing and setup functions\n",
    "from sklearn.preprocessing import MinMaxScaler, LabelEncoder\n",
    "from sklearn.model_selection import train_test_split\n",
    "from tensorflow.keras.utils import to_categorical\n",
    "from sklearn.metrics import classification_report\n",
    "\n",
    "# Neural Network\n",
    "import tensorflow as tf\n",
    "import tensorflow.keras as keras\n",
    "from tensorflow.keras.models import Sequential\n",
    "from tensorflow.keras.layers import Dense, Dropout\n",
    "\n",
    "# Set viewable columns in pandas\n",
    "pd.set_option('display.max_columns', 50)"
   ]
  },
  {
   "cell_type": "code",
   "execution_count": 2,
   "metadata": {},
   "outputs": [],
   "source": [
    "main = pd.read_csv('main_test.csv').drop('Unnamed: 0', 1)"
   ]
  },
  {
   "cell_type": "code",
   "execution_count": 3,
   "metadata": {},
   "outputs": [
    {
     "name": "stdout",
     "output_type": "stream",
     "text": [
      "<class 'pandas.core.frame.DataFrame'>\n",
      "RangeIndex: 595 entries, 0 to 594\n",
      "Data columns (total 26 columns):\n",
      "height           595 non-null int64\n",
      "weight           595 non-null int64\n",
      "regular_gp_17    595 non-null float64\n",
      "regular_g_17     595 non-null float64\n",
      "regular_a_17     595 non-null float64\n",
      "regular_pm_17    595 non-null float64\n",
      "regular_gp_16    595 non-null float64\n",
      "regular_g_16     595 non-null float64\n",
      "regular_a_16     595 non-null float64\n",
      "regular_pm_16    595 non-null float64\n",
      "playoffs_gp      595 non-null float64\n",
      "playoffs_g       595 non-null float64\n",
      "playoffs_a       595 non-null float64\n",
      "national_team    595 non-null object\n",
      "awarded          595 non-null object\n",
      "birth_region     595 non-null object\n",
      "position         595 non-null object\n",
      "shoots           595 non-null object\n",
      "response         595 non-null object\n",
      "type             595 non-null object\n",
      "word_count       595 non-null float64\n",
      "char_count       595 non-null float64\n",
      "avg_word         595 non-null float64\n",
      "stop_words       595 non-null float64\n",
      "upper            595 non-null float64\n",
      "sentiment        595 non-null float64\n",
      "dtypes: float64(17), int64(2), object(7)\n",
      "memory usage: 121.0+ KB\n"
     ]
    }
   ],
   "source": [
    "main.info()"
   ]
  },
  {
   "cell_type": "code",
   "execution_count": 4,
   "metadata": {},
   "outputs": [],
   "source": [
    "y = main['response']\n",
    "X = main.drop(['response'], 1)"
   ]
  },
  {
   "cell_type": "code",
   "execution_count": 5,
   "metadata": {},
   "outputs": [],
   "source": [
    "X = pd.get_dummies(X)"
   ]
  },
  {
   "cell_type": "code",
   "execution_count": 6,
   "metadata": {},
   "outputs": [],
   "source": [
    "# Split X and y subsets into Test and Train datasets\n",
    "X_train, X_test, y_train, y_test = train_test_split(X, y, stratify=y)"
   ]
  },
  {
   "cell_type": "code",
   "execution_count": 7,
   "metadata": {},
   "outputs": [],
   "source": [
    "# Scale continuous values between 0 < x < 1\n",
    "X_scaler = MinMaxScaler().fit(X_train)\n",
    "X_train_scaled = X_scaler.transform(X_train)\n",
    "X_test_scaled = X_scaler.transform(X_test)"
   ]
  },
  {
   "cell_type": "code",
   "execution_count": 8,
   "metadata": {},
   "outputs": [],
   "source": [
    "# Transform the y subsets into model usable representations\n",
    "label_encoder = LabelEncoder()\n",
    "label_encoder.fit(y_train)\n",
    "\n",
    "encoded_y_train = label_encoder.transform(y_train)\n",
    "encoded_y_test = label_encoder.transform(y_test)\n",
    "\n",
    "y_train_categorical = to_categorical(encoded_y_train)\n",
    "y_test_categorical = to_categorical(encoded_y_test)"
   ]
  },
  {
   "cell_type": "code",
   "execution_count": 9,
   "metadata": {},
   "outputs": [
    {
     "data": {
      "text/plain": [
       "(446, 40)"
      ]
     },
     "execution_count": 9,
     "metadata": {},
     "output_type": "execute_result"
    }
   ],
   "source": [
    "X_train_scaled.shape"
   ]
  },
  {
   "cell_type": "code",
   "execution_count": 10,
   "metadata": {},
   "outputs": [],
   "source": [
    "model = Sequential()\n",
    "\n",
    "model.add(Dense(\n",
    "    units = 100, kernel_regularizer = keras.regularizers.l2(0.001),\n",
    "    activation = 'relu', \n",
    "    input_dim = 40\n",
    "))\n",
    "\n",
    "for i in range(5):\n",
    "    model.add(Dense(\n",
    "        units = 1000, kernel_regularizer = keras.regularizers.l2(0.001),\n",
    "        activation = 'relu'\n",
    "    ))\n",
    "\n",
    "model.add(Dense(\n",
    "    units = 3, \n",
    "    activation = 'softmax'\n",
    "))"
   ]
  },
  {
   "cell_type": "code",
   "execution_count": 11,
   "metadata": {},
   "outputs": [
    {
     "name": "stdout",
     "output_type": "stream",
     "text": [
      "Model: \"sequential\"\n",
      "_________________________________________________________________\n",
      "Layer (type)                 Output Shape              Param #   \n",
      "=================================================================\n",
      "dense (Dense)                (None, 100)               4100      \n",
      "_________________________________________________________________\n",
      "dense_1 (Dense)              (None, 1000)              101000    \n",
      "_________________________________________________________________\n",
      "dense_2 (Dense)              (None, 1000)              1001000   \n",
      "_________________________________________________________________\n",
      "dense_3 (Dense)              (None, 1000)              1001000   \n",
      "_________________________________________________________________\n",
      "dense_4 (Dense)              (None, 1000)              1001000   \n",
      "_________________________________________________________________\n",
      "dense_5 (Dense)              (None, 1000)              1001000   \n",
      "_________________________________________________________________\n",
      "dense_6 (Dense)              (None, 3)                 3003      \n",
      "=================================================================\n",
      "Total params: 4,112,103\n",
      "Trainable params: 4,112,103\n",
      "Non-trainable params: 0\n",
      "_________________________________________________________________\n"
     ]
    }
   ],
   "source": [
    "model.summary()"
   ]
  },
  {
   "cell_type": "code",
   "execution_count": 12,
   "metadata": {},
   "outputs": [
    {
     "name": "stdout",
     "output_type": "stream",
     "text": [
      "Train on 446 samples\n",
      "Epoch 1/70\n",
      "446/446 [==============================] - 2s 4ms/sample - loss: 4.3660 - accuracy: 0.5157\n",
      "Epoch 2/70\n",
      "446/446 [==============================] - 1s 1ms/sample - loss: 2.8196 - accuracy: 0.5628\n",
      "Epoch 3/70\n",
      "446/446 [==============================] - 1s 1ms/sample - loss: 1.9415 - accuracy: 0.6256\n",
      "Epoch 4/70\n",
      "446/446 [==============================] - 1s 2ms/sample - loss: 1.5214 - accuracy: 0.6570\n",
      "Epoch 5/70\n",
      "446/446 [==============================] - 1s 2ms/sample - loss: 1.3012 - accuracy: 0.6771\n",
      "Epoch 6/70\n",
      "446/446 [==============================] - 1s 1ms/sample - loss: 1.1265 - accuracy: 0.6996\n",
      "Epoch 7/70\n",
      "446/446 [==============================] - 1s 1ms/sample - loss: 1.0094 - accuracy: 0.7265\n",
      "Epoch 8/70\n",
      "446/446 [==============================] - 1s 1ms/sample - loss: 1.0006 - accuracy: 0.7063\n",
      "Epoch 9/70\n",
      "446/446 [==============================] - 1s 1ms/sample - loss: 0.9821 - accuracy: 0.7063\n",
      "Epoch 10/70\n",
      "446/446 [==============================] - 1s 1ms/sample - loss: 0.8808 - accuracy: 0.7332\n",
      "Epoch 11/70\n",
      "446/446 [==============================] - 1s 1ms/sample - loss: 0.8201 - accuracy: 0.7489\n",
      "Epoch 12/70\n",
      "446/446 [==============================] - 1s 1ms/sample - loss: 0.7762 - accuracy: 0.7848\n",
      "Epoch 13/70\n",
      "446/446 [==============================] - 1s 1ms/sample - loss: 0.8255 - accuracy: 0.7197\n",
      "Epoch 14/70\n",
      "446/446 [==============================] - 1s 1ms/sample - loss: 0.8350 - accuracy: 0.7489\n",
      "Epoch 15/70\n",
      "446/446 [==============================] - 1s 1ms/sample - loss: 0.7188 - accuracy: 0.7623\n",
      "Epoch 16/70\n",
      "446/446 [==============================] - 1s 1ms/sample - loss: 0.6621 - accuracy: 0.7825\n",
      "Epoch 17/70\n",
      "446/446 [==============================] - 1s 1ms/sample - loss: 0.6575 - accuracy: 0.8004\n",
      "Epoch 18/70\n",
      "446/446 [==============================] - 1s 1ms/sample - loss: 0.6737 - accuracy: 0.8049\n",
      "Epoch 19/70\n",
      "446/446 [==============================] - 1s 1ms/sample - loss: 0.6107 - accuracy: 0.8341\n",
      "Epoch 20/70\n",
      "446/446 [==============================] - 1s 1ms/sample - loss: 0.5611 - accuracy: 0.8318\n",
      "Epoch 21/70\n",
      "446/446 [==============================] - 1s 2ms/sample - loss: 0.5547 - accuracy: 0.8453\n",
      "Epoch 22/70\n",
      "446/446 [==============================] - 1s 2ms/sample - loss: 0.5791 - accuracy: 0.8408\n",
      "Epoch 23/70\n",
      "446/446 [==============================] - 1s 2ms/sample - loss: 0.5889 - accuracy: 0.8251\n",
      "Epoch 24/70\n",
      "446/446 [==============================] - 1s 2ms/sample - loss: 0.5208 - accuracy: 0.8722\n",
      "Epoch 25/70\n",
      "446/446 [==============================] - 1s 2ms/sample - loss: 0.4624 - accuracy: 0.8834\n",
      "Epoch 26/70\n",
      "446/446 [==============================] - 1s 1ms/sample - loss: 0.4910 - accuracy: 0.8767\n",
      "Epoch 27/70\n",
      "446/446 [==============================] - 1s 3ms/sample - loss: 0.4949 - accuracy: 0.8700\n",
      "Epoch 28/70\n",
      "446/446 [==============================] - 1s 2ms/sample - loss: 0.5175 - accuracy: 0.8430\n",
      "Epoch 29/70\n",
      "446/446 [==============================] - 1s 2ms/sample - loss: 0.4447 - accuracy: 0.8991\n",
      "Epoch 30/70\n",
      "446/446 [==============================] - 1s 1ms/sample - loss: 0.5053 - accuracy: 0.8610\n",
      "Epoch 31/70\n",
      "446/446 [==============================] - 1s 1ms/sample - loss: 0.4260 - accuracy: 0.9058\n",
      "Epoch 32/70\n",
      "446/446 [==============================] - 1s 1ms/sample - loss: 0.3930 - accuracy: 0.9170\n",
      "Epoch 33/70\n",
      "446/446 [==============================] - 1s 1ms/sample - loss: 0.4381 - accuracy: 0.8744\n",
      "Epoch 34/70\n",
      "446/446 [==============================] - 1s 2ms/sample - loss: 0.4776 - accuracy: 0.8655\n",
      "Epoch 35/70\n",
      "446/446 [==============================] - 1s 2ms/sample - loss: 0.4111 - accuracy: 0.8991\n",
      "Epoch 36/70\n",
      "446/446 [==============================] - 1s 2ms/sample - loss: 0.3803 - accuracy: 0.9238\n",
      "Epoch 37/70\n",
      "446/446 [==============================] - 1s 2ms/sample - loss: 0.3863 - accuracy: 0.9238\n",
      "Epoch 38/70\n",
      "446/446 [==============================] - 1s 1ms/sample - loss: 0.3826 - accuracy: 0.9170\n",
      "Epoch 39/70\n",
      "446/446 [==============================] - 1s 1ms/sample - loss: 0.3354 - accuracy: 0.9439\n",
      "Epoch 40/70\n",
      "446/446 [==============================] - 1s 2ms/sample - loss: 0.3165 - accuracy: 0.9439\n",
      "Epoch 41/70\n",
      "446/446 [==============================] - 1s 2ms/sample - loss: 0.3033 - accuracy: 0.9507\n",
      "Epoch 42/70\n",
      "446/446 [==============================] - 1s 2ms/sample - loss: 0.3169 - accuracy: 0.9507\n",
      "Epoch 43/70\n",
      "446/446 [==============================] - 1s 2ms/sample - loss: 0.3434 - accuracy: 0.9417\n",
      "Epoch 44/70\n",
      "446/446 [==============================] - 1s 2ms/sample - loss: 0.3447 - accuracy: 0.9283\n",
      "Epoch 45/70\n",
      "446/446 [==============================] - 1s 1ms/sample - loss: 0.3219 - accuracy: 0.9462\n",
      "Epoch 46/70\n",
      "446/446 [==============================] - 1s 1ms/sample - loss: 0.2913 - accuracy: 0.9529\n",
      "Epoch 47/70\n",
      "446/446 [==============================] - 1s 1ms/sample - loss: 0.2917 - accuracy: 0.9484\n",
      "Epoch 48/70\n",
      "446/446 [==============================] - 1s 1ms/sample - loss: 0.2981 - accuracy: 0.9529\n",
      "Epoch 49/70\n",
      "446/446 [==============================] - 1s 2ms/sample - loss: 0.3111 - accuracy: 0.9439\n",
      "Epoch 50/70\n",
      "446/446 [==============================] - 1s 2ms/sample - loss: 0.3055 - accuracy: 0.9484\n",
      "Epoch 51/70\n",
      "446/446 [==============================] - 1s 2ms/sample - loss: 0.4631 - accuracy: 0.8901\n",
      "Epoch 52/70\n",
      "446/446 [==============================] - 1s 2ms/sample - loss: 0.4104 - accuracy: 0.9170\n",
      "Epoch 53/70\n",
      "446/446 [==============================] - 1s 3ms/sample - loss: 0.3620 - accuracy: 0.9260\n",
      "Epoch 54/70\n",
      "446/446 [==============================] - 1s 2ms/sample - loss: 0.2829 - accuracy: 0.9552\n",
      "Epoch 55/70\n",
      "446/446 [==============================] - 1s 2ms/sample - loss: 0.3045 - accuracy: 0.9529\n",
      "Epoch 56/70\n",
      "446/446 [==============================] - 1s 2ms/sample - loss: 0.3224 - accuracy: 0.9439\n",
      "Epoch 57/70\n",
      "446/446 [==============================] - 1s 2ms/sample - loss: 0.3138 - accuracy: 0.9574\n",
      "Epoch 58/70\n",
      "446/446 [==============================] - 1s 2ms/sample - loss: 0.2917 - accuracy: 0.9596\n",
      "Epoch 59/70\n",
      "446/446 [==============================] - 1s 2ms/sample - loss: 0.3083 - accuracy: 0.9507\n",
      "Epoch 60/70\n",
      "446/446 [==============================] - 1s 2ms/sample - loss: 0.2781 - accuracy: 0.9641\n",
      "Epoch 61/70\n",
      "446/446 [==============================] - 1s 2ms/sample - loss: 0.2538 - accuracy: 0.9686\n",
      "Epoch 62/70\n",
      "446/446 [==============================] - 1s 2ms/sample - loss: 0.2351 - accuracy: 0.9731\n",
      "Epoch 63/70\n",
      "446/446 [==============================] - 1s 2ms/sample - loss: 0.2328 - accuracy: 0.9821\n",
      "Epoch 64/70\n",
      "446/446 [==============================] - 1s 2ms/sample - loss: 0.2226 - accuracy: 0.9776\n",
      "Epoch 65/70\n",
      "446/446 [==============================] - 1s 2ms/sample - loss: 0.2462 - accuracy: 0.9776\n",
      "Epoch 66/70\n",
      "446/446 [==============================] - 1s 3ms/sample - loss: 0.2264 - accuracy: 0.9776\n",
      "Epoch 67/70\n",
      "446/446 [==============================] - 1s 2ms/sample - loss: 0.2141 - accuracy: 0.9865\n",
      "Epoch 68/70\n",
      "446/446 [==============================] - 1s 2ms/sample - loss: 0.2172 - accuracy: 0.9821\n",
      "Epoch 69/70\n",
      "446/446 [==============================] - 1s 2ms/sample - loss: 0.2526 - accuracy: 0.9686\n",
      "Epoch 70/70\n",
      "446/446 [==============================] - 1s 2ms/sample - loss: 0.2498 - accuracy: 0.9753\n"
     ]
    },
    {
     "data": {
      "text/plain": [
       "<tensorflow.python.keras.callbacks.History at 0x7f958c1dca90>"
      ]
     },
     "execution_count": 12,
     "metadata": {},
     "output_type": "execute_result"
    }
   ],
   "source": [
    "model.compile(\n",
    "    optimizer = 'adam',\n",
    "    loss = 'categorical_crossentropy',\n",
    "    metrics = ['accuracy']\n",
    ")\n",
    "\n",
    "model.fit(\n",
    "    X_train_scaled, \n",
    "    y_train_categorical, \n",
    "    epochs = 70,\n",
    "    shuffle = True, \n",
    "    verbose = 1\n",
    ")"
   ]
  },
  {
   "cell_type": "code",
   "execution_count": 13,
   "metadata": {},
   "outputs": [
    {
     "name": "stdout",
     "output_type": "stream",
     "text": [
      "Normal Neural Network - Loss: 2.0904828077994737, Accuracy: 0.6510066986083984\n"
     ]
    }
   ],
   "source": [
    "model_loss, model_accuracy = model.evaluate(X_test_scaled, y_test_categorical, verbose=0)\n",
    "print(f\"Normal Neural Network - Loss: {model_loss}, Accuracy: {model_accuracy}\")"
   ]
  },
  {
   "cell_type": "code",
   "execution_count": 14,
   "metadata": {},
   "outputs": [],
   "source": [
    "encoded_predictions = model.predict_classes(X_test_scaled)\n",
    "prediction_labels = label_encoder.inverse_transform(encoded_predictions)"
   ]
  },
  {
   "cell_type": "code",
   "execution_count": 15,
   "metadata": {},
   "outputs": [
    {
     "name": "stdout",
     "output_type": "stream",
     "text": [
      "              precision    recall  f1-score   support\n",
      "\n",
      "       Lower       0.68      0.79      0.73        76\n",
      "         NHL       0.29      0.25      0.27        28\n",
      "  Not Active       0.81      0.67      0.73        45\n",
      "\n",
      "    accuracy                           0.65       149\n",
      "   macro avg       0.59      0.57      0.58       149\n",
      "weighted avg       0.65      0.65      0.64       149\n",
      "\n"
     ]
    }
   ],
   "source": [
    "print(classification_report(list(y_test), prediction_labels))"
   ]
  },
  {
   "cell_type": "code",
   "execution_count": 16,
   "metadata": {},
   "outputs": [
    {
     "data": {
      "image/png": "[encoded data removed]",
      "text/plain": [
       "<Figure size 720x576 with 1 Axes>"
      ]
     },
     "metadata": {
      "needs_background": "light"
     },
     "output_type": "display_data"
    }
   ],
   "source": [
    "accuracy = model.history.history['accuracy']\n",
    "loss = model.history.history['loss']\n",
    "epoch_count = range(1, len(accuracy) + 1)\n",
    "\n",
    "fig = plt.subplots(1, figsize=[10, 8])\n",
    "\n",
    "plt.plot(epoch_count, accuracy, 'r-')\n",
    "plt.plot(epoch_count, loss, 'b-')\n",
    "plt.legend(['Accuracy', 'Loss'])\n",
    "plt.xlabel('Epoch')\n",
    "plt.show()"
   ]
  },
  {
   "cell_type": "code",
   "execution_count": 17,
   "metadata": {},
   "outputs": [],
   "source": [
    "model.save('Deep_NN_model.h5')"
   ]
  },
  {
   "cell_type": "code",
   "execution_count": null,
   "metadata": {},
   "outputs": [],
   "source": []
  }
 ],
 "metadata": {
  "kernelspec": {
   "display_name": "Python 3",
   "language": "python",
   "name": "python3"
  },
  "language_info": {
   "codemirror_mode": {
    "name": "ipython",
    "version": 3
   },
   "file_extension": ".py",
   "mimetype": "text/x-python",
   "name": "python",
   "nbconvert_exporter": "python",
   "pygments_lexer": "ipython3",
   "version": "3.7.4"
  }
 },
 "nbformat": 4,
 "nbformat_minor": 2
}
