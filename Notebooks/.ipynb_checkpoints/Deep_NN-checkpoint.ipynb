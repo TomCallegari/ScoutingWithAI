{
 "cells": [
  {
   "cell_type": "code",
   "execution_count": 1,
   "metadata": {},
   "outputs": [
    {
     "ename": "ModuleNotFoundError",
     "evalue": "No module named 'numpy'",
     "output_type": "error",
     "traceback": [
      "\u001b[0;31m---------------------------------------------------------------------------\u001b[0m",
      "\u001b[0;31mModuleNotFoundError\u001b[0m                       Traceback (most recent call last)",
      "\u001b[0;32m<ipython-input-1-2e65c4b3e4c1>\u001b[0m in \u001b[0;36m<module>\u001b[0;34m()\u001b[0m\n\u001b[1;32m      1\u001b[0m \u001b[0;31m# Data manipulation\u001b[0m\u001b[0;34m\u001b[0m\u001b[0;34m\u001b[0m\u001b[0;34m\u001b[0m\u001b[0m\n\u001b[0;32m----> 2\u001b[0;31m \u001b[0;32mimport\u001b[0m \u001b[0mnumpy\u001b[0m \u001b[0;32mas\u001b[0m \u001b[0mnp\u001b[0m\u001b[0;34m\u001b[0m\u001b[0;34m\u001b[0m\u001b[0m\n\u001b[0m\u001b[1;32m      3\u001b[0m \u001b[0;32mimport\u001b[0m \u001b[0mpandas\u001b[0m \u001b[0;32mas\u001b[0m \u001b[0mpd\u001b[0m\u001b[0;34m\u001b[0m\u001b[0;34m\u001b[0m\u001b[0m\n\u001b[1;32m      4\u001b[0m \u001b[0;34m\u001b[0m\u001b[0m\n\u001b[1;32m      5\u001b[0m \u001b[0;31m# Visualization\u001b[0m\u001b[0;34m\u001b[0m\u001b[0;34m\u001b[0m\u001b[0;34m\u001b[0m\u001b[0m\n",
      "\u001b[0;31mModuleNotFoundError\u001b[0m: No module named 'numpy'"
     ]
    }
   ],
   "source": [
    " # Data manipulation\n",
    "import numpy as np\n",
    "import pandas as pd\n",
    "\n",
    "# Visualization\n",
    "import matplotlib.pyplot as plt\n",
    "import seaborn as sns\n",
    "\n",
    "# Pre-processing and setup functions\n",
    "from sklearn.preprocessing import MinMaxScaler, LabelEncoder\n",
    "from sklearn.model_selection import train_test_split\n",
    "from tensorflow.keras.utils import to_categorical\n",
    "from sklearn.metrics import classification_report\n",
    "\n",
    "# Neural Network\n",
    "import tensorflow as tf\n",
    "import tensorflow.keras as keras\n",
    "from tensorflow.keras.models import Sequential\n",
    "from tensorflow.keras.layers import Dense, Dropout\n",
    "\n",
    "# Set viewable columns in pandas\n",
    "pd.set_option('display.max_columns', 50)"
   ]
  },
  {
   "cell_type": "code",
   "execution_count": 2,
   "metadata": {},
   "outputs": [],
   "source": [
    "main = pd.read_csv('main_test.csv')"
   ]
  },
  {
   "cell_type": "code",
   "execution_count": 3,
   "metadata": {},
   "outputs": [
    {
     "name": "stdout",
     "output_type": "stream",
     "text": [
      "<class 'pandas.core.frame.DataFrame'>\n",
      "RangeIndex: 647 entries, 0 to 646\n",
      "Data columns (total 33 columns):\n",
      "Unnamed: 0         647 non-null int64\n",
      "height             647 non-null float64\n",
      "weight             647 non-null float64\n",
      "games_played_14    647 non-null float64\n",
      "goals_14           647 non-null float64\n",
      "assists_14         647 non-null float64\n",
      "penalty_min_14     647 non-null float64\n",
      "plus_minus_14      647 non-null float64\n",
      "games_played_15    647 non-null float64\n",
      "goals_15           647 non-null float64\n",
      "assists_15         647 non-null float64\n",
      "penalty_min_15     647 non-null float64\n",
      "plus_minus_15      647 non-null float64\n",
      "games_played_16    647 non-null float64\n",
      "goals_16           647 non-null float64\n",
      "assists_16         647 non-null float64\n",
      "penalty_min_16     647 non-null float64\n",
      "plus_minus_16      647 non-null float64\n",
      "games_played_17    647 non-null float64\n",
      "goals_17           647 non-null float64\n",
      "assists_17         647 non-null float64\n",
      "penalty_min_17     647 non-null float64\n",
      "plus_minus_17      647 non-null float64\n",
      "birth_region       647 non-null object\n",
      "position           647 non-null object\n",
      "shoots             647 non-null object\n",
      "response           647 non-null object\n",
      "word_count         647 non-null float64\n",
      "char_count         647 non-null float64\n",
      "avg_word           647 non-null float64\n",
      "stop_words         647 non-null float64\n",
      "upper              647 non-null float64\n",
      "sentiment          647 non-null float64\n",
      "dtypes: float64(28), int64(1), object(4)\n",
      "memory usage: 166.9+ KB\n"
     ]
    }
   ],
   "source": [
    "main.info()"
   ]
  },
  {
   "cell_type": "code",
   "execution_count": 4,
   "metadata": {},
   "outputs": [],
   "source": [
    "main = main.drop('Unnamed: 0', 1)"
   ]
  },
  {
   "cell_type": "code",
   "execution_count": 5,
   "metadata": {},
   "outputs": [],
   "source": [
    "y = main['response']\n",
    "X = main.drop(['response'], 1)"
   ]
  },
  {
   "cell_type": "code",
   "execution_count": 6,
   "metadata": {},
   "outputs": [],
   "source": [
    "X = pd.get_dummies(X)"
   ]
  },
  {
   "cell_type": "code",
   "execution_count": 7,
   "metadata": {},
   "outputs": [],
   "source": [
    "# Split X and y subsets into Test and Train datasets\n",
    "X_train, X_test, y_train, y_test = train_test_split(X, y, stratify=y)"
   ]
  },
  {
   "cell_type": "code",
   "execution_count": 8,
   "metadata": {},
   "outputs": [
    {
     "name": "stderr",
     "output_type": "stream",
     "text": [
      "C:\\Users\\TPCal\\Anaconda3\\lib\\site-packages\\sklearn\\preprocessing\\data.py:334: DataConversionWarning: Data with input dtype uint8, float64 were all converted to float64 by MinMaxScaler.\n",
      "  return self.partial_fit(X, y)\n"
     ]
    }
   ],
   "source": [
    "# Scale continuous values between 0 < x < 1\n",
    "X_scaler = MinMaxScaler().fit(X_train)\n",
    "X_train_scaled = X_scaler.transform(X_train)\n",
    "X_test_scaled = X_scaler.transform(X_test)"
   ]
  },
  {
   "cell_type": "code",
   "execution_count": 9,
   "metadata": {},
   "outputs": [],
   "source": [
    "# Transform the y subsets into model usable representations\n",
    "label_encoder = LabelEncoder()\n",
    "label_encoder.fit(y_train)\n",
    "\n",
    "encoded_y_train = label_encoder.transform(y_train)\n",
    "encoded_y_test = label_encoder.transform(y_test)\n",
    "\n",
    "y_train_categorical = to_categorical(encoded_y_train)\n",
    "y_test_categorical = to_categorical(encoded_y_test)"
   ]
  },
  {
   "cell_type": "code",
   "execution_count": 10,
   "metadata": {},
   "outputs": [
    {
     "data": {
      "text/plain": [
       "(485, 45)"
      ]
     },
     "execution_count": 10,
     "metadata": {},
     "output_type": "execute_result"
    }
   ],
   "source": [
    "X_train_scaled.shape"
   ]
  },
  {
   "cell_type": "code",
   "execution_count": 11,
   "metadata": {},
   "outputs": [
    {
     "name": "stdout",
     "output_type": "stream",
     "text": [
      "WARNING:tensorflow:From C:\\Users\\TPCal\\Anaconda3\\lib\\site-packages\\tensorflow\\python\\ops\\resource_variable_ops.py:435: colocate_with (from tensorflow.python.framework.ops) is deprecated and will be removed in a future version.\n",
      "Instructions for updating:\n",
      "Colocations handled automatically by placer.\n"
     ]
    }
   ],
   "source": [
    "model = Sequential()\n",
    "\n",
    "model.add(Dense(\n",
    "    units = 100, kernel_regularizer = keras.regularizers.l2(0.001),\n",
    "    activation = 'relu', \n",
    "    input_dim = 45\n",
    "))\n",
    "\n",
    "for i in range(5):\n",
    "    model.add(Dense(\n",
    "        units = 1000, kernel_regularizer = keras.regularizers.l2(0.001),\n",
    "        activation = 'relu'\n",
    "    ))\n",
    "\n",
    "model.add(Dense(\n",
    "    units = 3, \n",
    "    activation = 'softmax'\n",
    "))"
   ]
  },
  {
   "cell_type": "code",
   "execution_count": 12,
   "metadata": {},
   "outputs": [
    {
     "name": "stdout",
     "output_type": "stream",
     "text": [
      "_________________________________________________________________\n",
      "Layer (type)                 Output Shape              Param #   \n",
      "=================================================================\n",
      "dense (Dense)                (None, 100)               4600      \n",
      "_________________________________________________________________\n",
      "dense_1 (Dense)              (None, 1000)              101000    \n",
      "_________________________________________________________________\n",
      "dense_2 (Dense)              (None, 1000)              1001000   \n",
      "_________________________________________________________________\n",
      "dense_3 (Dense)              (None, 1000)              1001000   \n",
      "_________________________________________________________________\n",
      "dense_4 (Dense)              (None, 1000)              1001000   \n",
      "_________________________________________________________________\n",
      "dense_5 (Dense)              (None, 1000)              1001000   \n",
      "_________________________________________________________________\n",
      "dense_6 (Dense)              (None, 3)                 3003      \n",
      "=================================================================\n",
      "Total params: 4,112,603\n",
      "Trainable params: 4,112,603\n",
      "Non-trainable params: 0\n",
      "_________________________________________________________________\n"
     ]
    }
   ],
   "source": [
    "model.summary()"
   ]
  },
  {
   "cell_type": "code",
   "execution_count": 13,
   "metadata": {},
   "outputs": [
    {
     "name": "stdout",
     "output_type": "stream",
     "text": [
      "WARNING:tensorflow:From C:\\Users\\TPCal\\Anaconda3\\lib\\site-packages\\tensorflow\\python\\ops\\math_ops.py:3066: to_int32 (from tensorflow.python.ops.math_ops) is deprecated and will be removed in a future version.\n",
      "Instructions for updating:\n",
      "Use tf.cast instead.\n",
      "Epoch 1/70\n",
      "485/485 [==============================] - 2s 3ms/sample - loss: 4.1295 - acc: 0.5835\n",
      "Epoch 2/70\n",
      "485/485 [==============================] - 1s 2ms/sample - loss: 2.4655 - acc: 0.6557\n",
      "Epoch 3/70\n",
      "485/485 [==============================] - 1s 2ms/sample - loss: 1.6872 - acc: 0.6680\n",
      "Epoch 4/70\n",
      "485/485 [==============================] - 1s 2ms/sample - loss: 1.3447 - acc: 0.6536\n",
      "Epoch 5/70\n",
      "485/485 [==============================] - 1s 2ms/sample - loss: 1.1647 - acc: 0.6990\n",
      "Epoch 6/70\n",
      "485/485 [==============================] - 1s 2ms/sample - loss: 1.0584 - acc: 0.7052\n",
      "Epoch 7/70\n",
      "485/485 [==============================] - 1s 2ms/sample - loss: 0.9952 - acc: 0.7113\n",
      "Epoch 8/70\n",
      "485/485 [==============================] - 1s 2ms/sample - loss: 0.9596 - acc: 0.7010\n",
      "Epoch 9/70\n",
      "485/485 [==============================] - 1s 2ms/sample - loss: 0.8817 - acc: 0.7155\n",
      "Epoch 10/70\n",
      "485/485 [==============================] - 1s 2ms/sample - loss: 0.9000 - acc: 0.6990\n",
      "Epoch 11/70\n",
      "485/485 [==============================] - 1s 2ms/sample - loss: 0.8315 - acc: 0.7237\n",
      "Epoch 12/70\n",
      "485/485 [==============================] - 1s 2ms/sample - loss: 0.8373 - acc: 0.7237\n",
      "Epoch 13/70\n",
      "485/485 [==============================] - 1s 2ms/sample - loss: 0.7859 - acc: 0.7258\n",
      "Epoch 14/70\n",
      "485/485 [==============================] - 1s 2ms/sample - loss: 0.7669 - acc: 0.7485\n",
      "Epoch 15/70\n",
      "485/485 [==============================] - 1s 2ms/sample - loss: 0.7610 - acc: 0.7134\n",
      "Epoch 16/70\n",
      "485/485 [==============================] - 1s 2ms/sample - loss: 0.7477 - acc: 0.7711\n",
      "Epoch 17/70\n",
      "485/485 [==============================] - 1s 2ms/sample - loss: 0.7053 - acc: 0.7464\n",
      "Epoch 18/70\n",
      "485/485 [==============================] - 1s 2ms/sample - loss: 0.6925 - acc: 0.7526\n",
      "Epoch 19/70\n",
      "485/485 [==============================] - 1s 2ms/sample - loss: 0.6513 - acc: 0.7691\n",
      "Epoch 20/70\n",
      "485/485 [==============================] - 1s 2ms/sample - loss: 0.6815 - acc: 0.7753\n",
      "Epoch 21/70\n",
      "485/485 [==============================] - 1s 2ms/sample - loss: 0.6675 - acc: 0.7670\n",
      "Epoch 22/70\n",
      "485/485 [==============================] - 1s 2ms/sample - loss: 0.6936 - acc: 0.7649\n",
      "Epoch 23/70\n",
      "485/485 [==============================] - 1s 2ms/sample - loss: 0.6577 - acc: 0.7649\n",
      "Epoch 24/70\n",
      "485/485 [==============================] - 1s 2ms/sample - loss: 0.6587 - acc: 0.7876\n",
      "Epoch 25/70\n",
      "485/485 [==============================] - 1s 2ms/sample - loss: 0.6255 - acc: 0.8062\n",
      "Epoch 26/70\n",
      "485/485 [==============================] - 1s 2ms/sample - loss: 0.6765 - acc: 0.7856\n",
      "Epoch 27/70\n",
      "485/485 [==============================] - 1s 2ms/sample - loss: 0.8498 - acc: 0.7113\n",
      "Epoch 28/70\n",
      "485/485 [==============================] - 1s 2ms/sample - loss: 0.7123 - acc: 0.7773\n",
      "Epoch 29/70\n",
      "485/485 [==============================] - 1s 2ms/sample - loss: 0.6192 - acc: 0.8041\n",
      "Epoch 30/70\n",
      "485/485 [==============================] - 1s 2ms/sample - loss: 0.6100 - acc: 0.7979\n",
      "Epoch 31/70\n",
      "485/485 [==============================] - 1s 2ms/sample - loss: 0.5743 - acc: 0.8165\n",
      "Epoch 32/70\n",
      "485/485 [==============================] - 1s 2ms/sample - loss: 0.5570 - acc: 0.8330\n",
      "Epoch 33/70\n",
      "485/485 [==============================] - 1s 2ms/sample - loss: 0.5845 - acc: 0.8247\n",
      "Epoch 34/70\n",
      "485/485 [==============================] - 1s 2ms/sample - loss: 0.5963 - acc: 0.8103\n",
      "Epoch 35/70\n",
      "485/485 [==============================] - 1s 2ms/sample - loss: 0.5473 - acc: 0.8371\n",
      "Epoch 36/70\n",
      "485/485 [==============================] - 1s 2ms/sample - loss: 0.5057 - acc: 0.8557\n",
      "Epoch 37/70\n",
      "485/485 [==============================] - 1s 2ms/sample - loss: 0.5822 - acc: 0.8309\n",
      "Epoch 38/70\n",
      "485/485 [==============================] - 1s 2ms/sample - loss: 0.5462 - acc: 0.8495\n",
      "Epoch 39/70\n",
      "485/485 [==============================] - 1s 2ms/sample - loss: 0.5073 - acc: 0.8598\n",
      "Epoch 40/70\n",
      "485/485 [==============================] - ETA: 0s - loss: 0.4888 - acc: 0.862 - 1s 2ms/sample - loss: 0.4864 - acc: 0.8639\n",
      "Epoch 41/70\n",
      "485/485 [==============================] - 1s 2ms/sample - loss: 0.4781 - acc: 0.8619\n",
      "Epoch 42/70\n",
      "485/485 [==============================] - 1s 2ms/sample - loss: 0.4597 - acc: 0.8680\n",
      "Epoch 43/70\n",
      "485/485 [==============================] - 1s 2ms/sample - loss: 0.5044 - acc: 0.8495\n",
      "Epoch 44/70\n",
      "485/485 [==============================] - 1s 2ms/sample - loss: 0.4504 - acc: 0.8742\n",
      "Epoch 45/70\n",
      "485/485 [==============================] - 1s 2ms/sample - loss: 0.4370 - acc: 0.8763\n",
      "Epoch 46/70\n",
      "485/485 [==============================] - 1s 2ms/sample - loss: 0.4252 - acc: 0.8907\n",
      "Epoch 47/70\n",
      "485/485 [==============================] - 1s 2ms/sample - loss: 0.4030 - acc: 0.9072\n",
      "Epoch 48/70\n",
      "485/485 [==============================] - 1s 2ms/sample - loss: 0.4079 - acc: 0.8969\n",
      "Epoch 49/70\n",
      "485/485 [==============================] - 1s 2ms/sample - loss: 0.4400 - acc: 0.8845 0s - loss: 0.4416 - acc: 0.88\n",
      "Epoch 50/70\n",
      "485/485 [==============================] - 1s 2ms/sample - loss: 0.4132 - acc: 0.8948\n",
      "Epoch 51/70\n",
      "485/485 [==============================] - 1s 2ms/sample - loss: 0.3754 - acc: 0.9052\n",
      "Epoch 52/70\n",
      "485/485 [==============================] - 1s 2ms/sample - loss: 0.4634 - acc: 0.8557\n",
      "Epoch 53/70\n",
      "485/485 [==============================] - 1s 2ms/sample - loss: 0.4512 - acc: 0.8742\n",
      "Epoch 54/70\n",
      "485/485 [==============================] - 1s 2ms/sample - loss: 0.4213 - acc: 0.8845\n",
      "Epoch 55/70\n",
      "485/485 [==============================] - 1s 2ms/sample - loss: 0.3986 - acc: 0.9093 0s - loss: 0.3814 - acc: 0.\n",
      "Epoch 56/70\n",
      "485/485 [==============================] - 1s 2ms/sample - loss: 0.4261 - acc: 0.9113\n",
      "Epoch 57/70\n",
      "485/485 [==============================] - 1s 2ms/sample - loss: 0.4243 - acc: 0.9031\n",
      "Epoch 58/70\n",
      "485/485 [==============================] - 1s 2ms/sample - loss: 0.4265 - acc: 0.8763\n",
      "Epoch 59/70\n",
      "485/485 [==============================] - 1s 2ms/sample - loss: 0.4760 - acc: 0.8639\n",
      "Epoch 60/70\n",
      "485/485 [==============================] - 1s 2ms/sample - loss: 0.4175 - acc: 0.9196\n",
      "Epoch 61/70\n",
      "485/485 [==============================] - 1s 2ms/sample - loss: 0.3547 - acc: 0.9216\n",
      "Epoch 62/70\n",
      "485/485 [==============================] - 1s 2ms/sample - loss: 0.3148 - acc: 0.9443\n",
      "Epoch 63/70\n",
      "485/485 [==============================] - 1s 2ms/sample - loss: 0.3859 - acc: 0.9155\n",
      "Epoch 64/70\n",
      "485/485 [==============================] - 1s 2ms/sample - loss: 0.3355 - acc: 0.9381\n",
      "Epoch 65/70\n",
      "485/485 [==============================] - 1s 2ms/sample - loss: 0.2897 - acc: 0.9670\n",
      "Epoch 66/70\n",
      "485/485 [==============================] - 1s 2ms/sample - loss: 0.2773 - acc: 0.9649\n",
      "Epoch 67/70\n",
      "485/485 [==============================] - 1s 2ms/sample - loss: 0.4455 - acc: 0.8907\n",
      "Epoch 68/70\n",
      "485/485 [==============================] - 1s 2ms/sample - loss: 0.3929 - acc: 0.9072\n",
      "Epoch 69/70\n",
      "485/485 [==============================] - 1s 2ms/sample - loss: 0.3406 - acc: 0.9361\n",
      "Epoch 70/70\n",
      "485/485 [==============================] - 1s 2ms/sample - loss: 0.3063 - acc: 0.9340\n"
     ]
    },
    {
     "data": {
      "text/plain": [
       "<tensorflow.python.keras.callbacks.History at 0x2026ef307b8>"
      ]
     },
     "execution_count": 13,
     "metadata": {},
     "output_type": "execute_result"
    }
   ],
   "source": [
    "model.compile(\n",
    "    optimizer = 'adam',\n",
    "    loss = 'categorical_crossentropy',\n",
    "    metrics = ['accuracy']\n",
    ")\n",
    "\n",
    "model.fit(\n",
    "    X_train_scaled, \n",
    "    y_train_categorical, \n",
    "    epochs = 70,\n",
    "    shuffle = True, \n",
    "    verbose = 1\n",
    ")"
   ]
  },
  {
   "cell_type": "code",
   "execution_count": 14,
   "metadata": {},
   "outputs": [
    {
     "name": "stdout",
     "output_type": "stream",
     "text": [
      "Normal Neural Network - Loss: 1.6844312143914493, Accuracy: 0.6172839403152466\n"
     ]
    }
   ],
   "source": [
    "model_loss, model_accuracy = model.evaluate(X_test_scaled, y_test_categorical, verbose=0)\n",
    "print(f\"Normal Neural Network - Loss: {model_loss}, Accuracy: {model_accuracy}\")"
   ]
  },
  {
   "cell_type": "code",
   "execution_count": 15,
   "metadata": {},
   "outputs": [],
   "source": [
    "encoded_predictions = model.predict_classes(X_test_scaled)\n",
    "prediction_labels = label_encoder.inverse_transform(encoded_predictions)"
   ]
  },
  {
   "cell_type": "code",
   "execution_count": 16,
   "metadata": {},
   "outputs": [
    {
     "name": "stdout",
     "output_type": "stream",
     "text": [
      "              precision    recall  f1-score   support\n",
      "\n",
      "       Lower       0.47      0.53      0.49        40\n",
      "         NHL       0.30      0.22      0.26        27\n",
      "  Not Active       0.75      0.77      0.76        95\n",
      "\n",
      "   micro avg       0.62      0.62      0.62       162\n",
      "   macro avg       0.51      0.51      0.50       162\n",
      "weighted avg       0.61      0.62      0.61       162\n",
      "\n"
     ]
    }
   ],
   "source": [
    "print(classification_report(list(y_test), prediction_labels))"
   ]
  },
  {
   "cell_type": "code",
   "execution_count": 17,
   "metadata": {},
   "outputs": [
    {
     "data": {
      "image/png": "[encoded data removed]",
      "text/plain": [
       "<Figure size 720x576 with 1 Axes>"
      ]
     },
     "metadata": {
      "needs_background": "light"
     },
     "output_type": "display_data"
    }
   ],
   "source": [
    "accuracy = model.history.history['acc']\n",
    "loss = model.history.history['loss']\n",
    "epoch_count = range(1, len(accuracy) + 1)\n",
    "\n",
    "fig = plt.subplots(1, figsize=[10, 8])\n",
    "\n",
    "plt.plot(epoch_count, accuracy, 'r-')\n",
    "plt.plot(epoch_count, loss, 'b-')\n",
    "plt.legend(['Accuracy', 'Loss'])\n",
    "plt.xlabel('Epoch')\n",
    "plt.show()"
   ]
  },
  {
   "cell_type": "code",
   "execution_count": 18,
   "metadata": {},
   "outputs": [],
   "source": [
    "#model.save('Deep_NN_model.h5')"
   ]
  },
  {
   "cell_type": "code",
   "execution_count": null,
   "metadata": {},
   "outputs": [],
   "source": []
  }
 ],
 "metadata": {
  "kernelspec": {
   "display_name": "Python 3",
   "language": "python",
   "name": "python3"
  },
  "language_info": {
   "codemirror_mode": {
    "name": "ipython",
    "version": 3
   },
   "file_extension": ".py",
   "mimetype": "text/x-python",
   "name": "python",
   "nbconvert_exporter": "python",
   "pygments_lexer": "ipython3",
   "version": "3.6.9"
  }
 },
 "nbformat": 4,
 "nbformat_minor": 2
}
