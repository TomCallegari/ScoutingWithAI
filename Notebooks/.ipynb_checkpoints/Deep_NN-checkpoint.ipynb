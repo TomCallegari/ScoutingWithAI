{
 "cells": [
  {
   "cell_type": "code",
   "execution_count": 2,
   "metadata": {},
   "outputs": [],
   "source": [
    " # Data manipulation\n",
    "import numpy as np\n",
    "import pandas as pd\n",
    "\n",
    "# Visualization\n",
    "import matplotlib.pyplot as plt\n",
    "import seaborn as sns\n",
    "\n",
    "# Pre-processing and setup functions\n",
    "from sklearn.preprocessing import MinMaxScaler, LabelEncoder\n",
    "from sklearn.model_selection import train_test_split\n",
    "from tensorflow.keras.utils import to_categorical\n",
    "from sklearn.metrics import classification_report\n",
    "\n",
    "# Neural Network\n",
    "import tensorflow as tf\n",
    "import tensorflow.keras as keras\n",
    "from tensorflow.keras.models import Sequential\n",
    "from tensorflow.keras.layers import Dense, Dropout\n",
    "\n",
    "# Set viewable columns in pandas\n",
    "pd.set_option('display.max_columns', 50)"
   ]
  },
  {
   "cell_type": "code",
   "execution_count": 5,
   "metadata": {},
   "outputs": [],
   "source": [
    "main = pd.read_csv('main_test.csv').drop('Unnamed: 0', 1)"
   ]
  },
  {
   "cell_type": "code",
   "execution_count": 6,
   "metadata": {},
   "outputs": [
    {
     "name": "stdout",
     "output_type": "stream",
     "text": [
      "<class 'pandas.core.frame.DataFrame'>\n",
      "RangeIndex: 595 entries, 0 to 594\n",
      "Data columns (total 72 columns):\n",
      "height                  595 non-null int64\n",
      "weight                  595 non-null int64\n",
      "regular_gp_14           595 non-null float64\n",
      "regular_g_14            595 non-null float64\n",
      "regular_a_14            595 non-null float64\n",
      "regular_pim_14          595 non-null float64\n",
      "regular_pm_14           595 non-null float64\n",
      "playoffs_gp_14          595 non-null float64\n",
      "playoffs_g_14           595 non-null float64\n",
      "playoffs_a_14           595 non-null float64\n",
      "playoffs_pim_14         595 non-null float64\n",
      "playoffs_pm_14          595 non-null float64\n",
      "regular_gp_15           595 non-null float64\n",
      "regular_g_15            595 non-null float64\n",
      "regular_a_15            595 non-null float64\n",
      "regular_pim_15          595 non-null float64\n",
      "regular_pm_15           595 non-null float64\n",
      "playoffs_gp_15          595 non-null float64\n",
      "playoffs_g_15           595 non-null float64\n",
      "playoffs_a_15           595 non-null float64\n",
      "playoffs_pim_15         595 non-null float64\n",
      "playoffs_pm_15          595 non-null float64\n",
      "regular_gp_16           595 non-null float64\n",
      "regular_g_16            595 non-null float64\n",
      "regular_a_16            595 non-null float64\n",
      "regular_pim_16          595 non-null float64\n",
      "regular_pm_16           595 non-null float64\n",
      "playoffs_gp_16          595 non-null float64\n",
      "playoffs_g_16           595 non-null float64\n",
      "playoffs_a_16           595 non-null float64\n",
      "playoffs_pim_16         595 non-null float64\n",
      "playoffs_pm_16          595 non-null float64\n",
      "regular_gp_17           595 non-null float64\n",
      "regular_g_17            595 non-null float64\n",
      "regular_a_17            595 non-null float64\n",
      "regular_pim_17          595 non-null float64\n",
      "regular_pm_17           595 non-null float64\n",
      "playoffs_gp_17          595 non-null float64\n",
      "playoffs_g_17           595 non-null float64\n",
      "playoffs_a_17           595 non-null float64\n",
      "playoffs_pim_17         595 non-null float64\n",
      "playoffs_pm_17          595 non-null float64\n",
      "inter_regular_gp_14     595 non-null float64\n",
      "inter_regular_g_14      595 non-null float64\n",
      "inter_regular_a_14      595 non-null float64\n",
      "inter_regular_pim_14    595 non-null float64\n",
      "inter_regular_pm_14     595 non-null float64\n",
      "inter_regular_gp_15     595 non-null float64\n",
      "inter_regular_g_15      595 non-null float64\n",
      "inter_regular_a_15      595 non-null float64\n",
      "inter_regular_pim_15    595 non-null float64\n",
      "inter_regular_pm_15     595 non-null float64\n",
      "inter_regular_gp_16     595 non-null float64\n",
      "inter_regular_g_16      595 non-null float64\n",
      "inter_regular_a_16      595 non-null float64\n",
      "inter_regular_pim_16    595 non-null float64\n",
      "inter_regular_pm_16     595 non-null float64\n",
      "inter_regular_gp_17     595 non-null float64\n",
      "inter_regular_g_17      595 non-null float64\n",
      "inter_regular_a_17      595 non-null float64\n",
      "inter_regular_pim_17    595 non-null float64\n",
      "inter_regular_pm_17     595 non-null float64\n",
      "birth_region            595 non-null object\n",
      "position                595 non-null object\n",
      "shoots                  595 non-null object\n",
      "response                595 non-null object\n",
      "word_count              595 non-null float64\n",
      "char_count              595 non-null float64\n",
      "avg_word                595 non-null float64\n",
      "stop_words              595 non-null float64\n",
      "upper                   595 non-null float64\n",
      "sentiment               595 non-null float64\n",
      "dtypes: float64(66), int64(2), object(4)\n",
      "memory usage: 334.8+ KB\n"
     ]
    }
   ],
   "source": [
    "main.info()"
   ]
  },
  {
   "cell_type": "code",
   "execution_count": 7,
   "metadata": {},
   "outputs": [],
   "source": [
    "y = main['response']\n",
    "X = main.drop(['response'], 1)"
   ]
  },
  {
   "cell_type": "code",
   "execution_count": 8,
   "metadata": {},
   "outputs": [],
   "source": [
    "X = pd.get_dummies(X)"
   ]
  },
  {
   "cell_type": "code",
   "execution_count": 9,
   "metadata": {},
   "outputs": [],
   "source": [
    "# Split X and y subsets into Test and Train datasets\n",
    "X_train, X_test, y_train, y_test = train_test_split(X, y, stratify=y)"
   ]
  },
  {
   "cell_type": "code",
   "execution_count": 10,
   "metadata": {},
   "outputs": [],
   "source": [
    "# Scale continuous values between 0 < x < 1\n",
    "X_scaler = MinMaxScaler().fit(X_train)\n",
    "X_train_scaled = X_scaler.transform(X_train)\n",
    "X_test_scaled = X_scaler.transform(X_test)"
   ]
  },
  {
   "cell_type": "code",
   "execution_count": 11,
   "metadata": {},
   "outputs": [],
   "source": [
    "# Transform the y subsets into model usable representations\n",
    "label_encoder = LabelEncoder()\n",
    "label_encoder.fit(y_train)\n",
    "\n",
    "encoded_y_train = label_encoder.transform(y_train)\n",
    "encoded_y_test = label_encoder.transform(y_test)\n",
    "\n",
    "y_train_categorical = to_categorical(encoded_y_train)\n",
    "y_test_categorical = to_categorical(encoded_y_test)"
   ]
  },
  {
   "cell_type": "code",
   "execution_count": 12,
   "metadata": {},
   "outputs": [
    {
     "data": {
      "text/plain": [
       "(446, 84)"
      ]
     },
     "execution_count": 12,
     "metadata": {},
     "output_type": "execute_result"
    }
   ],
   "source": [
    "X_train_scaled.shape"
   ]
  },
  {
   "cell_type": "code",
   "execution_count": 13,
   "metadata": {},
   "outputs": [],
   "source": [
    "model = Sequential()\n",
    "\n",
    "model.add(Dense(\n",
    "    units = 100, kernel_regularizer = keras.regularizers.l2(0.001),\n",
    "    activation = 'relu', \n",
    "    input_dim = 84\n",
    "))\n",
    "\n",
    "for i in range(5):\n",
    "    model.add(Dense(\n",
    "        units = 1000, kernel_regularizer = keras.regularizers.l2(0.001),\n",
    "        activation = 'relu'\n",
    "    ))\n",
    "\n",
    "model.add(Dense(\n",
    "    units = 3, \n",
    "    activation = 'softmax'\n",
    "))"
   ]
  },
  {
   "cell_type": "code",
   "execution_count": 14,
   "metadata": {},
   "outputs": [
    {
     "name": "stdout",
     "output_type": "stream",
     "text": [
      "Model: \"sequential\"\n",
      "_________________________________________________________________\n",
      "Layer (type)                 Output Shape              Param #   \n",
      "=================================================================\n",
      "dense (Dense)                (None, 100)               8500      \n",
      "_________________________________________________________________\n",
      "dense_1 (Dense)              (None, 1000)              101000    \n",
      "_________________________________________________________________\n",
      "dense_2 (Dense)              (None, 1000)              1001000   \n",
      "_________________________________________________________________\n",
      "dense_3 (Dense)              (None, 1000)              1001000   \n",
      "_________________________________________________________________\n",
      "dense_4 (Dense)              (None, 1000)              1001000   \n",
      "_________________________________________________________________\n",
      "dense_5 (Dense)              (None, 1000)              1001000   \n",
      "_________________________________________________________________\n",
      "dense_6 (Dense)              (None, 3)                 3003      \n",
      "=================================================================\n",
      "Total params: 4,116,503\n",
      "Trainable params: 4,116,503\n",
      "Non-trainable params: 0\n",
      "_________________________________________________________________\n"
     ]
    }
   ],
   "source": [
    "model.summary()"
   ]
  },
  {
   "cell_type": "code",
   "execution_count": 15,
   "metadata": {},
   "outputs": [
    {
     "name": "stdout",
     "output_type": "stream",
     "text": [
      "Train on 446 samples\n",
      "Epoch 1/70\n",
      "446/446 [==============================] - 2s 5ms/sample - loss: 4.2697 - accuracy: 0.5628\n",
      "Epoch 2/70\n",
      "446/446 [==============================] - 1s 2ms/sample - loss: 2.5481 - accuracy: 0.7309\n",
      "Epoch 3/70\n",
      "446/446 [==============================] - 1s 2ms/sample - loss: 1.7678 - accuracy: 0.7601\n",
      "Epoch 4/70\n",
      "446/446 [==============================] - 1s 2ms/sample - loss: 1.3924 - accuracy: 0.7556\n",
      "Epoch 5/70\n",
      "446/446 [==============================] - 1s 1ms/sample - loss: 1.1887 - accuracy: 0.7556\n",
      "Epoch 6/70\n",
      "446/446 [==============================] - 1s 1ms/sample - loss: 1.0783 - accuracy: 0.7758\n",
      "Epoch 7/70\n",
      "446/446 [==============================] - 1s 2ms/sample - loss: 0.9739 - accuracy: 0.7623\n",
      "Epoch 8/70\n",
      "446/446 [==============================] - 1s 2ms/sample - loss: 0.8939 - accuracy: 0.7713\n",
      "Epoch 9/70\n",
      "446/446 [==============================] - 1s 2ms/sample - loss: 0.8619 - accuracy: 0.7803\n",
      "Epoch 10/70\n",
      "446/446 [==============================] - 1s 2ms/sample - loss: 0.8559 - accuracy: 0.7556\n",
      "Epoch 11/70\n",
      "446/446 [==============================] - 1s 2ms/sample - loss: 0.7621 - accuracy: 0.8049\n",
      "Epoch 12/70\n",
      "446/446 [==============================] - 1s 2ms/sample - loss: 0.7443 - accuracy: 0.8072\n",
      "Epoch 13/70\n",
      "446/446 [==============================] - 1s 2ms/sample - loss: 0.6836 - accuracy: 0.8251\n",
      "Epoch 14/70\n",
      "446/446 [==============================] - 1s 2ms/sample - loss: 0.6236 - accuracy: 0.8587\n",
      "Epoch 15/70\n",
      "446/446 [==============================] - 1s 2ms/sample - loss: 0.6569 - accuracy: 0.8520\n",
      "Epoch 16/70\n",
      "446/446 [==============================] - 1s 2ms/sample - loss: 0.6315 - accuracy: 0.8767\n",
      "Epoch 17/70\n",
      "446/446 [==============================] - 1s 1ms/sample - loss: 0.6318 - accuracy: 0.8363\n",
      "Epoch 18/70\n",
      "446/446 [==============================] - 1s 2ms/sample - loss: 0.6422 - accuracy: 0.8094\n",
      "Epoch 19/70\n",
      "446/446 [==============================] - 1s 2ms/sample - loss: 0.5946 - accuracy: 0.8744\n",
      "Epoch 20/70\n",
      "446/446 [==============================] - 1s 2ms/sample - loss: 0.5189 - accuracy: 0.8789\n",
      "Epoch 21/70\n",
      "446/446 [==============================] - 1s 2ms/sample - loss: 0.6314 - accuracy: 0.8251\n",
      "Epoch 22/70\n",
      "446/446 [==============================] - 1s 2ms/sample - loss: 0.5427 - accuracy: 0.8722\n",
      "Epoch 23/70\n",
      "446/446 [==============================] - 1s 3ms/sample - loss: 0.4734 - accuracy: 0.8901\n",
      "Epoch 24/70\n",
      "446/446 [==============================] - 1s 3ms/sample - loss: 0.4386 - accuracy: 0.9126\n",
      "Epoch 25/70\n",
      "446/446 [==============================] - 1s 2ms/sample - loss: 0.4112 - accuracy: 0.9260\n",
      "Epoch 26/70\n",
      "446/446 [==============================] - 1s 2ms/sample - loss: 0.4032 - accuracy: 0.9507\n",
      "Epoch 27/70\n",
      "446/446 [==============================] - 1s 2ms/sample - loss: 0.3968 - accuracy: 0.9170\n",
      "Epoch 28/70\n",
      "446/446 [==============================] - 1s 2ms/sample - loss: 0.3733 - accuracy: 0.9283\n",
      "Epoch 29/70\n",
      "446/446 [==============================] - 1s 2ms/sample - loss: 0.3908 - accuracy: 0.9170\n",
      "Epoch 30/70\n",
      "446/446 [==============================] - 1s 2ms/sample - loss: 0.3498 - accuracy: 0.9417\n",
      "Epoch 31/70\n",
      "446/446 [==============================] - 1s 2ms/sample - loss: 0.3358 - accuracy: 0.9462\n",
      "Epoch 32/70\n",
      "446/446 [==============================] - 1s 2ms/sample - loss: 0.3632 - accuracy: 0.9327\n",
      "Epoch 33/70\n",
      "446/446 [==============================] - 1s 2ms/sample - loss: 0.4058 - accuracy: 0.9036\n",
      "Epoch 34/70\n",
      "446/446 [==============================] - 1s 2ms/sample - loss: 0.3460 - accuracy: 0.9372\n",
      "Epoch 35/70\n",
      "446/446 [==============================] - 1s 2ms/sample - loss: 0.3202 - accuracy: 0.9507\n",
      "Epoch 36/70\n",
      "446/446 [==============================] - 1s 1ms/sample - loss: 0.3498 - accuracy: 0.9350\n",
      "Epoch 37/70\n",
      "446/446 [==============================] - 1s 2ms/sample - loss: 0.4271 - accuracy: 0.9058\n",
      "Epoch 38/70\n",
      "446/446 [==============================] - 1s 2ms/sample - loss: 0.3655 - accuracy: 0.9350\n",
      "Epoch 39/70\n",
      "446/446 [==============================] - 1s 2ms/sample - loss: 0.3051 - accuracy: 0.9596\n",
      "Epoch 40/70\n",
      "446/446 [==============================] - 1s 2ms/sample - loss: 0.2730 - accuracy: 0.9709\n",
      "Epoch 41/70\n",
      "446/446 [==============================] - 1s 2ms/sample - loss: 0.2713 - accuracy: 0.9709\n",
      "Epoch 42/70\n",
      "446/446 [==============================] - 1s 2ms/sample - loss: 0.2648 - accuracy: 0.9664\n",
      "Epoch 43/70\n",
      "446/446 [==============================] - 1s 2ms/sample - loss: 0.2725 - accuracy: 0.9619\n",
      "Epoch 44/70\n",
      "446/446 [==============================] - 1s 2ms/sample - loss: 0.2449 - accuracy: 0.9776\n",
      "Epoch 45/70\n",
      "446/446 [==============================] - 1s 2ms/sample - loss: 0.3087 - accuracy: 0.9484\n",
      "Epoch 46/70\n",
      "446/446 [==============================] - 1s 2ms/sample - loss: 0.2747 - accuracy: 0.9619\n",
      "Epoch 47/70\n",
      "446/446 [==============================] - 1s 2ms/sample - loss: 0.2697 - accuracy: 0.9753\n",
      "Epoch 48/70\n",
      "446/446 [==============================] - 1s 2ms/sample - loss: 0.2391 - accuracy: 0.9753\n",
      "Epoch 49/70\n",
      "446/446 [==============================] - 1s 2ms/sample - loss: 0.2348 - accuracy: 0.9753\n",
      "Epoch 50/70\n",
      "446/446 [==============================] - 1s 2ms/sample - loss: 0.2406 - accuracy: 0.9731\n",
      "Epoch 51/70\n",
      "446/446 [==============================] - 1s 2ms/sample - loss: 0.2785 - accuracy: 0.9641\n",
      "Epoch 52/70\n",
      "446/446 [==============================] - 1s 2ms/sample - loss: 0.2653 - accuracy: 0.9596\n",
      "Epoch 53/70\n",
      "446/446 [==============================] - 1s 3ms/sample - loss: 0.3118 - accuracy: 0.9417\n",
      "Epoch 54/70\n",
      "446/446 [==============================] - 1s 2ms/sample - loss: 0.3292 - accuracy: 0.9395\n",
      "Epoch 55/70\n",
      "446/446 [==============================] - 1s 2ms/sample - loss: 0.2710 - accuracy: 0.9596\n",
      "Epoch 56/70\n",
      "446/446 [==============================] - 1s 2ms/sample - loss: 0.3387 - accuracy: 0.9350\n",
      "Epoch 57/70\n",
      "446/446 [==============================] - 1s 2ms/sample - loss: 0.3133 - accuracy: 0.9462\n",
      "Epoch 58/70\n",
      "446/446 [==============================] - 1s 2ms/sample - loss: 0.2586 - accuracy: 0.9664\n",
      "Epoch 59/70\n",
      "446/446 [==============================] - 1s 2ms/sample - loss: 0.2269 - accuracy: 0.9798\n",
      "Epoch 60/70\n",
      "446/446 [==============================] - 1s 2ms/sample - loss: 0.2045 - accuracy: 0.9821\n",
      "Epoch 61/70\n",
      "446/446 [==============================] - 1s 2ms/sample - loss: 0.1915 - accuracy: 0.9910\n",
      "Epoch 62/70\n",
      "446/446 [==============================] - 1s 3ms/sample - loss: 0.1845 - accuracy: 0.9955\n",
      "Epoch 63/70\n",
      "446/446 [==============================] - 1s 2ms/sample - loss: 0.1821 - accuracy: 0.9933\n",
      "Epoch 64/70\n",
      "446/446 [==============================] - 1s 2ms/sample - loss: 0.1806 - accuracy: 0.9955\n",
      "Epoch 65/70\n",
      "446/446 [==============================] - 1s 2ms/sample - loss: 0.1786 - accuracy: 0.9978\n",
      "Epoch 66/70\n",
      "446/446 [==============================] - 1s 2ms/sample - loss: 0.2150 - accuracy: 0.9843\n",
      "Epoch 67/70\n",
      "446/446 [==============================] - 1s 2ms/sample - loss: 0.2470 - accuracy: 0.9731\n",
      "Epoch 68/70\n",
      "446/446 [==============================] - 1s 2ms/sample - loss: 0.1940 - accuracy: 0.9910\n",
      "Epoch 69/70\n",
      "446/446 [==============================] - 1s 2ms/sample - loss: 0.1758 - accuracy: 0.9955\n",
      "Epoch 70/70\n",
      "446/446 [==============================] - 1s 2ms/sample - loss: 0.1666 - accuracy: 0.9978\n"
     ]
    },
    {
     "data": {
      "text/plain": [
       "<tensorflow.python.keras.callbacks.History at 0x7faf70379d50>"
      ]
     },
     "execution_count": 15,
     "metadata": {},
     "output_type": "execute_result"
    }
   ],
   "source": [
    "model.compile(\n",
    "    optimizer = 'adam',\n",
    "    loss = 'categorical_crossentropy',\n",
    "    metrics = ['accuracy']\n",
    ")\n",
    "\n",
    "model.fit(\n",
    "    X_train_scaled, \n",
    "    y_train_categorical, \n",
    "    epochs = 70,\n",
    "    shuffle = True, \n",
    "    verbose = 1\n",
    ")"
   ]
  },
  {
   "cell_type": "code",
   "execution_count": 16,
   "metadata": {},
   "outputs": [
    {
     "name": "stdout",
     "output_type": "stream",
     "text": [
      "Normal Neural Network - Loss: 2.0486998198016377, Accuracy: 0.7248322367668152\n"
     ]
    }
   ],
   "source": [
    "model_loss, model_accuracy = model.evaluate(X_test_scaled, y_test_categorical, verbose=0)\n",
    "print(f\"Normal Neural Network - Loss: {model_loss}, Accuracy: {model_accuracy}\")"
   ]
  },
  {
   "cell_type": "code",
   "execution_count": 17,
   "metadata": {},
   "outputs": [],
   "source": [
    "encoded_predictions = model.predict_classes(X_test_scaled)\n",
    "prediction_labels = label_encoder.inverse_transform(encoded_predictions)"
   ]
  },
  {
   "cell_type": "code",
   "execution_count": 18,
   "metadata": {},
   "outputs": [
    {
     "name": "stdout",
     "output_type": "stream",
     "text": [
      "              precision    recall  f1-score   support\n",
      "\n",
      "       Lower       0.71      0.79      0.75        75\n",
      "         NHL       0.47      0.32      0.38        28\n",
      "  Not Active       0.85      0.87      0.86        46\n",
      "\n",
      "    accuracy                           0.72       149\n",
      "   macro avg       0.68      0.66      0.66       149\n",
      "weighted avg       0.71      0.72      0.71       149\n",
      "\n"
     ]
    }
   ],
   "source": [
    "print(classification_report(list(y_test), prediction_labels))"
   ]
  },
  {
   "cell_type": "code",
   "execution_count": 27,
   "metadata": {},
   "outputs": [
    {
     "data": {
      "image/png": "[encoded data removed]",
      "text/plain": [
       "<Figure size 720x576 with 1 Axes>"
      ]
     },
     "metadata": {
      "needs_background": "light"
     },
     "output_type": "display_data"
    }
   ],
   "source": [
    "accuracy = model.history.history['accuracy']\n",
    "loss = model.history.history['loss']\n",
    "epoch_count = range(1, len(accuracy) + 1)\n",
    "\n",
    "fig = plt.subplots(1, figsize=[10, 8])\n",
    "\n",
    "plt.plot(epoch_count, accuracy, 'r-')\n",
    "plt.plot(epoch_count, loss, 'b-')\n",
    "plt.legend(['Accuracy', 'Loss'])\n",
    "plt.xlabel('Epoch')\n",
    "plt.show()"
   ]
  },
  {
   "cell_type": "code",
   "execution_count": 28,
   "metadata": {},
   "outputs": [],
   "source": [
    "model.save('Deep_NN_model.h5')"
   ]
  },
  {
   "cell_type": "code",
   "execution_count": null,
   "metadata": {},
   "outputs": [],
   "source": []
  }
 ],
 "metadata": {
  "kernelspec": {
   "display_name": "Python 3",
   "language": "python",
   "name": "python3"
  },
  "language_info": {
   "codemirror_mode": {
    "name": "ipython",
    "version": 3
   },
   "file_extension": ".py",
   "mimetype": "text/x-python",
   "name": "python",
   "nbconvert_exporter": "python",
   "pygments_lexer": "ipython3",
   "version": "3.7.4"
  }
 },
 "nbformat": 4,
 "nbformat_minor": 2
}
