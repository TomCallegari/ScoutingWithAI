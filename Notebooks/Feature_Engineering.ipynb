{
 "cells": [
  {
   "cell_type": "markdown",
   "metadata": {},
   "source": [
    "# Feature Engineering"
   ]
  },
  {
   "cell_type": "markdown",
   "metadata": {},
   "source": [
    "### Packages and Dependencies"
   ]
  },
  {
   "cell_type": "code",
   "execution_count": 1,
   "metadata": {},
   "outputs": [],
   "source": [
    "import numpy as np\n",
    "import pandas as pd\n",
    "import matplotlib.pyplot as plt\n",
    "import seaborn as sns\n",
    "\n",
    "from sklearn.preprocessing import MinMaxScaler\n",
    "\n",
    "from nltk.corpus import stopwords\n",
    "from nltk.tokenize import word_tokenize\n",
    "from nltk.probability import FreqDist\n",
    "from nltk.stem import PorterStemmer\n",
    "\n",
    "from textblob import TextBlob\n",
    "from textblob import Word\n",
    "\n",
    "stop = stopwords.words('english')\n",
    "\n",
    "pd.set_option('display.max_rows', 500)\n",
    "pd.set_option('display.max_columns', 500)"
   ]
  },
  {
   "cell_type": "markdown",
   "metadata": {},
   "source": [
    "### Load Data"
   ]
  },
  {
   "cell_type": "code",
   "execution_count": 2,
   "metadata": {},
   "outputs": [
    {
     "name": "stderr",
     "output_type": "stream",
     "text": [
      "C:\\Users\\TPCal\\Anaconda3\\lib\\site-packages\\IPython\\core\\interactiveshell.py:3049: DtypeWarning: Columns (176,177) have mixed types. Specify dtype option on import or set low_memory=False.\n",
      "  interactivity=interactivity, compiler=compiler, result=result)\n"
     ]
    }
   ],
   "source": [
    "main = pd.read_csv('main.csv').drop('Unnamed: 0', 1)"
   ]
  },
  {
   "cell_type": "markdown",
   "metadata": {},
   "source": [
    "### Refactor league_25 as the response"
   ]
  },
  {
   "cell_type": "code",
   "execution_count": 3,
   "metadata": {},
   "outputs": [],
   "source": [
    "replacements = {\n",
    "    np.nan: 'Not Active',\n",
    "    0: 'Not Active',\n",
    "    'ECHL': 'Lower',\n",
    "    'AHL': 'Lower',\n",
    "    'USports': 'Lower', # Collegiate\n",
    "    'NCHL': 'Lower', # Collegiate\n",
    "    'LHSAM': 'Lower',\n",
    "    'LHCS': 'Lower',\n",
    "    'LNAH': 'Lower',\n",
    "    'CHL': 'Lower',\n",
    "    'NCHL-MB': 'Lower',\n",
    "    'NLSHL': 'Lower',\n",
    "    'SPHL': 'Lower',\n",
    "    'LHSR': 'Lower',\n",
    "    'LHSCE': 'Lower',\n",
    "    'SEMHL': 'Lower',\n",
    "    'NESHL': 'Lower',\n",
    "    'WOAA': 'Lower',\n",
    "    'HHL': 'Lower',\n",
    "    'CRL': 'Lower',\n",
    "    'FPHL': 'Lower',\n",
    "    'Chinook HL': 'Lower',\n",
    "    'FHL': 'Lower',\n",
    "    'LHSAAAQ': 'Lower',\n",
    "    'BSHL': 'Lower',\n",
    "    'NPHL-Sr.': 'Lower',\n",
    "    'WMHL': 'Lower',\n",
    "    'ACHW': 'Lower',\n",
    "    'GLHL': 'Lower',\n",
    "    'RHL': 'Lower',\n",
    "    'ACAC': 'Lower',\n",
    "    'SVHL': 'Lower',\n",
    "    'SWHL': 'Lower',\n",
    "    'BCIHL': 'Lower',\n",
    "    'QVHL': 'Lower',\n",
    "    'WCSHL': 'Lower',\n",
    "    'LHBBF': 'Lower',\n",
    "    'OHL': 'Lower',\n",
    "    'BRHL': 'Lower',\n",
    "    'FCHL': 'Lower',\n",
    "    'THHL': 'Lower',\n",
    "    'ACHA II': 'Lower',\n",
    "    'LHSLF': 'Lower',\n",
    "    'CIHL': 'Lower',\n",
    "    'LRH': 'Lower',\n",
    "    'NSHL-Sr.': 'Lower',\n",
    "    'LHSEQ': 'Lower',\n",
    "    'ACH': 'Lower',\n",
    "    'IHL': 'Lower',\n",
    "    'MSHL': 'Lower',\n",
    "    'SASHL': 'Lower',\n",
    "    'CSHL-Sr.': 'Lower',\n",
    "    'USHL': 'Lower',\n",
    "    'OWSHL': 'Lower',\n",
    "    'LLHL': 'Lower',\n",
    "    'CWSHL': 'Lower',\n",
    "    'LHSBEQ': 'Lower',\n",
    "    'QSCHL': 'Lower',\n",
    "    'LHSAO': 'Lower',\n",
    "    'ASHL': 'Lower',\n",
    "    'NCAA III': 'Lower',\n",
    "    'THL': 'Lower',\n",
    "    'AAHL': 'Lower',\n",
    "    'Notekeu HL': 'Lower',\n",
    "    'QMJHL': 'Lower',\n",
    "    'ACHA III': 'Lower',\n",
    "    'LHSCN': 'Lower',\n",
    "    'EPHL': 'Lower'\n",
    "}\n",
    "\n",
    "main['response'] = main['league_25'].replace(replacements)"
   ]
  },
  {
   "cell_type": "markdown",
   "metadata": {},
   "source": [
    "### Refactor country as birth_region"
   ]
  },
  {
   "cell_type": "code",
   "execution_count": 4,
   "metadata": {},
   "outputs": [],
   "source": [
    "regions = {\n",
    "    'Czech': 'Eastern Europe',\n",
    "    'Sweden': 'Scandanavia',\n",
    "    'Germany': 'Western Europe',\n",
    "    'Slovakia': 'Eastern Europe',\n",
    "    'Finland': 'Scandanavia',\n",
    "    'Italy': 'Western Europe',\n",
    "    'Norway': 'Scandanavia',\n",
    "    'Switzerland': 'Western Europe',\n",
    "    'Latvia': 'Eastern Europe',\n",
    "    'Ukraine': 'Eastern Europe',\n",
    "    'Denmark': 'Scandanavia',\n",
    "    'Hungary': 'Eastern Europe',\n",
    "    'Belarus': 'Eastern Europe',\n",
    "    'Kazakhstan': 'Eastern Europe',\n",
    "    'Slovenia': 'Eastern Europe',\n",
    "    'U': 'Western Europe', # U is United Kingdom (UK)\n",
    "    'Austria': 'Western Europe',\n",
    "    'France': 'Western Europe',\n",
    "    'South': 'Asia',\n",
    "    'Croatia': 'Eastern Europe',\n",
    "    'Israel': 'Eastern Europe',\n",
    "    'Poland': 'Eastern Europe',\n",
    "    'England': 'Western Europe',\n",
    "    'Japan': 'Asia',\n",
    "    'Netherlands': 'Western Europe'\n",
    "}\n",
    "\n",
    "main['birth_region'] = main['country'].replace(regions)"
   ]
  },
  {
   "cell_type": "markdown",
   "metadata": {},
   "source": [
    "### Manage position"
   ]
  },
  {
   "cell_type": "code",
   "execution_count": 5,
   "metadata": {},
   "outputs": [],
   "source": [
    "positions = {\n",
    "    'RW/C': 'Forward',\n",
    "    'C/LW': 'Forward',\n",
    "    'RW/LW': 'Winger',\n",
    "    'D/F': 'Mixed',\n",
    "    'F': 'Forward',\n",
    "    'LW/D': 'Mixed',\n",
    "    'C/RW': 'Forward',\n",
    "    'LW/RW': 'Forward',\n",
    "    'LW/C': 'Forward',\n",
    "    'LW/C/D': 'Mixed',\n",
    "    'D/W': 'Mixed',\n",
    "    'W/C/D': 'Mixed',\n",
    "    'W/C': 'Forward',\n",
    "    'C/W': 'Forward',\n",
    "    'D/RW': 'Mixed',\n",
    "    'F/D': 'Mixed',\n",
    "    'D/LW': 'Mixed',\n",
    "    'RW/D': 'Mixed',\n",
    "    'D/C': 'Mixed',\n",
    "    'C/RW/D': 'Mixed',\n",
    "    'W/D': 'Mixed',\n",
    "    'W': 'Forward',\n",
    "    'C/D': 'Mixed'\n",
    "}\n",
    "\n",
    "main['position'] = main['position'].replace(positions)"
   ]
  },
  {
   "cell_type": "markdown",
   "metadata": {},
   "source": [
    "### Subset and reorder"
   ]
  },
  {
   "cell_type": "code",
   "execution_count": 6,
   "metadata": {},
   "outputs": [],
   "source": [
    "reorder = ['ep_id',\n",
    "    'height', 'weight', 'games_played_14', 'goals_14',\n",
    "    'assists_14', 'penalty_min_14', 'plus_minus_14', \n",
    "    'games_played_15', 'goals_15', 'assists_15', \n",
    "    'penalty_min_15', 'plus_minus_15', \n",
    "    'games_played_16', 'goals_16', 'assists_16', 'penalty_min_16', \n",
    "    'plus_minus_16', 'games_played_17', 'goals_17', \n",
    "    'assists_17', 'penalty_min_17', 'plus_minus_17', \n",
    "    'scout_text', 'birth_region', 'position', 'shoots', 'response'\n",
    "]\n",
    "\n",
    "main = main[reorder]"
   ]
  },
  {
   "cell_type": "code",
   "execution_count": 7,
   "metadata": {},
   "outputs": [],
   "source": [
    "main = main.loc[main['weight'] > 40]"
   ]
  },
  {
   "cell_type": "code",
   "execution_count": 8,
   "metadata": {},
   "outputs": [
    {
     "data": {
      "text/plain": [
       "<matplotlib.axes._subplots.AxesSubplot at 0x1e5c8da5e48>"
      ]
     },
     "execution_count": 8,
     "metadata": {},
     "output_type": "execute_result"
    },
    {
     "data": {
      "image/png": "[encoded data removed]",
      "text/plain": [
       "<Figure size 432x288 with 1 Axes>"
      ]
     },
     "metadata": {
      "needs_background": "light"
     },
     "output_type": "display_data"
    }
   ],
   "source": [
    "sns.countplot(y=main['response'])"
   ]
  },
  {
   "cell_type": "code",
   "execution_count": 9,
   "metadata": {},
   "outputs": [
    {
     "data": {
      "text/plain": [
       "Not Active    0.67\n",
       "Lower         0.28\n",
       "NHL           0.04\n",
       "Name: response, dtype: float64"
      ]
     },
     "execution_count": 9,
     "metadata": {},
     "output_type": "execute_result"
    }
   ],
   "source": [
    "round(main.response.value_counts() / len(main), 2)"
   ]
  },
  {
   "cell_type": "code",
   "execution_count": 10,
   "metadata": {},
   "outputs": [
    {
     "data": {
      "image/png": "[encoded data removed]",
      "text/plain": [
       "<Figure size 900x1080 with 1 Axes>"
      ]
     },
     "metadata": {
      "needs_background": "light"
     },
     "output_type": "display_data"
    }
   ],
   "source": [
    "fig, ax = plt.subplots(1, figsize=[12.5, 15])\n",
    "\n",
    "ax = sns.heatmap(main.isnull(), cbar=False)\n",
    "\n",
    "plt.show()"
   ]
  },
  {
   "cell_type": "markdown",
   "metadata": {},
   "source": [
    "### Impute values"
   ]
  },
  {
   "cell_type": "code",
   "execution_count": 11,
   "metadata": {},
   "outputs": [
    {
     "data": {
      "text/plain": [
       "Index(['ep_id', 'height', 'weight', 'games_played_14', 'goals_14',\n",
       "       'assists_14', 'penalty_min_14', 'plus_minus_14', 'games_played_15',\n",
       "       'goals_15', 'assists_15', 'penalty_min_15', 'plus_minus_15',\n",
       "       'games_played_16', 'goals_16', 'assists_16', 'penalty_min_16',\n",
       "       'plus_minus_16', 'games_played_17', 'goals_17', 'assists_17',\n",
       "       'penalty_min_17', 'plus_minus_17', 'scout_text', 'birth_region',\n",
       "       'position', 'shoots', 'response'],\n",
       "      dtype='object')"
      ]
     },
     "execution_count": 11,
     "metadata": {},
     "output_type": "execute_result"
    }
   ],
   "source": [
    "main.columns"
   ]
  },
  {
   "cell_type": "code",
   "execution_count": 12,
   "metadata": {},
   "outputs": [],
   "source": [
    "counts = [\n",
    "    'games_played_14', 'goals_14', 'assists_14', 'penalty_min_14',\n",
    "    'games_played_15', 'goals_15', 'assists_15', 'penalty_min_15',\n",
    "    'games_played_16', 'goals_16', 'assists_16', 'penalty_min_16',\n",
    "    'games_played_17', 'goals_17', 'assists_17', 'penalty_min_17',\n",
    "]\n",
    "\n",
    "plus_minuses = [\n",
    "    'plus_minus_14', 'plus_minus_15', 'plus_minus_16', 'plus_minus_17'\n",
    "]"
   ]
  },
  {
   "cell_type": "code",
   "execution_count": 13,
   "metadata": {},
   "outputs": [],
   "source": [
    "main[counts] = main[counts].replace(np.nan, 0)\n",
    "main[plus_minuses] = main[plus_minuses].replace(np.nan, 0)"
   ]
  },
  {
   "cell_type": "code",
   "execution_count": 14,
   "metadata": {},
   "outputs": [
    {
     "data": {
      "image/png": "[encoded data removed]",
      "text/plain": [
       "<Figure size 900x504 with 1 Axes>"
      ]
     },
     "metadata": {
      "needs_background": "light"
     },
     "output_type": "display_data"
    }
   ],
   "source": [
    "fig, ax = plt.subplots(1, figsize=[12.5, 7])\n",
    "\n",
    "ax = sns.heatmap(main.isnull(), cbar=False)\n",
    "\n",
    "plt.show()"
   ]
  },
  {
   "cell_type": "markdown",
   "metadata": {},
   "source": [
    "## Scouting Reports"
   ]
  },
  {
   "cell_type": "code",
   "execution_count": 15,
   "metadata": {},
   "outputs": [],
   "source": [
    "partial = pd.read_csv('scout_text_partial_label.csv').drop('Unnamed: 0', 1)\n",
    "partial = partial[partial['type'] == 'Yes']\n",
    "response = main[['ep_id', 'response']]\n",
    "partial = pd.merge(partial, response, on='ep_id', how='left')"
   ]
  },
  {
   "cell_type": "code",
   "execution_count": 16,
   "metadata": {},
   "outputs": [
    {
     "name": "stdout",
     "output_type": "stream",
     "text": [
      "<class 'pandas.core.frame.DataFrame'>\n",
      "Int64Index: 647 entries, 0 to 646\n",
      "Data columns (total 4 columns):\n",
      "ep_id         647 non-null int64\n",
      "scout_text    647 non-null object\n",
      "type          647 non-null object\n",
      "response      647 non-null object\n",
      "dtypes: int64(1), object(3)\n",
      "memory usage: 25.3+ KB\n"
     ]
    }
   ],
   "source": [
    "partial.info()"
   ]
  },
  {
   "cell_type": "code",
   "execution_count": 17,
   "metadata": {},
   "outputs": [],
   "source": [
    "def avg_words(sentence):\n",
    "    words = sentence.split()\n",
    "    return round((sum(len(word) for word in words)/len(words)), 2)"
   ]
  },
  {
   "cell_type": "code",
   "execution_count": 18,
   "metadata": {},
   "outputs": [],
   "source": [
    "partial['scout_text'] = partial['scout_text'].apply(lambda x: ' '.join(x.lower() for x in x.split()))\n",
    "partial['scout_text'] = partial['scout_text'].str.replace('[^\\w\\s]','')\n",
    "partial['scout_text'] = partial['scout_text'].apply(lambda x: ' '.join(x for x in x.split() if x not in stop))"
   ]
  },
  {
   "cell_type": "code",
   "execution_count": 19,
   "metadata": {},
   "outputs": [],
   "source": [
    "partial['word_count'] = partial['scout_text'].apply(lambda x: len(str(x).split(' ')))\n",
    "partial['char_count'] = partial['scout_text'].str.len()\n",
    "partial['avg_word'] = partial['scout_text'].apply(lambda x: avg_words(x))\n",
    "partial['stop_words'] = partial['scout_text'].apply(lambda x: len([x for x in x.split() if x in stop]))\n",
    "partial['upper'] = partial['scout_text'].apply(lambda x: len([x for x in x.split() if x.isupper()]))"
   ]
  },
  {
   "cell_type": "code",
   "execution_count": 20,
   "metadata": {},
   "outputs": [],
   "source": [
    "freq = pd.Series(' '.join(partial['scout_text']).split()).value_counts()[:10]"
   ]
  },
  {
   "cell_type": "code",
   "execution_count": 21,
   "metadata": {},
   "outputs": [],
   "source": [
    "freq = list(freq.index)\n",
    "partial['scout_text'] = partial['scout_text'].apply(lambda x: ' '.join(x for x in x.split() if x not in freq))"
   ]
  },
  {
   "cell_type": "code",
   "execution_count": 22,
   "metadata": {},
   "outputs": [],
   "source": [
    "freq = pd.Series(' '.join(partial['scout_text']).split()).value_counts()[-1636:]"
   ]
  },
  {
   "cell_type": "code",
   "execution_count": 23,
   "metadata": {},
   "outputs": [],
   "source": [
    "freq = list(freq.index)\n",
    "partial['scout_text'] = partial['scout_text'].apply(lambda x: ' '.join(x for x in x.split() if x not in freq))"
   ]
  },
  {
   "cell_type": "code",
   "execution_count": 24,
   "metadata": {},
   "outputs": [],
   "source": [
    "#partial['scout_text'] = partial['scout_text'].apply(lambda x: str(TextBlob(x).correct()))"
   ]
  },
  {
   "cell_type": "code",
   "execution_count": 25,
   "metadata": {},
   "outputs": [
    {
     "data": {
      "text/plain": [
       "WordList(['mcmillan', 'working', 'winger', 'decent', 'hands', 'hockey', 'sense', 'could', 'improve', 'skating', 'speed', 'erik', 'k', 'piri'])"
      ]
     },
     "execution_count": 25,
     "metadata": {},
     "output_type": "execute_result"
    }
   ],
   "source": [
    "TextBlob(partial['scout_text'][1]).words"
   ]
  },
  {
   "cell_type": "code",
   "execution_count": 26,
   "metadata": {},
   "outputs": [],
   "source": [
    "st = PorterStemmer()\n",
    "partial['scout_text'] = partial['scout_text'].apply(lambda x: ' '.join([st.stem(word) for word in x.split()]))"
   ]
  },
  {
   "cell_type": "code",
   "execution_count": 27,
   "metadata": {},
   "outputs": [],
   "source": [
    "partial['scout_text'] = partial['scout_text'].apply(lambda x: ' '.join([Word(word).lemmatize() for word in x.split()]))"
   ]
  },
  {
   "cell_type": "code",
   "execution_count": 28,
   "metadata": {},
   "outputs": [],
   "source": [
    "partial['sentiment'] = partial['scout_text'].apply(lambda x: TextBlob(x).sentiment[0])"
   ]
  },
  {
   "cell_type": "code",
   "execution_count": 29,
   "metadata": {},
   "outputs": [
    {
     "name": "stdout",
     "output_type": "stream",
     "text": [
      "<class 'pandas.core.frame.DataFrame'>\n",
      "Int64Index: 647 entries, 0 to 646\n",
      "Data columns (total 10 columns):\n",
      "ep_id         647 non-null int64\n",
      "scout_text    647 non-null object\n",
      "type          647 non-null object\n",
      "response      647 non-null object\n",
      "word_count    647 non-null int64\n",
      "char_count    647 non-null int64\n",
      "avg_word      647 non-null float64\n",
      "stop_words    647 non-null int64\n",
      "upper         647 non-null int64\n",
      "sentiment     647 non-null float64\n",
      "dtypes: float64(2), int64(5), object(3)\n",
      "memory usage: 75.6+ KB\n"
     ]
    }
   ],
   "source": [
    "partial.info()"
   ]
  },
  {
   "cell_type": "code",
   "execution_count": 30,
   "metadata": {},
   "outputs": [
    {
     "name": "stdout",
     "output_type": "stream",
     "text": [
      "<class 'pandas.core.frame.DataFrame'>\n",
      "Int64Index: 5697 entries, 1 to 6053\n",
      "Data columns (total 28 columns):\n",
      "ep_id              5697 non-null int64\n",
      "height             5697 non-null float64\n",
      "weight             5697 non-null float64\n",
      "games_played_14    5697 non-null float64\n",
      "goals_14           5697 non-null float64\n",
      "assists_14         5697 non-null float64\n",
      "penalty_min_14     5697 non-null float64\n",
      "plus_minus_14      5697 non-null float64\n",
      "games_played_15    5697 non-null float64\n",
      "goals_15           5697 non-null float64\n",
      "assists_15         5697 non-null float64\n",
      "penalty_min_15     5697 non-null float64\n",
      "plus_minus_15      5697 non-null float64\n",
      "games_played_16    5697 non-null float64\n",
      "goals_16           5697 non-null float64\n",
      "assists_16         5697 non-null float64\n",
      "penalty_min_16     5697 non-null float64\n",
      "plus_minus_16      5697 non-null float64\n",
      "games_played_17    5697 non-null float64\n",
      "goals_17           5697 non-null float64\n",
      "assists_17         5697 non-null float64\n",
      "penalty_min_17     5697 non-null float64\n",
      "plus_minus_17      5697 non-null float64\n",
      "scout_text         2033 non-null object\n",
      "birth_region       5697 non-null object\n",
      "position           5697 non-null object\n",
      "shoots             5697 non-null object\n",
      "response           5697 non-null object\n",
      "dtypes: float64(22), int64(1), object(5)\n",
      "memory usage: 1.4+ MB\n"
     ]
    }
   ],
   "source": [
    "main.info()"
   ]
  },
  {
   "cell_type": "code",
   "execution_count": 31,
   "metadata": {},
   "outputs": [
    {
     "data": {
      "text/plain": [
       "<matplotlib.axes._subplots.AxesSubplot at 0x1e5cf52b978>"
      ]
     },
     "execution_count": 31,
     "metadata": {},
     "output_type": "execute_result"
    },
    {
     "data": {
      "image/png": "[encoded data removed]",
      "text/plain": [
       "<Figure size 432x288 with 1 Axes>"
      ]
     },
     "metadata": {
      "needs_background": "light"
     },
     "output_type": "display_data"
    }
   ],
   "source": [
    "sns.distplot(partial['sentiment'])"
   ]
  },
  {
   "cell_type": "code",
   "execution_count": 32,
   "metadata": {},
   "outputs": [
    {
     "data": {
      "text/plain": [
       "<matplotlib.axes._subplots.AxesSubplot at 0x1e5cf4f1f98>"
      ]
     },
     "execution_count": 32,
     "metadata": {},
     "output_type": "execute_result"
    },
    {
     "data": {
      "image/png": "[encoded data removed]",
      "text/plain": [
       "<Figure size 432x288 with 1 Axes>"
      ]
     },
     "metadata": {
      "needs_background": "light"
     },
     "output_type": "display_data"
    }
   ],
   "source": [
    "sns.boxplot(partial['response'], partial['sentiment'])"
   ]
  },
  {
   "cell_type": "code",
   "execution_count": 33,
   "metadata": {},
   "outputs": [],
   "source": [
    "keep = [\n",
    "    'ep_id', 'type', 'word_count', 'char_count', 'avg_word', 'stop_words', 'upper', 'sentiment'\n",
    "]\n",
    "\n",
    "partial = partial[keep]"
   ]
  },
  {
   "cell_type": "code",
   "execution_count": 34,
   "metadata": {},
   "outputs": [],
   "source": [
    "main = pd.merge(main, partial, on='ep_id', how='left')"
   ]
  },
  {
   "cell_type": "code",
   "execution_count": 35,
   "metadata": {},
   "outputs": [],
   "source": [
    "main = main[main['type'] == 'Yes']"
   ]
  },
  {
   "cell_type": "code",
   "execution_count": 36,
   "metadata": {},
   "outputs": [
    {
     "data": {
      "text/plain": [
       "<matplotlib.axes._subplots.AxesSubplot at 0x1e5cf4be128>"
      ]
     },
     "execution_count": 36,
     "metadata": {},
     "output_type": "execute_result"
    },
    {
     "data": {
      "image/png": "[encoded data removed]",
      "text/plain": [
       "<Figure size 432x288 with 1 Axes>"
      ]
     },
     "metadata": {
      "needs_background": "light"
     },
     "output_type": "display_data"
    }
   ],
   "source": [
    "sns.heatmap(main.isnull(), cbar=False)"
   ]
  },
  {
   "cell_type": "code",
   "execution_count": 37,
   "metadata": {},
   "outputs": [
    {
     "name": "stdout",
     "output_type": "stream",
     "text": [
      "<class 'pandas.core.frame.DataFrame'>\n",
      "Int64Index: 647 entries, 6 to 5696\n",
      "Data columns (total 35 columns):\n",
      "ep_id              647 non-null int64\n",
      "height             647 non-null float64\n",
      "weight             647 non-null float64\n",
      "games_played_14    647 non-null float64\n",
      "goals_14           647 non-null float64\n",
      "assists_14         647 non-null float64\n",
      "penalty_min_14     647 non-null float64\n",
      "plus_minus_14      647 non-null float64\n",
      "games_played_15    647 non-null float64\n",
      "goals_15           647 non-null float64\n",
      "assists_15         647 non-null float64\n",
      "penalty_min_15     647 non-null float64\n",
      "plus_minus_15      647 non-null float64\n",
      "games_played_16    647 non-null float64\n",
      "goals_16           647 non-null float64\n",
      "assists_16         647 non-null float64\n",
      "penalty_min_16     647 non-null float64\n",
      "plus_minus_16      647 non-null float64\n",
      "games_played_17    647 non-null float64\n",
      "goals_17           647 non-null float64\n",
      "assists_17         647 non-null float64\n",
      "penalty_min_17     647 non-null float64\n",
      "plus_minus_17      647 non-null float64\n",
      "scout_text         647 non-null object\n",
      "birth_region       647 non-null object\n",
      "position           647 non-null object\n",
      "shoots             647 non-null object\n",
      "response           647 non-null object\n",
      "type               647 non-null object\n",
      "word_count         647 non-null float64\n",
      "char_count         647 non-null float64\n",
      "avg_word           647 non-null float64\n",
      "stop_words         647 non-null float64\n",
      "upper              647 non-null float64\n",
      "sentiment          647 non-null float64\n",
      "dtypes: float64(28), int64(1), object(6)\n",
      "memory usage: 182.0+ KB\n"
     ]
    }
   ],
   "source": [
    "main.info()"
   ]
  },
  {
   "cell_type": "markdown",
   "metadata": {},
   "source": [
    "### Inspect and Export"
   ]
  },
  {
   "cell_type": "code",
   "execution_count": 38,
   "metadata": {},
   "outputs": [],
   "source": [
    "main_test = main.drop(['ep_id', 'scout_text', 'type'], 1)"
   ]
  },
  {
   "cell_type": "code",
   "execution_count": 39,
   "metadata": {},
   "outputs": [
    {
     "name": "stdout",
     "output_type": "stream",
     "text": [
      "<class 'pandas.core.frame.DataFrame'>\n",
      "Int64Index: 647 entries, 6 to 5696\n",
      "Data columns (total 32 columns):\n",
      "height             647 non-null float64\n",
      "weight             647 non-null float64\n",
      "games_played_14    647 non-null float64\n",
      "goals_14           647 non-null float64\n",
      "assists_14         647 non-null float64\n",
      "penalty_min_14     647 non-null float64\n",
      "plus_minus_14      647 non-null float64\n",
      "games_played_15    647 non-null float64\n",
      "goals_15           647 non-null float64\n",
      "assists_15         647 non-null float64\n",
      "penalty_min_15     647 non-null float64\n",
      "plus_minus_15      647 non-null float64\n",
      "games_played_16    647 non-null float64\n",
      "goals_16           647 non-null float64\n",
      "assists_16         647 non-null float64\n",
      "penalty_min_16     647 non-null float64\n",
      "plus_minus_16      647 non-null float64\n",
      "games_played_17    647 non-null float64\n",
      "goals_17           647 non-null float64\n",
      "assists_17         647 non-null float64\n",
      "penalty_min_17     647 non-null float64\n",
      "plus_minus_17      647 non-null float64\n",
      "birth_region       647 non-null object\n",
      "position           647 non-null object\n",
      "shoots             647 non-null object\n",
      "response           647 non-null object\n",
      "word_count         647 non-null float64\n",
      "char_count         647 non-null float64\n",
      "avg_word           647 non-null float64\n",
      "stop_words         647 non-null float64\n",
      "upper              647 non-null float64\n",
      "sentiment          647 non-null float64\n",
      "dtypes: float64(28), object(4)\n",
      "memory usage: 166.8+ KB\n"
     ]
    }
   ],
   "source": [
    "main_test.info()"
   ]
  },
  {
   "cell_type": "code",
   "execution_count": 40,
   "metadata": {},
   "outputs": [],
   "source": [
    "#main_test.to_csv('main_test.csv')"
   ]
  }
 ],
 "metadata": {
  "kernelspec": {
   "display_name": "Python 3",
   "language": "python",
   "name": "python3"
  },
  "language_info": {
   "codemirror_mode": {
    "name": "ipython",
    "version": 3
   },
   "file_extension": ".py",
   "mimetype": "text/x-python",
   "name": "python",
   "nbconvert_exporter": "python",
   "pygments_lexer": "ipython3",
   "version": "3.7.4"
  }
 },
 "nbformat": 4,
 "nbformat_minor": 4
}
