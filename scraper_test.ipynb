{
 "cells": [
  {
   "cell_type": "code",
   "execution_count": 1,
   "metadata": {},
   "outputs": [],
   "source": [
    "from requests import get\n",
    "from bs4 import BeautifulSoup\n",
    "import numpy as np"
   ]
  },
  {
   "cell_type": "code",
   "execution_count": 2,
   "metadata": {},
   "outputs": [],
   "source": [
    "urls = [\n",
    "    'https://www.eliteprospects.com/player/9223/john-tavares',\n",
    "    'https://www.eliteprospects.com/player/40288/nathan-snowie'\n",
    "]\n",
    "\n",
    "scout_reports = []"
   ]
  },
  {
   "cell_type": "code",
   "execution_count": 3,
   "metadata": {},
   "outputs": [],
   "source": [
    "for url in urls:\n",
    "    \n",
    "    response = get(url)\n",
    "    soup = BeautifulSoup(response.text, 'html.parser')\n",
    "    \n",
    "    meta_section = soup.find('section', class_='plyr_details')\n",
    "    \n",
    "    # Scouting text\n",
    "    try:\n",
    "        \n",
    "        scout_text = meta_section.find('div', class_='dtl-txt').text.strip()\n",
    "        \n",
    "    except:\n",
    "        \n",
    "        scout_text = np.nan\n",
    "               \n",
    "    scout_reports.append(scout_text)"
   ]
  },
  {
   "cell_type": "code",
   "execution_count": 4,
   "metadata": {},
   "outputs": [
    {
     "data": {
      "text/plain": [
       "[\"Tavares has excellent offensive instincts and has a fantastic ability to find open space in his team's offensive zone. His shot is already on a high level in NHL standards and his stickhandling is phenomenal. Tavares isn't the best skater but he is always explosive after entering the opposing team's zone. (Matias Strozyk)\\r\\n\\r\\nCousin: Quinn Tavares\",\n",
       " nan]"
      ]
     },
     "execution_count": 4,
     "metadata": {},
     "output_type": "execute_result"
    }
   ],
   "source": [
    "scout_reports"
   ]
  },
  {
   "cell_type": "code",
   "execution_count": null,
   "metadata": {},
   "outputs": [],
   "source": [
    "# Setup iteratble list for player profile href links\n",
    "with open('listfile.data', 'rb') as filehandle:\n",
    "    urls = pickle.load(filehandle)\n"
   ]
  },
  {
   "cell_type": "code",
   "execution_count": null,
   "metadata": {},
   "outputs": [],
   "source": [
    "urls"
   ]
  },
  {
   "cell_type": "code",
   "execution_count": null,
   "metadata": {},
   "outputs": [],
   "source": [
    "len(urls)"
   ]
  },
  {
   "cell_type": "code",
   "execution_count": null,
   "metadata": {},
   "outputs": [],
   "source": []
  }
 ],
 "metadata": {
  "kernelspec": {
   "display_name": "Python 3",
   "language": "python",
   "name": "python3"
  },
  "language_info": {
   "codemirror_mode": {
    "name": "ipython",
    "version": 3
   },
   "file_extension": ".py",
   "mimetype": "text/x-python",
   "name": "python",
   "nbconvert_exporter": "python",
   "pygments_lexer": "ipython3",
   "version": "3.7.3"
  }
 },
 "nbformat": 4,
 "nbformat_minor": 2
}
